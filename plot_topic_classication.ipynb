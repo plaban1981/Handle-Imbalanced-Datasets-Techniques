{
  "cells": [
    {
      "outputs": [],
      "cell_type": "code",
      "metadata": {
        "collapsed": false
      },
      "source": [
        "%matplotlib inline"
      ],
      "execution_count": null
    },
    {
      "cell_type": "markdown",
      "metadata": {},
      "source": [
        "\n# Example of topic classification in text documents\n\n\nThis example shows how to balance the text data before to train a classifier.\n\nNote that for this example, the data are slightly imbalanced but it can happen\nthat for some data sets, the imbalanced ratio is more significant.\n\n\n"
      ]
    },
    {
      "outputs": [],
      "cell_type": "code",
      "metadata": {
        "collapsed": false
      },
      "source": [
        "# Authors: Guillaume Lemaitre <g.lemaitre58@gmail.com>\n# License: MIT\n\nfrom collections import Counter\n\nfrom sklearn.datasets import fetch_20newsgroups\nfrom sklearn.feature_extraction.text import TfidfVectorizer\nfrom sklearn.naive_bayes import MultinomialNB\nfrom sklearn.pipeline import make_pipeline\n\nfrom imblearn.under_sampling import RandomUnderSampler\nfrom imblearn.pipeline import make_pipeline as make_pipeline_imb\nfrom imblearn.metrics import classification_report_imbalanced\n\nprint(__doc__)"
      ],
      "execution_count": null
    },
    {
      "cell_type": "markdown",
      "metadata": {},
      "source": [
        "Setting the data set\n##############################################################################\n\n"
      ]
    },
    {
      "cell_type": "markdown",
      "metadata": {},
      "source": [
        "We use a part of the 20 newsgroups data set by loading 4 topics. Using the\nscikit-learn loader, the data are split into a training and a testing set.\n\nNote the class \\#3 is the minority class and has almost twice less samples\nthan the majority class.\n\n"
      ]
    },
    {
      "outputs": [],
      "cell_type": "code",
      "metadata": {
        "collapsed": false
      },
      "source": [
        "categories = ['alt.atheism', 'talk.religion.misc',\n              'comp.graphics', 'sci.space']\nnewsgroups_train = fetch_20newsgroups(subset='train',\n                                      categories=categories)\nnewsgroups_test = fetch_20newsgroups(subset='test',\n                                     categories=categories)\n\nX_train = newsgroups_train.data\nX_test = newsgroups_test.data\n\ny_train = newsgroups_train.target\ny_test = newsgroups_test.target\n\nprint('Training class distributions summary: {}'.format(Counter(y_train)))\nprint('Test class distributions summary: {}'.format(Counter(y_test)))"
      ],
      "execution_count": null
    },
    {
      "cell_type": "markdown",
      "metadata": {},
      "source": [
        "The usual scikit-learn pipeline\n##############################################################################\n\n"
      ]
    },
    {
      "cell_type": "markdown",
      "metadata": {},
      "source": [
        "You might usually use scikit-learn pipeline by combining the TF-IDF\nvectorizer to feed a multinomial naive bayes classifier. A classification\nreport summarized the results on the testing set.\n\nAs expected, the recall of the class \\#3 is low mainly due to the class\nimbalanced.\n\n"
      ]
    },
    {
      "outputs": [],
      "cell_type": "code",
      "metadata": {
        "collapsed": false
      },
      "source": [
        "pipe = make_pipeline(TfidfVectorizer(), MultinomialNB())\npipe.fit(X_train, y_train)\ny_pred = pipe.predict(X_test)\n\nprint(classification_report_imbalanced(y_test, y_pred))"
      ],
      "execution_count": null
    },
    {
      "cell_type": "markdown",
      "metadata": {},
      "source": [
        "Balancing the class before classification\n##############################################################################\n\n"
      ]
    },
    {
      "cell_type": "markdown",
      "metadata": {},
      "source": [
        "To improve the prediction of the class \\#3, it could be interesting to apply\na balancing before to train the naive bayes classifier. Therefore, we will\nuse a ``RandomUnderSampler`` to equalize the number of samples in all the\nclasses before the training.\n\nIt is also important to note that we are using the ``make_pipeline`` function\nimplemented in imbalanced-learn to properly handle the samplers.\n\n"
      ]
    },
    {
      "outputs": [],
      "cell_type": "code",
      "metadata": {
        "collapsed": false
      },
      "source": [
        "pipe = make_pipeline_imb(TfidfVectorizer(),\n                         RandomUnderSampler(),\n                         MultinomialNB())\n\npipe.fit(X_train, y_train)\ny_pred = pipe.predict(X_test)"
      ],
      "execution_count": null
    },
    {
      "cell_type": "markdown",
      "metadata": {},
      "source": [
        "Although the results are almost identical, it can be seen that the resampling\nallowed to correct the poor recall of the class \\#3 at the cost of reducing\nthe other metrics for the other classes. However, the overall results are\nslightly better.\n\n"
      ]
    },
    {
      "outputs": [],
      "cell_type": "code",
      "metadata": {
        "collapsed": false
      },
      "source": [
        "print(classification_report_imbalanced(y_test, y_pred))"
      ],
      "execution_count": null
    }
  ],
  "metadata": {
    "kernelspec": {
      "name": "python3",
      "display_name": "Python 3",
      "language": "python"
    },
    "language_info": {
      "version": "3.5.2",
      "file_extension": ".py",
      "name": "python",
      "pygments_lexer": "ipython3",
      "nbconvert_exporter": "python",
      "mimetype": "text/x-python",
      "codemirror_mode": {
        "name": "ipython",
        "version": 3
      }
    }
  },
  "nbformat_minor": 0,
  "nbformat": 4
}