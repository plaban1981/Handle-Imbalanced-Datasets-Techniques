{
  "nbformat": 4,
  "nbformat_minor": 0,
  "metadata": {
    "colab": {
      "name": "Underwriting.ipynb",
      "version": "0.3.2",
      "provenance": [],
      "toc_visible": true,
      "include_colab_link": true
    },
    "language_info": {
      "codemirror_mode": {
        "name": "ipython",
        "version": 3
      },
      "file_extension": ".py",
      "mimetype": "text/x-python",
      "name": "python",
      "nbconvert_exporter": "python",
      "pygments_lexer": "ipython3",
      "version": "3.6.6"
    },
    "kernelspec": {
      "name": "python3",
      "display_name": "Python 3"
    },
    "accelerator": "GPU"
  },
  "cells": [
    {
      "cell_type": "markdown",
      "metadata": {
        "id": "view-in-github",
        "colab_type": "text"
      },
      "source": [
        "<a href=\"https://colab.research.google.com/github/plaban1981/Handle-Imbalanced-Datasets-Techniques/blob/master/Underwriting.ipynb\" target=\"_parent\"><img src=\"https://colab.research.google.com/assets/colab-badge.svg\" alt=\"Open In Colab\"/></a>"
      ]
    },
    {
      "metadata": {
        "id": "Hglf2sHNvsyt",
        "colab_type": "text"
      },
      "cell_type": "markdown",
      "source": [
        "# Context\n",
        "\n",
        "Underwriting (UW) is perhaps one of the most critical functions of Insurance Industry. Significant amount of cost and efforts are dedicated for this. With the advent of widespread use of Artificial Intelligence, there has been lot of interest in leveraging AI for UW. It has the potential to become a potent aid for Underwriters - less need of UW Resources per application, expedited UW processes, significant Cost and time savings. \n"
      ]
    },
    {
      "metadata": {
        "id": "b1vuL4stvsyv",
        "colab_type": "text"
      },
      "cell_type": "markdown",
      "source": [
        "# Problem Description\n",
        "\n",
        "\n",
        "Prudential Life Insurance made available their UW dataset for 60,000 customers. \n",
        "\n",
        "The dataset had 8 risk classes, coded as 1 to 8, with 1 being the highest risk. \n",
        "\n",
        "\n",
        "There are 126 inputs available, pertaining to health, weight, medical test, employment history, family history etc. \n",
        "\n",
        "\n",
        "The variables are masked by naming them in generic fashion like MEDICAL_KEYWORD, EMPLOYEMENT_INFO etc. \n",
        "\n",
        "\n",
        "\n",
        "#### The objective is to develop a predictive model which can classify these risk classes with very high degree of accuracy, maintaining reasonably high precision and recall within each classes. \n"
      ]
    },
    {
      "metadata": {
        "id": "rmLOVx8Wvsyx",
        "colab_type": "code",
        "colab": {}
      },
      "cell_type": "code",
      "source": [
        "import pandas as pd\n",
        "import numpy as np\n",
        "import matplotlib.pyplot as plt\n",
        "import seaborn as sns\n",
        "%matplotlib inline"
      ],
      "execution_count": 0,
      "outputs": []
    },
    {
      "metadata": {
        "id": "-EnB36nSvsy4",
        "colab_type": "code",
        "colab": {}
      },
      "cell_type": "code",
      "source": [
        "df_train = pd.read_csv('train.csv')\n",
        "df_test = pd.read_csv('test.csv')"
      ],
      "execution_count": 0,
      "outputs": []
    },
    {
      "metadata": {
        "id": "eO69zT36vsy-",
        "colab_type": "code",
        "colab": {
          "base_uri": "https://localhost:8080/",
          "height": 102
        },
        "outputId": "2e5e2748-6287-4ee1-8951-fd317eb05178"
      },
      "cell_type": "code",
      "source": [
        "df_train.info()"
      ],
      "execution_count": 48,
      "outputs": [
        {
          "output_type": "stream",
          "text": [
            "<class 'pandas.core.frame.DataFrame'>\n",
            "RangeIndex: 59381 entries, 0 to 59380\n",
            "Columns: 128 entries, Id to Response\n",
            "dtypes: float64(13), int64(114), object(1)\n",
            "memory usage: 58.0+ MB\n"
          ],
          "name": "stdout"
        }
      ]
    },
    {
      "metadata": {
        "id": "kK3NGzR2xltj",
        "colab_type": "code",
        "colab": {
          "base_uri": "https://localhost:8080/",
          "height": 1071
        },
        "outputId": "4abb3abf-743a-432e-b0fb-602525e6bda8"
      },
      "cell_type": "code",
      "source": [
        "df_train.dtypes"
      ],
      "execution_count": 49,
      "outputs": [
        {
          "output_type": "execute_result",
          "data": {
            "text/plain": [
              "Id                       int64\n",
              "Product_Info_1           int64\n",
              "Product_Info_2          object\n",
              "Product_Info_3           int64\n",
              "Product_Info_4         float64\n",
              "Product_Info_5           int64\n",
              "Product_Info_6           int64\n",
              "Product_Info_7           int64\n",
              "Ins_Age                float64\n",
              "Ht                     float64\n",
              "Wt                     float64\n",
              "BMI                    float64\n",
              "Employment_Info_1      float64\n",
              "Employment_Info_2        int64\n",
              "Employment_Info_3        int64\n",
              "Employment_Info_4      float64\n",
              "Employment_Info_5        int64\n",
              "Employment_Info_6      float64\n",
              "InsuredInfo_1            int64\n",
              "InsuredInfo_2            int64\n",
              "InsuredInfo_3            int64\n",
              "InsuredInfo_4            int64\n",
              "InsuredInfo_5            int64\n",
              "InsuredInfo_6            int64\n",
              "InsuredInfo_7            int64\n",
              "Insurance_History_1      int64\n",
              "Insurance_History_2      int64\n",
              "Insurance_History_3      int64\n",
              "Insurance_History_4      int64\n",
              "Insurance_History_5    float64\n",
              "                        ...   \n",
              "Medical_Keyword_20       int64\n",
              "Medical_Keyword_21       int64\n",
              "Medical_Keyword_22       int64\n",
              "Medical_Keyword_23       int64\n",
              "Medical_Keyword_24       int64\n",
              "Medical_Keyword_25       int64\n",
              "Medical_Keyword_26       int64\n",
              "Medical_Keyword_27       int64\n",
              "Medical_Keyword_28       int64\n",
              "Medical_Keyword_29       int64\n",
              "Medical_Keyword_30       int64\n",
              "Medical_Keyword_31       int64\n",
              "Medical_Keyword_32       int64\n",
              "Medical_Keyword_33       int64\n",
              "Medical_Keyword_34       int64\n",
              "Medical_Keyword_35       int64\n",
              "Medical_Keyword_36       int64\n",
              "Medical_Keyword_37       int64\n",
              "Medical_Keyword_38       int64\n",
              "Medical_Keyword_39       int64\n",
              "Medical_Keyword_40       int64\n",
              "Medical_Keyword_41       int64\n",
              "Medical_Keyword_42       int64\n",
              "Medical_Keyword_43       int64\n",
              "Medical_Keyword_44       int64\n",
              "Medical_Keyword_45       int64\n",
              "Medical_Keyword_46       int64\n",
              "Medical_Keyword_47       int64\n",
              "Medical_Keyword_48       int64\n",
              "Response                 int64\n",
              "Length: 128, dtype: object"
            ]
          },
          "metadata": {
            "tags": []
          },
          "execution_count": 49
        }
      ]
    },
    {
      "metadata": {
        "id": "OHwMakfe158i",
        "colab_type": "code",
        "colab": {
          "base_uri": "https://localhost:8080/",
          "height": 85
        },
        "outputId": "3a9130f9-efc4-4491-bd9b-1e15c9026390"
      },
      "cell_type": "code",
      "source": [
        "df_train.dtypes.value_counts()"
      ],
      "execution_count": 50,
      "outputs": [
        {
          "output_type": "execute_result",
          "data": {
            "text/plain": [
              "int64      114\n",
              "float64     13\n",
              "object       1\n",
              "dtype: int64"
            ]
          },
          "metadata": {
            "tags": []
          },
          "execution_count": 50
        }
      ]
    },
    {
      "metadata": {
        "id": "XHwvizxfxWkZ",
        "colab_type": "code",
        "colab": {
          "base_uri": "https://localhost:8080/",
          "height": 34
        },
        "outputId": "47440731-f96c-4641-9e7f-4dff2233ffbc"
      },
      "cell_type": "code",
      "source": [
        "string_cols = []\n",
        "for i in df_train.columns:\n",
        "  if df_train[i].dtypes == 'object':\n",
        "    string_cols.append(i)\n",
        "string_cols"
      ],
      "execution_count": 51,
      "outputs": [
        {
          "output_type": "execute_result",
          "data": {
            "text/plain": [
              "['Product_Info_2']"
            ]
          },
          "metadata": {
            "tags": []
          },
          "execution_count": 51
        }
      ]
    },
    {
      "metadata": {
        "id": "xcX2z--f1IL_",
        "colab_type": "code",
        "colab": {
          "base_uri": "https://localhost:8080/",
          "height": 34
        },
        "outputId": "31d7a3e3-974e-4140-c683-b65bd968313f"
      },
      "cell_type": "code",
      "source": [
        "df_train.shape"
      ],
      "execution_count": 52,
      "outputs": [
        {
          "output_type": "execute_result",
          "data": {
            "text/plain": [
              "(59381, 128)"
            ]
          },
          "metadata": {
            "tags": []
          },
          "execution_count": 52
        }
      ]
    },
    {
      "metadata": {
        "id": "TMdgSnI22JCR",
        "colab_type": "code",
        "colab": {
          "base_uri": "https://localhost:8080/",
          "height": 34
        },
        "outputId": "1abbbc99-a318-4ede-cd05-38a17b330563"
      },
      "cell_type": "code",
      "source": [
        "df_test.shape"
      ],
      "execution_count": 53,
      "outputs": [
        {
          "output_type": "execute_result",
          "data": {
            "text/plain": [
              "(19765, 127)"
            ]
          },
          "metadata": {
            "tags": []
          },
          "execution_count": 53
        }
      ]
    },
    {
      "metadata": {
        "id": "DPZT1WxivszI",
        "colab_type": "text"
      },
      "cell_type": "markdown",
      "source": [
        "#### checking for null values"
      ]
    },
    {
      "metadata": {
        "id": "asRSwaO0vszK",
        "colab_type": "code",
        "colab": {
          "base_uri": "https://localhost:8080/",
          "height": 34
        },
        "outputId": "60c62ab0-cf34-43fd-d28a-bcc8792958ad"
      },
      "cell_type": "code",
      "source": [
        "df_train.isnull().sum()[df_train.isnull().sum() !=0]"
      ],
      "execution_count": 54,
      "outputs": [
        {
          "output_type": "execute_result",
          "data": {
            "text/plain": [
              "Series([], dtype: int64)"
            ]
          },
          "metadata": {
            "tags": []
          },
          "execution_count": 54
        }
      ]
    },
    {
      "metadata": {
        "id": "T-CiFxWM4l2y",
        "colab_type": "text"
      },
      "cell_type": "markdown",
      "source": [
        "**No null Values detected in the training set**"
      ]
    },
    {
      "metadata": {
        "id": "YskIKcHa5KXb",
        "colab_type": "text"
      },
      "cell_type": "markdown",
      "source": [
        "**This implies that test data has null values**"
      ]
    },
    {
      "metadata": {
        "id": "fpK8I53gvszR",
        "colab_type": "code",
        "colab": {
          "base_uri": "https://localhost:8080/",
          "height": 253
        },
        "outputId": "0c2d285f-23f2-4468-bfb6-3a725b24f375"
      },
      "cell_type": "code",
      "source": [
        "df_train.head()"
      ],
      "execution_count": 55,
      "outputs": [
        {
          "output_type": "execute_result",
          "data": {
            "text/html": [
              "<div>\n",
              "<style scoped>\n",
              "    .dataframe tbody tr th:only-of-type {\n",
              "        vertical-align: middle;\n",
              "    }\n",
              "\n",
              "    .dataframe tbody tr th {\n",
              "        vertical-align: top;\n",
              "    }\n",
              "\n",
              "    .dataframe thead th {\n",
              "        text-align: right;\n",
              "    }\n",
              "</style>\n",
              "<table border=\"1\" class=\"dataframe\">\n",
              "  <thead>\n",
              "    <tr style=\"text-align: right;\">\n",
              "      <th></th>\n",
              "      <th>Id</th>\n",
              "      <th>Product_Info_1</th>\n",
              "      <th>Product_Info_2</th>\n",
              "      <th>Product_Info_3</th>\n",
              "      <th>Product_Info_4</th>\n",
              "      <th>Product_Info_5</th>\n",
              "      <th>Product_Info_6</th>\n",
              "      <th>Product_Info_7</th>\n",
              "      <th>Ins_Age</th>\n",
              "      <th>Ht</th>\n",
              "      <th>...</th>\n",
              "      <th>Medical_Keyword_40</th>\n",
              "      <th>Medical_Keyword_41</th>\n",
              "      <th>Medical_Keyword_42</th>\n",
              "      <th>Medical_Keyword_43</th>\n",
              "      <th>Medical_Keyword_44</th>\n",
              "      <th>Medical_Keyword_45</th>\n",
              "      <th>Medical_Keyword_46</th>\n",
              "      <th>Medical_Keyword_47</th>\n",
              "      <th>Medical_Keyword_48</th>\n",
              "      <th>Response</th>\n",
              "    </tr>\n",
              "  </thead>\n",
              "  <tbody>\n",
              "    <tr>\n",
              "      <th>0</th>\n",
              "      <td>2</td>\n",
              "      <td>1</td>\n",
              "      <td>D3</td>\n",
              "      <td>10</td>\n",
              "      <td>0.076923</td>\n",
              "      <td>2</td>\n",
              "      <td>1</td>\n",
              "      <td>1</td>\n",
              "      <td>0.641791</td>\n",
              "      <td>0.581818</td>\n",
              "      <td>...</td>\n",
              "      <td>0</td>\n",
              "      <td>0</td>\n",
              "      <td>0</td>\n",
              "      <td>0</td>\n",
              "      <td>0</td>\n",
              "      <td>0</td>\n",
              "      <td>0</td>\n",
              "      <td>0</td>\n",
              "      <td>0</td>\n",
              "      <td>8</td>\n",
              "    </tr>\n",
              "    <tr>\n",
              "      <th>1</th>\n",
              "      <td>5</td>\n",
              "      <td>1</td>\n",
              "      <td>A1</td>\n",
              "      <td>26</td>\n",
              "      <td>0.076923</td>\n",
              "      <td>2</td>\n",
              "      <td>3</td>\n",
              "      <td>1</td>\n",
              "      <td>0.059701</td>\n",
              "      <td>0.600000</td>\n",
              "      <td>...</td>\n",
              "      <td>0</td>\n",
              "      <td>0</td>\n",
              "      <td>0</td>\n",
              "      <td>0</td>\n",
              "      <td>0</td>\n",
              "      <td>0</td>\n",
              "      <td>0</td>\n",
              "      <td>0</td>\n",
              "      <td>0</td>\n",
              "      <td>4</td>\n",
              "    </tr>\n",
              "    <tr>\n",
              "      <th>2</th>\n",
              "      <td>6</td>\n",
              "      <td>1</td>\n",
              "      <td>E1</td>\n",
              "      <td>26</td>\n",
              "      <td>0.076923</td>\n",
              "      <td>2</td>\n",
              "      <td>3</td>\n",
              "      <td>1</td>\n",
              "      <td>0.029851</td>\n",
              "      <td>0.745455</td>\n",
              "      <td>...</td>\n",
              "      <td>0</td>\n",
              "      <td>0</td>\n",
              "      <td>0</td>\n",
              "      <td>0</td>\n",
              "      <td>0</td>\n",
              "      <td>0</td>\n",
              "      <td>0</td>\n",
              "      <td>0</td>\n",
              "      <td>0</td>\n",
              "      <td>8</td>\n",
              "    </tr>\n",
              "    <tr>\n",
              "      <th>3</th>\n",
              "      <td>7</td>\n",
              "      <td>1</td>\n",
              "      <td>D4</td>\n",
              "      <td>10</td>\n",
              "      <td>0.487179</td>\n",
              "      <td>2</td>\n",
              "      <td>3</td>\n",
              "      <td>1</td>\n",
              "      <td>0.164179</td>\n",
              "      <td>0.672727</td>\n",
              "      <td>...</td>\n",
              "      <td>0</td>\n",
              "      <td>0</td>\n",
              "      <td>0</td>\n",
              "      <td>0</td>\n",
              "      <td>0</td>\n",
              "      <td>0</td>\n",
              "      <td>0</td>\n",
              "      <td>0</td>\n",
              "      <td>0</td>\n",
              "      <td>8</td>\n",
              "    </tr>\n",
              "    <tr>\n",
              "      <th>4</th>\n",
              "      <td>8</td>\n",
              "      <td>1</td>\n",
              "      <td>D2</td>\n",
              "      <td>26</td>\n",
              "      <td>0.230769</td>\n",
              "      <td>2</td>\n",
              "      <td>3</td>\n",
              "      <td>1</td>\n",
              "      <td>0.417910</td>\n",
              "      <td>0.654545</td>\n",
              "      <td>...</td>\n",
              "      <td>0</td>\n",
              "      <td>0</td>\n",
              "      <td>0</td>\n",
              "      <td>0</td>\n",
              "      <td>0</td>\n",
              "      <td>0</td>\n",
              "      <td>0</td>\n",
              "      <td>0</td>\n",
              "      <td>0</td>\n",
              "      <td>8</td>\n",
              "    </tr>\n",
              "  </tbody>\n",
              "</table>\n",
              "<p>5 rows × 128 columns</p>\n",
              "</div>"
            ],
            "text/plain": [
              "   Id  Product_Info_1 Product_Info_2  Product_Info_3  Product_Info_4  \\\n",
              "0   2               1             D3              10        0.076923   \n",
              "1   5               1             A1              26        0.076923   \n",
              "2   6               1             E1              26        0.076923   \n",
              "3   7               1             D4              10        0.487179   \n",
              "4   8               1             D2              26        0.230769   \n",
              "\n",
              "   Product_Info_5  Product_Info_6  Product_Info_7   Ins_Age        Ht  \\\n",
              "0               2               1               1  0.641791  0.581818   \n",
              "1               2               3               1  0.059701  0.600000   \n",
              "2               2               3               1  0.029851  0.745455   \n",
              "3               2               3               1  0.164179  0.672727   \n",
              "4               2               3               1  0.417910  0.654545   \n",
              "\n",
              "     ...     Medical_Keyword_40  Medical_Keyword_41  Medical_Keyword_42  \\\n",
              "0    ...                      0                   0                   0   \n",
              "1    ...                      0                   0                   0   \n",
              "2    ...                      0                   0                   0   \n",
              "3    ...                      0                   0                   0   \n",
              "4    ...                      0                   0                   0   \n",
              "\n",
              "   Medical_Keyword_43  Medical_Keyword_44  Medical_Keyword_45  \\\n",
              "0                   0                   0                   0   \n",
              "1                   0                   0                   0   \n",
              "2                   0                   0                   0   \n",
              "3                   0                   0                   0   \n",
              "4                   0                   0                   0   \n",
              "\n",
              "   Medical_Keyword_46  Medical_Keyword_47  Medical_Keyword_48  Response  \n",
              "0                   0                   0                   0         8  \n",
              "1                   0                   0                   0         4  \n",
              "2                   0                   0                   0         8  \n",
              "3                   0                   0                   0         8  \n",
              "4                   0                   0                   0         8  \n",
              "\n",
              "[5 rows x 128 columns]"
            ]
          },
          "metadata": {
            "tags": []
          },
          "execution_count": 55
        }
      ]
    },
    {
      "metadata": {
        "id": "B24c6Lww55XE",
        "colab_type": "code",
        "colab": {
          "base_uri": "https://localhost:8080/",
          "height": 346
        },
        "outputId": "46c7eaf0-b32b-4be3-9e11-34c2f30d5fad"
      },
      "cell_type": "code",
      "source": [
        "df_train.describe()"
      ],
      "execution_count": 56,
      "outputs": [
        {
          "output_type": "execute_result",
          "data": {
            "text/html": [
              "<div>\n",
              "<style scoped>\n",
              "    .dataframe tbody tr th:only-of-type {\n",
              "        vertical-align: middle;\n",
              "    }\n",
              "\n",
              "    .dataframe tbody tr th {\n",
              "        vertical-align: top;\n",
              "    }\n",
              "\n",
              "    .dataframe thead th {\n",
              "        text-align: right;\n",
              "    }\n",
              "</style>\n",
              "<table border=\"1\" class=\"dataframe\">\n",
              "  <thead>\n",
              "    <tr style=\"text-align: right;\">\n",
              "      <th></th>\n",
              "      <th>Id</th>\n",
              "      <th>Product_Info_1</th>\n",
              "      <th>Product_Info_3</th>\n",
              "      <th>Product_Info_4</th>\n",
              "      <th>Product_Info_5</th>\n",
              "      <th>Product_Info_6</th>\n",
              "      <th>Product_Info_7</th>\n",
              "      <th>Ins_Age</th>\n",
              "      <th>Ht</th>\n",
              "      <th>Wt</th>\n",
              "      <th>...</th>\n",
              "      <th>Medical_Keyword_40</th>\n",
              "      <th>Medical_Keyword_41</th>\n",
              "      <th>Medical_Keyword_42</th>\n",
              "      <th>Medical_Keyword_43</th>\n",
              "      <th>Medical_Keyword_44</th>\n",
              "      <th>Medical_Keyword_45</th>\n",
              "      <th>Medical_Keyword_46</th>\n",
              "      <th>Medical_Keyword_47</th>\n",
              "      <th>Medical_Keyword_48</th>\n",
              "      <th>Response</th>\n",
              "    </tr>\n",
              "  </thead>\n",
              "  <tbody>\n",
              "    <tr>\n",
              "      <th>count</th>\n",
              "      <td>59381.000000</td>\n",
              "      <td>59381.000000</td>\n",
              "      <td>59381.000000</td>\n",
              "      <td>59381.000000</td>\n",
              "      <td>59381.000000</td>\n",
              "      <td>59381.000000</td>\n",
              "      <td>59381.000000</td>\n",
              "      <td>59381.000000</td>\n",
              "      <td>59381.000000</td>\n",
              "      <td>59381.000000</td>\n",
              "      <td>...</td>\n",
              "      <td>59381.000000</td>\n",
              "      <td>59381.000000</td>\n",
              "      <td>59381.000000</td>\n",
              "      <td>59381.000000</td>\n",
              "      <td>59381.000000</td>\n",
              "      <td>59381.000000</td>\n",
              "      <td>59381.000000</td>\n",
              "      <td>59381.000000</td>\n",
              "      <td>59381.000000</td>\n",
              "      <td>59381.000000</td>\n",
              "    </tr>\n",
              "    <tr>\n",
              "      <th>mean</th>\n",
              "      <td>39507.211515</td>\n",
              "      <td>1.026355</td>\n",
              "      <td>24.415655</td>\n",
              "      <td>0.328952</td>\n",
              "      <td>2.006955</td>\n",
              "      <td>2.673599</td>\n",
              "      <td>1.043583</td>\n",
              "      <td>0.405567</td>\n",
              "      <td>0.707283</td>\n",
              "      <td>0.292587</td>\n",
              "      <td>...</td>\n",
              "      <td>0.056954</td>\n",
              "      <td>0.010054</td>\n",
              "      <td>0.045536</td>\n",
              "      <td>0.010710</td>\n",
              "      <td>0.007528</td>\n",
              "      <td>0.013691</td>\n",
              "      <td>0.008488</td>\n",
              "      <td>0.019905</td>\n",
              "      <td>0.054496</td>\n",
              "      <td>5.636837</td>\n",
              "    </tr>\n",
              "    <tr>\n",
              "      <th>std</th>\n",
              "      <td>22815.883089</td>\n",
              "      <td>0.160191</td>\n",
              "      <td>5.072885</td>\n",
              "      <td>0.282562</td>\n",
              "      <td>0.083107</td>\n",
              "      <td>0.739103</td>\n",
              "      <td>0.291949</td>\n",
              "      <td>0.197190</td>\n",
              "      <td>0.074239</td>\n",
              "      <td>0.089037</td>\n",
              "      <td>...</td>\n",
              "      <td>0.231757</td>\n",
              "      <td>0.099764</td>\n",
              "      <td>0.208479</td>\n",
              "      <td>0.102937</td>\n",
              "      <td>0.086436</td>\n",
              "      <td>0.116207</td>\n",
              "      <td>0.091737</td>\n",
              "      <td>0.139676</td>\n",
              "      <td>0.226995</td>\n",
              "      <td>2.456833</td>\n",
              "    </tr>\n",
              "    <tr>\n",
              "      <th>min</th>\n",
              "      <td>2.000000</td>\n",
              "      <td>1.000000</td>\n",
              "      <td>1.000000</td>\n",
              "      <td>0.000000</td>\n",
              "      <td>2.000000</td>\n",
              "      <td>1.000000</td>\n",
              "      <td>1.000000</td>\n",
              "      <td>0.000000</td>\n",
              "      <td>0.000000</td>\n",
              "      <td>0.000000</td>\n",
              "      <td>...</td>\n",
              "      <td>0.000000</td>\n",
              "      <td>0.000000</td>\n",
              "      <td>0.000000</td>\n",
              "      <td>0.000000</td>\n",
              "      <td>0.000000</td>\n",
              "      <td>0.000000</td>\n",
              "      <td>0.000000</td>\n",
              "      <td>0.000000</td>\n",
              "      <td>0.000000</td>\n",
              "      <td>1.000000</td>\n",
              "    </tr>\n",
              "    <tr>\n",
              "      <th>25%</th>\n",
              "      <td>19780.000000</td>\n",
              "      <td>1.000000</td>\n",
              "      <td>26.000000</td>\n",
              "      <td>0.076923</td>\n",
              "      <td>2.000000</td>\n",
              "      <td>3.000000</td>\n",
              "      <td>1.000000</td>\n",
              "      <td>0.238806</td>\n",
              "      <td>0.654545</td>\n",
              "      <td>0.225941</td>\n",
              "      <td>...</td>\n",
              "      <td>0.000000</td>\n",
              "      <td>0.000000</td>\n",
              "      <td>0.000000</td>\n",
              "      <td>0.000000</td>\n",
              "      <td>0.000000</td>\n",
              "      <td>0.000000</td>\n",
              "      <td>0.000000</td>\n",
              "      <td>0.000000</td>\n",
              "      <td>0.000000</td>\n",
              "      <td>4.000000</td>\n",
              "    </tr>\n",
              "    <tr>\n",
              "      <th>50%</th>\n",
              "      <td>39487.000000</td>\n",
              "      <td>1.000000</td>\n",
              "      <td>26.000000</td>\n",
              "      <td>0.230769</td>\n",
              "      <td>2.000000</td>\n",
              "      <td>3.000000</td>\n",
              "      <td>1.000000</td>\n",
              "      <td>0.402985</td>\n",
              "      <td>0.709091</td>\n",
              "      <td>0.288703</td>\n",
              "      <td>...</td>\n",
              "      <td>0.000000</td>\n",
              "      <td>0.000000</td>\n",
              "      <td>0.000000</td>\n",
              "      <td>0.000000</td>\n",
              "      <td>0.000000</td>\n",
              "      <td>0.000000</td>\n",
              "      <td>0.000000</td>\n",
              "      <td>0.000000</td>\n",
              "      <td>0.000000</td>\n",
              "      <td>6.000000</td>\n",
              "    </tr>\n",
              "    <tr>\n",
              "      <th>75%</th>\n",
              "      <td>59211.000000</td>\n",
              "      <td>1.000000</td>\n",
              "      <td>26.000000</td>\n",
              "      <td>0.487179</td>\n",
              "      <td>2.000000</td>\n",
              "      <td>3.000000</td>\n",
              "      <td>1.000000</td>\n",
              "      <td>0.567164</td>\n",
              "      <td>0.763636</td>\n",
              "      <td>0.345188</td>\n",
              "      <td>...</td>\n",
              "      <td>0.000000</td>\n",
              "      <td>0.000000</td>\n",
              "      <td>0.000000</td>\n",
              "      <td>0.000000</td>\n",
              "      <td>0.000000</td>\n",
              "      <td>0.000000</td>\n",
              "      <td>0.000000</td>\n",
              "      <td>0.000000</td>\n",
              "      <td>0.000000</td>\n",
              "      <td>8.000000</td>\n",
              "    </tr>\n",
              "    <tr>\n",
              "      <th>max</th>\n",
              "      <td>79146.000000</td>\n",
              "      <td>2.000000</td>\n",
              "      <td>38.000000</td>\n",
              "      <td>1.000000</td>\n",
              "      <td>3.000000</td>\n",
              "      <td>3.000000</td>\n",
              "      <td>3.000000</td>\n",
              "      <td>1.000000</td>\n",
              "      <td>1.000000</td>\n",
              "      <td>1.000000</td>\n",
              "      <td>...</td>\n",
              "      <td>1.000000</td>\n",
              "      <td>1.000000</td>\n",
              "      <td>1.000000</td>\n",
              "      <td>1.000000</td>\n",
              "      <td>1.000000</td>\n",
              "      <td>1.000000</td>\n",
              "      <td>1.000000</td>\n",
              "      <td>1.000000</td>\n",
              "      <td>1.000000</td>\n",
              "      <td>8.000000</td>\n",
              "    </tr>\n",
              "  </tbody>\n",
              "</table>\n",
              "<p>8 rows × 127 columns</p>\n",
              "</div>"
            ],
            "text/plain": [
              "                 Id  Product_Info_1  Product_Info_3  Product_Info_4  \\\n",
              "count  59381.000000    59381.000000    59381.000000    59381.000000   \n",
              "mean   39507.211515        1.026355       24.415655        0.328952   \n",
              "std    22815.883089        0.160191        5.072885        0.282562   \n",
              "min        2.000000        1.000000        1.000000        0.000000   \n",
              "25%    19780.000000        1.000000       26.000000        0.076923   \n",
              "50%    39487.000000        1.000000       26.000000        0.230769   \n",
              "75%    59211.000000        1.000000       26.000000        0.487179   \n",
              "max    79146.000000        2.000000       38.000000        1.000000   \n",
              "\n",
              "       Product_Info_5  Product_Info_6  Product_Info_7       Ins_Age  \\\n",
              "count    59381.000000    59381.000000    59381.000000  59381.000000   \n",
              "mean         2.006955        2.673599        1.043583      0.405567   \n",
              "std          0.083107        0.739103        0.291949      0.197190   \n",
              "min          2.000000        1.000000        1.000000      0.000000   \n",
              "25%          2.000000        3.000000        1.000000      0.238806   \n",
              "50%          2.000000        3.000000        1.000000      0.402985   \n",
              "75%          2.000000        3.000000        1.000000      0.567164   \n",
              "max          3.000000        3.000000        3.000000      1.000000   \n",
              "\n",
              "                 Ht            Wt      ...       Medical_Keyword_40  \\\n",
              "count  59381.000000  59381.000000      ...             59381.000000   \n",
              "mean       0.707283      0.292587      ...                 0.056954   \n",
              "std        0.074239      0.089037      ...                 0.231757   \n",
              "min        0.000000      0.000000      ...                 0.000000   \n",
              "25%        0.654545      0.225941      ...                 0.000000   \n",
              "50%        0.709091      0.288703      ...                 0.000000   \n",
              "75%        0.763636      0.345188      ...                 0.000000   \n",
              "max        1.000000      1.000000      ...                 1.000000   \n",
              "\n",
              "       Medical_Keyword_41  Medical_Keyword_42  Medical_Keyword_43  \\\n",
              "count        59381.000000        59381.000000        59381.000000   \n",
              "mean             0.010054            0.045536            0.010710   \n",
              "std              0.099764            0.208479            0.102937   \n",
              "min              0.000000            0.000000            0.000000   \n",
              "25%              0.000000            0.000000            0.000000   \n",
              "50%              0.000000            0.000000            0.000000   \n",
              "75%              0.000000            0.000000            0.000000   \n",
              "max              1.000000            1.000000            1.000000   \n",
              "\n",
              "       Medical_Keyword_44  Medical_Keyword_45  Medical_Keyword_46  \\\n",
              "count        59381.000000        59381.000000        59381.000000   \n",
              "mean             0.007528            0.013691            0.008488   \n",
              "std              0.086436            0.116207            0.091737   \n",
              "min              0.000000            0.000000            0.000000   \n",
              "25%              0.000000            0.000000            0.000000   \n",
              "50%              0.000000            0.000000            0.000000   \n",
              "75%              0.000000            0.000000            0.000000   \n",
              "max              1.000000            1.000000            1.000000   \n",
              "\n",
              "       Medical_Keyword_47  Medical_Keyword_48      Response  \n",
              "count        59381.000000        59381.000000  59381.000000  \n",
              "mean             0.019905            0.054496      5.636837  \n",
              "std              0.139676            0.226995      2.456833  \n",
              "min              0.000000            0.000000      1.000000  \n",
              "25%              0.000000            0.000000      4.000000  \n",
              "50%              0.000000            0.000000      6.000000  \n",
              "75%              0.000000            0.000000      8.000000  \n",
              "max              1.000000            1.000000      8.000000  \n",
              "\n",
              "[8 rows x 127 columns]"
            ]
          },
          "metadata": {
            "tags": []
          },
          "execution_count": 56
        }
      ]
    },
    {
      "metadata": {
        "id": "SAKjTPgt8QnW",
        "colab_type": "code",
        "colab": {
          "base_uri": "https://localhost:8080/",
          "height": 2193
        },
        "outputId": "95fb0c9d-37fa-4fee-8502-fa1869ce5a93"
      },
      "cell_type": "code",
      "source": [
        "for cols in df_train.columns:\n",
        "  print(cols,\":\",df_train[cols].count())"
      ],
      "execution_count": 57,
      "outputs": [
        {
          "output_type": "stream",
          "text": [
            "Id : 59381\n",
            "Product_Info_1 : 59381\n",
            "Product_Info_2 : 59381\n",
            "Product_Info_3 : 59381\n",
            "Product_Info_4 : 59381\n",
            "Product_Info_5 : 59381\n",
            "Product_Info_6 : 59381\n",
            "Product_Info_7 : 59381\n",
            "Ins_Age : 59381\n",
            "Ht : 59381\n",
            "Wt : 59381\n",
            "BMI : 59381\n",
            "Employment_Info_1 : 59381\n",
            "Employment_Info_2 : 59381\n",
            "Employment_Info_3 : 59381\n",
            "Employment_Info_4 : 59381\n",
            "Employment_Info_5 : 59381\n",
            "Employment_Info_6 : 59381\n",
            "InsuredInfo_1 : 59381\n",
            "InsuredInfo_2 : 59381\n",
            "InsuredInfo_3 : 59381\n",
            "InsuredInfo_4 : 59381\n",
            "InsuredInfo_5 : 59381\n",
            "InsuredInfo_6 : 59381\n",
            "InsuredInfo_7 : 59381\n",
            "Insurance_History_1 : 59381\n",
            "Insurance_History_2 : 59381\n",
            "Insurance_History_3 : 59381\n",
            "Insurance_History_4 : 59381\n",
            "Insurance_History_5 : 59381\n",
            "Insurance_History_7 : 59381\n",
            "Insurance_History_8 : 59381\n",
            "Insurance_History_9 : 59381\n",
            "Family_Hist_1 : 59381\n",
            "Family_Hist_2 : 59381\n",
            "Family_Hist_3 : 59381\n",
            "Family_Hist_4 : 59381\n",
            "Family_Hist_5 : 59381\n",
            "Medical_History_1 : 59381\n",
            "Medical_History_2 : 59381\n",
            "Medical_History_3 : 59381\n",
            "Medical_History_4 : 59381\n",
            "Medical_History_5 : 59381\n",
            "Medical_History_6 : 59381\n",
            "Medical_History_7 : 59381\n",
            "Medical_History_8 : 59381\n",
            "Medical_History_9 : 59381\n",
            "Medical_History_10 : 59381\n",
            "Medical_History_11 : 59381\n",
            "Medical_History_12 : 59381\n",
            "Medical_History_13 : 59381\n",
            "Medical_History_14 : 59381\n",
            "Medical_History_15 : 59381\n",
            "Medical_History_16 : 59381\n",
            "Medical_History_17 : 59381\n",
            "Medical_History_18 : 59381\n",
            "Medical_History_19 : 59381\n",
            "Medical_History_20 : 59381\n",
            "Medical_History_21 : 59381\n",
            "Medical_History_22 : 59381\n",
            "Medical_History_23 : 59381\n",
            "Medical_History_24 : 59381\n",
            "Medical_History_25 : 59381\n",
            "Medical_History_26 : 59381\n",
            "Medical_History_27 : 59381\n",
            "Medical_History_28 : 59381\n",
            "Medical_History_29 : 59381\n",
            "Medical_History_30 : 59381\n",
            "Medical_History_31 : 59381\n",
            "Medical_History_32 : 59381\n",
            "Medical_History_33 : 59381\n",
            "Medical_History_34 : 59381\n",
            "Medical_History_35 : 59381\n",
            "Medical_History_36 : 59381\n",
            "Medical_History_37 : 59381\n",
            "Medical_History_38 : 59381\n",
            "Medical_History_39 : 59381\n",
            "Medical_History_40 : 59381\n",
            "Medical_History_41 : 59381\n",
            "Medical_Keyword_1 : 59381\n",
            "Medical_Keyword_2 : 59381\n",
            "Medical_Keyword_3 : 59381\n",
            "Medical_Keyword_4 : 59381\n",
            "Medical_Keyword_5 : 59381\n",
            "Medical_Keyword_6 : 59381\n",
            "Medical_Keyword_7 : 59381\n",
            "Medical_Keyword_8 : 59381\n",
            "Medical_Keyword_9 : 59381\n",
            "Medical_Keyword_10 : 59381\n",
            "Medical_Keyword_11 : 59381\n",
            "Medical_Keyword_12 : 59381\n",
            "Medical_Keyword_13 : 59381\n",
            "Medical_Keyword_14 : 59381\n",
            "Medical_Keyword_15 : 59381\n",
            "Medical_Keyword_16 : 59381\n",
            "Medical_Keyword_17 : 59381\n",
            "Medical_Keyword_18 : 59381\n",
            "Medical_Keyword_19 : 59381\n",
            "Medical_Keyword_20 : 59381\n",
            "Medical_Keyword_21 : 59381\n",
            "Medical_Keyword_22 : 59381\n",
            "Medical_Keyword_23 : 59381\n",
            "Medical_Keyword_24 : 59381\n",
            "Medical_Keyword_25 : 59381\n",
            "Medical_Keyword_26 : 59381\n",
            "Medical_Keyword_27 : 59381\n",
            "Medical_Keyword_28 : 59381\n",
            "Medical_Keyword_29 : 59381\n",
            "Medical_Keyword_30 : 59381\n",
            "Medical_Keyword_31 : 59381\n",
            "Medical_Keyword_32 : 59381\n",
            "Medical_Keyword_33 : 59381\n",
            "Medical_Keyword_34 : 59381\n",
            "Medical_Keyword_35 : 59381\n",
            "Medical_Keyword_36 : 59381\n",
            "Medical_Keyword_37 : 59381\n",
            "Medical_Keyword_38 : 59381\n",
            "Medical_Keyword_39 : 59381\n",
            "Medical_Keyword_40 : 59381\n",
            "Medical_Keyword_41 : 59381\n",
            "Medical_Keyword_42 : 59381\n",
            "Medical_Keyword_43 : 59381\n",
            "Medical_Keyword_44 : 59381\n",
            "Medical_Keyword_45 : 59381\n",
            "Medical_Keyword_46 : 59381\n",
            "Medical_Keyword_47 : 59381\n",
            "Medical_Keyword_48 : 59381\n",
            "Response : 59381\n"
          ],
          "name": "stdout"
        }
      ]
    },
    {
      "metadata": {
        "id": "9VsFjaJeHkKG",
        "colab_type": "text"
      },
      "cell_type": "markdown",
      "source": [
        "**Hence confirmed no null values**"
      ]
    },
    {
      "metadata": {
        "id": "R9BCdQl8vszZ",
        "colab_type": "code",
        "colab": {
          "base_uri": "https://localhost:8080/",
          "height": 253
        },
        "outputId": "1f1d159c-22f8-4b43-c032-650ca2c8b3a5"
      },
      "cell_type": "code",
      "source": [
        "df_test.head()"
      ],
      "execution_count": 58,
      "outputs": [
        {
          "output_type": "execute_result",
          "data": {
            "text/html": [
              "<div>\n",
              "<style scoped>\n",
              "    .dataframe tbody tr th:only-of-type {\n",
              "        vertical-align: middle;\n",
              "    }\n",
              "\n",
              "    .dataframe tbody tr th {\n",
              "        vertical-align: top;\n",
              "    }\n",
              "\n",
              "    .dataframe thead th {\n",
              "        text-align: right;\n",
              "    }\n",
              "</style>\n",
              "<table border=\"1\" class=\"dataframe\">\n",
              "  <thead>\n",
              "    <tr style=\"text-align: right;\">\n",
              "      <th></th>\n",
              "      <th>Id</th>\n",
              "      <th>Product_Info_1</th>\n",
              "      <th>Product_Info_2</th>\n",
              "      <th>Product_Info_3</th>\n",
              "      <th>Product_Info_4</th>\n",
              "      <th>Product_Info_5</th>\n",
              "      <th>Product_Info_6</th>\n",
              "      <th>Product_Info_7</th>\n",
              "      <th>Ins_Age</th>\n",
              "      <th>Ht</th>\n",
              "      <th>...</th>\n",
              "      <th>Medical_Keyword_39</th>\n",
              "      <th>Medical_Keyword_40</th>\n",
              "      <th>Medical_Keyword_41</th>\n",
              "      <th>Medical_Keyword_42</th>\n",
              "      <th>Medical_Keyword_43</th>\n",
              "      <th>Medical_Keyword_44</th>\n",
              "      <th>Medical_Keyword_45</th>\n",
              "      <th>Medical_Keyword_46</th>\n",
              "      <th>Medical_Keyword_47</th>\n",
              "      <th>Medical_Keyword_48</th>\n",
              "    </tr>\n",
              "  </thead>\n",
              "  <tbody>\n",
              "    <tr>\n",
              "      <th>0</th>\n",
              "      <td>1</td>\n",
              "      <td>1</td>\n",
              "      <td>D3</td>\n",
              "      <td>26</td>\n",
              "      <td>0.487179</td>\n",
              "      <td>2</td>\n",
              "      <td>3</td>\n",
              "      <td>1</td>\n",
              "      <td>0.611940</td>\n",
              "      <td>0.781818</td>\n",
              "      <td>...</td>\n",
              "      <td>0</td>\n",
              "      <td>0</td>\n",
              "      <td>0</td>\n",
              "      <td>0</td>\n",
              "      <td>0</td>\n",
              "      <td>0</td>\n",
              "      <td>0</td>\n",
              "      <td>0</td>\n",
              "      <td>0</td>\n",
              "      <td>0</td>\n",
              "    </tr>\n",
              "    <tr>\n",
              "      <th>1</th>\n",
              "      <td>3</td>\n",
              "      <td>1</td>\n",
              "      <td>A2</td>\n",
              "      <td>26</td>\n",
              "      <td>0.076923</td>\n",
              "      <td>2</td>\n",
              "      <td>3</td>\n",
              "      <td>1</td>\n",
              "      <td>0.626866</td>\n",
              "      <td>0.727273</td>\n",
              "      <td>...</td>\n",
              "      <td>0</td>\n",
              "      <td>0</td>\n",
              "      <td>0</td>\n",
              "      <td>0</td>\n",
              "      <td>0</td>\n",
              "      <td>0</td>\n",
              "      <td>0</td>\n",
              "      <td>0</td>\n",
              "      <td>0</td>\n",
              "      <td>0</td>\n",
              "    </tr>\n",
              "    <tr>\n",
              "      <th>2</th>\n",
              "      <td>4</td>\n",
              "      <td>1</td>\n",
              "      <td>D3</td>\n",
              "      <td>26</td>\n",
              "      <td>0.144667</td>\n",
              "      <td>2</td>\n",
              "      <td>3</td>\n",
              "      <td>1</td>\n",
              "      <td>0.582090</td>\n",
              "      <td>0.709091</td>\n",
              "      <td>...</td>\n",
              "      <td>0</td>\n",
              "      <td>0</td>\n",
              "      <td>0</td>\n",
              "      <td>0</td>\n",
              "      <td>0</td>\n",
              "      <td>0</td>\n",
              "      <td>0</td>\n",
              "      <td>0</td>\n",
              "      <td>0</td>\n",
              "      <td>0</td>\n",
              "    </tr>\n",
              "    <tr>\n",
              "      <th>3</th>\n",
              "      <td>9</td>\n",
              "      <td>1</td>\n",
              "      <td>A1</td>\n",
              "      <td>26</td>\n",
              "      <td>0.151709</td>\n",
              "      <td>2</td>\n",
              "      <td>1</td>\n",
              "      <td>1</td>\n",
              "      <td>0.522388</td>\n",
              "      <td>0.654545</td>\n",
              "      <td>...</td>\n",
              "      <td>0</td>\n",
              "      <td>0</td>\n",
              "      <td>0</td>\n",
              "      <td>0</td>\n",
              "      <td>0</td>\n",
              "      <td>0</td>\n",
              "      <td>0</td>\n",
              "      <td>0</td>\n",
              "      <td>1</td>\n",
              "      <td>1</td>\n",
              "    </tr>\n",
              "    <tr>\n",
              "      <th>4</th>\n",
              "      <td>12</td>\n",
              "      <td>1</td>\n",
              "      <td>A1</td>\n",
              "      <td>26</td>\n",
              "      <td>0.076923</td>\n",
              "      <td>2</td>\n",
              "      <td>3</td>\n",
              "      <td>1</td>\n",
              "      <td>0.298507</td>\n",
              "      <td>0.672727</td>\n",
              "      <td>...</td>\n",
              "      <td>0</td>\n",
              "      <td>0</td>\n",
              "      <td>0</td>\n",
              "      <td>0</td>\n",
              "      <td>0</td>\n",
              "      <td>0</td>\n",
              "      <td>0</td>\n",
              "      <td>0</td>\n",
              "      <td>0</td>\n",
              "      <td>0</td>\n",
              "    </tr>\n",
              "  </tbody>\n",
              "</table>\n",
              "<p>5 rows × 127 columns</p>\n",
              "</div>"
            ],
            "text/plain": [
              "   Id  Product_Info_1 Product_Info_2  Product_Info_3  Product_Info_4  \\\n",
              "0   1               1             D3              26        0.487179   \n",
              "1   3               1             A2              26        0.076923   \n",
              "2   4               1             D3              26        0.144667   \n",
              "3   9               1             A1              26        0.151709   \n",
              "4  12               1             A1              26        0.076923   \n",
              "\n",
              "   Product_Info_5  Product_Info_6  Product_Info_7   Ins_Age        Ht  \\\n",
              "0               2               3               1  0.611940  0.781818   \n",
              "1               2               3               1  0.626866  0.727273   \n",
              "2               2               3               1  0.582090  0.709091   \n",
              "3               2               1               1  0.522388  0.654545   \n",
              "4               2               3               1  0.298507  0.672727   \n",
              "\n",
              "          ...          Medical_Keyword_39  Medical_Keyword_40  \\\n",
              "0         ...                           0                   0   \n",
              "1         ...                           0                   0   \n",
              "2         ...                           0                   0   \n",
              "3         ...                           0                   0   \n",
              "4         ...                           0                   0   \n",
              "\n",
              "   Medical_Keyword_41  Medical_Keyword_42  Medical_Keyword_43  \\\n",
              "0                   0                   0                   0   \n",
              "1                   0                   0                   0   \n",
              "2                   0                   0                   0   \n",
              "3                   0                   0                   0   \n",
              "4                   0                   0                   0   \n",
              "\n",
              "   Medical_Keyword_44  Medical_Keyword_45  Medical_Keyword_46  \\\n",
              "0                   0                   0                   0   \n",
              "1                   0                   0                   0   \n",
              "2                   0                   0                   0   \n",
              "3                   0                   0                   0   \n",
              "4                   0                   0                   0   \n",
              "\n",
              "   Medical_Keyword_47  Medical_Keyword_48  \n",
              "0                   0                   0  \n",
              "1                   0                   0  \n",
              "2                   0                   0  \n",
              "3                   1                   1  \n",
              "4                   0                   0  \n",
              "\n",
              "[5 rows x 127 columns]"
            ]
          },
          "metadata": {
            "tags": []
          },
          "execution_count": 58
        }
      ]
    },
    {
      "metadata": {
        "id": "d1xDeubX6Hfg",
        "colab_type": "code",
        "colab": {
          "base_uri": "https://localhost:8080/",
          "height": 2176
        },
        "outputId": "539fa881-0210-4026-de9a-bc03d70411a8"
      },
      "cell_type": "code",
      "source": [
        "for cols in df_test.columns:\n",
        "  print(cols,\":\",df_test[cols].count())"
      ],
      "execution_count": 59,
      "outputs": [
        {
          "output_type": "stream",
          "text": [
            "Id : 19765\n",
            "Product_Info_1 : 19765\n",
            "Product_Info_2 : 19765\n",
            "Product_Info_3 : 19765\n",
            "Product_Info_4 : 19765\n",
            "Product_Info_5 : 19765\n",
            "Product_Info_6 : 19765\n",
            "Product_Info_7 : 19765\n",
            "Ins_Age : 19765\n",
            "Ht : 19765\n",
            "Wt : 19765\n",
            "BMI : 19765\n",
            "Employment_Info_1 : 19765\n",
            "Employment_Info_2 : 19765\n",
            "Employment_Info_3 : 19765\n",
            "Employment_Info_4 : 19765\n",
            "Employment_Info_5 : 19765\n",
            "Employment_Info_6 : 19765\n",
            "InsuredInfo_1 : 19765\n",
            "InsuredInfo_2 : 19765\n",
            "InsuredInfo_3 : 19765\n",
            "InsuredInfo_4 : 19765\n",
            "InsuredInfo_5 : 19765\n",
            "InsuredInfo_6 : 19765\n",
            "InsuredInfo_7 : 19765\n",
            "Insurance_History_1 : 19765\n",
            "Insurance_History_2 : 19765\n",
            "Insurance_History_3 : 19765\n",
            "Insurance_History_4 : 19765\n",
            "Insurance_History_5 : 19765\n",
            "Insurance_History_7 : 19765\n",
            "Insurance_History_8 : 19765\n",
            "Insurance_History_9 : 19765\n",
            "Family_Hist_1 : 19765\n",
            "Family_Hist_2 : 19765\n",
            "Family_Hist_3 : 19765\n",
            "Family_Hist_4 : 19765\n",
            "Family_Hist_5 : 19765\n",
            "Medical_History_1 : 16793\n",
            "Medical_History_2 : 19765\n",
            "Medical_History_3 : 19765\n",
            "Medical_History_4 : 19765\n",
            "Medical_History_5 : 19765\n",
            "Medical_History_6 : 19765\n",
            "Medical_History_7 : 19765\n",
            "Medical_History_8 : 19765\n",
            "Medical_History_9 : 19765\n",
            "Medical_History_10 : 201\n",
            "Medical_History_11 : 19765\n",
            "Medical_History_12 : 19765\n",
            "Medical_History_13 : 19765\n",
            "Medical_History_14 : 19765\n",
            "Medical_History_15 : 4901\n",
            "Medical_History_16 : 19765\n",
            "Medical_History_17 : 19765\n",
            "Medical_History_18 : 19765\n",
            "Medical_History_19 : 19765\n",
            "Medical_History_20 : 19765\n",
            "Medical_History_21 : 19765\n",
            "Medical_History_22 : 19765\n",
            "Medical_History_23 : 19765\n",
            "Medical_History_24 : 1180\n",
            "Medical_History_25 : 19765\n",
            "Medical_History_26 : 19765\n",
            "Medical_History_27 : 19765\n",
            "Medical_History_28 : 19765\n",
            "Medical_History_29 : 19765\n",
            "Medical_History_30 : 19765\n",
            "Medical_History_31 : 19765\n",
            "Medical_History_32 : 351\n",
            "Medical_History_33 : 19765\n",
            "Medical_History_34 : 19765\n",
            "Medical_History_35 : 19765\n",
            "Medical_History_36 : 19765\n",
            "Medical_History_37 : 19765\n",
            "Medical_History_38 : 19765\n",
            "Medical_History_39 : 19765\n",
            "Medical_History_40 : 19765\n",
            "Medical_History_41 : 19765\n",
            "Medical_Keyword_1 : 19765\n",
            "Medical_Keyword_2 : 19765\n",
            "Medical_Keyword_3 : 19765\n",
            "Medical_Keyword_4 : 19765\n",
            "Medical_Keyword_5 : 19765\n",
            "Medical_Keyword_6 : 19765\n",
            "Medical_Keyword_7 : 19765\n",
            "Medical_Keyword_8 : 19765\n",
            "Medical_Keyword_9 : 19765\n",
            "Medical_Keyword_10 : 19765\n",
            "Medical_Keyword_11 : 19765\n",
            "Medical_Keyword_12 : 19765\n",
            "Medical_Keyword_13 : 19765\n",
            "Medical_Keyword_14 : 19765\n",
            "Medical_Keyword_15 : 19765\n",
            "Medical_Keyword_16 : 19765\n",
            "Medical_Keyword_17 : 19765\n",
            "Medical_Keyword_18 : 19765\n",
            "Medical_Keyword_19 : 19765\n",
            "Medical_Keyword_20 : 19765\n",
            "Medical_Keyword_21 : 19765\n",
            "Medical_Keyword_22 : 19765\n",
            "Medical_Keyword_23 : 19765\n",
            "Medical_Keyword_24 : 19765\n",
            "Medical_Keyword_25 : 19765\n",
            "Medical_Keyword_26 : 19765\n",
            "Medical_Keyword_27 : 19765\n",
            "Medical_Keyword_28 : 19765\n",
            "Medical_Keyword_29 : 19765\n",
            "Medical_Keyword_30 : 19765\n",
            "Medical_Keyword_31 : 19765\n",
            "Medical_Keyword_32 : 19765\n",
            "Medical_Keyword_33 : 19765\n",
            "Medical_Keyword_34 : 19765\n",
            "Medical_Keyword_35 : 19765\n",
            "Medical_Keyword_36 : 19765\n",
            "Medical_Keyword_37 : 19765\n",
            "Medical_Keyword_38 : 19765\n",
            "Medical_Keyword_39 : 19765\n",
            "Medical_Keyword_40 : 19765\n",
            "Medical_Keyword_41 : 19765\n",
            "Medical_Keyword_42 : 19765\n",
            "Medical_Keyword_43 : 19765\n",
            "Medical_Keyword_44 : 19765\n",
            "Medical_Keyword_45 : 19765\n",
            "Medical_Keyword_46 : 19765\n",
            "Medical_Keyword_47 : 19765\n",
            "Medical_Keyword_48 : 19765\n"
          ],
          "name": "stdout"
        }
      ]
    },
    {
      "metadata": {
        "id": "7YYnkzFE5BuK",
        "colab_type": "code",
        "colab": {
          "base_uri": "https://localhost:8080/",
          "height": 119
        },
        "outputId": "cf723527-072b-486e-a7cf-4572066c9e7d"
      },
      "cell_type": "code",
      "source": [
        "df_test.isnull().sum()[df_test.isnull().sum() !=0]"
      ],
      "execution_count": 60,
      "outputs": [
        {
          "output_type": "execute_result",
          "data": {
            "text/plain": [
              "Medical_History_1      2972\n",
              "Medical_History_10    19564\n",
              "Medical_History_15    14864\n",
              "Medical_History_24    18585\n",
              "Medical_History_32    19414\n",
              "dtype: int64"
            ]
          },
          "metadata": {
            "tags": []
          },
          "execution_count": 60
        }
      ]
    },
    {
      "metadata": {
        "id": "XWj4_y5l6-tp",
        "colab_type": "text"
      },
      "cell_type": "markdown",
      "source": [
        "**Impute missing values with mean/ median / mode.**"
      ]
    },
    {
      "metadata": {
        "id": "b7eO_ejG69nz",
        "colab_type": "code",
        "colab": {}
      },
      "cell_type": "code",
      "source": [
        "missing_data_cols = ['Medical_History_1', 'Medical_History_10','Medical_History_15','Medical_History_24','Medical_History_32']"
      ],
      "execution_count": 0,
      "outputs": []
    },
    {
      "metadata": {
        "id": "mtDGrZupIWVy",
        "colab_type": "code",
        "colab": {
          "base_uri": "https://localhost:8080/",
          "height": 359
        },
        "outputId": "52d84ce7-0478-406c-8717-9ca35bd8446b"
      },
      "cell_type": "code",
      "source": [
        "df_test[missing_data_cols].head(10)\n"
      ],
      "execution_count": 62,
      "outputs": [
        {
          "output_type": "execute_result",
          "data": {
            "text/html": [
              "<div>\n",
              "<style scoped>\n",
              "    .dataframe tbody tr th:only-of-type {\n",
              "        vertical-align: middle;\n",
              "    }\n",
              "\n",
              "    .dataframe tbody tr th {\n",
              "        vertical-align: top;\n",
              "    }\n",
              "\n",
              "    .dataframe thead th {\n",
              "        text-align: right;\n",
              "    }\n",
              "</style>\n",
              "<table border=\"1\" class=\"dataframe\">\n",
              "  <thead>\n",
              "    <tr style=\"text-align: right;\">\n",
              "      <th></th>\n",
              "      <th>Medical_History_1</th>\n",
              "      <th>Medical_History_10</th>\n",
              "      <th>Medical_History_15</th>\n",
              "      <th>Medical_History_24</th>\n",
              "      <th>Medical_History_32</th>\n",
              "    </tr>\n",
              "  </thead>\n",
              "  <tbody>\n",
              "    <tr>\n",
              "      <th>0</th>\n",
              "      <td>2.0</td>\n",
              "      <td>NaN</td>\n",
              "      <td>NaN</td>\n",
              "      <td>NaN</td>\n",
              "      <td>NaN</td>\n",
              "    </tr>\n",
              "    <tr>\n",
              "      <th>1</th>\n",
              "      <td>5.0</td>\n",
              "      <td>NaN</td>\n",
              "      <td>110.0</td>\n",
              "      <td>NaN</td>\n",
              "      <td>NaN</td>\n",
              "    </tr>\n",
              "    <tr>\n",
              "      <th>2</th>\n",
              "      <td>3.0</td>\n",
              "      <td>NaN</td>\n",
              "      <td>240.0</td>\n",
              "      <td>NaN</td>\n",
              "      <td>NaN</td>\n",
              "    </tr>\n",
              "    <tr>\n",
              "      <th>3</th>\n",
              "      <td>NaN</td>\n",
              "      <td>NaN</td>\n",
              "      <td>NaN</td>\n",
              "      <td>NaN</td>\n",
              "      <td>NaN</td>\n",
              "    </tr>\n",
              "    <tr>\n",
              "      <th>4</th>\n",
              "      <td>18.0</td>\n",
              "      <td>NaN</td>\n",
              "      <td>188.0</td>\n",
              "      <td>NaN</td>\n",
              "      <td>NaN</td>\n",
              "    </tr>\n",
              "    <tr>\n",
              "      <th>5</th>\n",
              "      <td>4.0</td>\n",
              "      <td>NaN</td>\n",
              "      <td>NaN</td>\n",
              "      <td>NaN</td>\n",
              "      <td>NaN</td>\n",
              "    </tr>\n",
              "    <tr>\n",
              "      <th>6</th>\n",
              "      <td>21.0</td>\n",
              "      <td>NaN</td>\n",
              "      <td>82.0</td>\n",
              "      <td>NaN</td>\n",
              "      <td>NaN</td>\n",
              "    </tr>\n",
              "    <tr>\n",
              "      <th>7</th>\n",
              "      <td>0.0</td>\n",
              "      <td>NaN</td>\n",
              "      <td>NaN</td>\n",
              "      <td>NaN</td>\n",
              "      <td>NaN</td>\n",
              "    </tr>\n",
              "    <tr>\n",
              "      <th>8</th>\n",
              "      <td>2.0</td>\n",
              "      <td>NaN</td>\n",
              "      <td>NaN</td>\n",
              "      <td>NaN</td>\n",
              "      <td>NaN</td>\n",
              "    </tr>\n",
              "    <tr>\n",
              "      <th>9</th>\n",
              "      <td>NaN</td>\n",
              "      <td>NaN</td>\n",
              "      <td>NaN</td>\n",
              "      <td>NaN</td>\n",
              "      <td>NaN</td>\n",
              "    </tr>\n",
              "  </tbody>\n",
              "</table>\n",
              "</div>"
            ],
            "text/plain": [
              "   Medical_History_1  Medical_History_10  Medical_History_15  \\\n",
              "0                2.0                 NaN                 NaN   \n",
              "1                5.0                 NaN               110.0   \n",
              "2                3.0                 NaN               240.0   \n",
              "3                NaN                 NaN                 NaN   \n",
              "4               18.0                 NaN               188.0   \n",
              "5                4.0                 NaN                 NaN   \n",
              "6               21.0                 NaN                82.0   \n",
              "7                0.0                 NaN                 NaN   \n",
              "8                2.0                 NaN                 NaN   \n",
              "9                NaN                 NaN                 NaN   \n",
              "\n",
              "   Medical_History_24  Medical_History_32  \n",
              "0                 NaN                 NaN  \n",
              "1                 NaN                 NaN  \n",
              "2                 NaN                 NaN  \n",
              "3                 NaN                 NaN  \n",
              "4                 NaN                 NaN  \n",
              "5                 NaN                 NaN  \n",
              "6                 NaN                 NaN  \n",
              "7                 NaN                 NaN  \n",
              "8                 NaN                 NaN  \n",
              "9                 NaN                 NaN  "
            ]
          },
          "metadata": {
            "tags": []
          },
          "execution_count": 62
        }
      ]
    },
    {
      "metadata": {
        "id": "Zoc1C9zeIzHn",
        "colab_type": "code",
        "colab": {}
      },
      "cell_type": "code",
      "source": [
        "df_test[missing_data_cols] = df_test[missing_data_cols].apply(lambda x:x.fillna(x.value_counts().index[0]))"
      ],
      "execution_count": 0,
      "outputs": []
    },
    {
      "metadata": {
        "id": "uUkt9TogJIOR",
        "colab_type": "code",
        "colab": {
          "base_uri": "https://localhost:8080/",
          "height": 359
        },
        "outputId": "22a4ab66-5fe4-4127-bae9-3ce5864b8612"
      },
      "cell_type": "code",
      "source": [
        "df_test[missing_data_cols].head(10)"
      ],
      "execution_count": 64,
      "outputs": [
        {
          "output_type": "execute_result",
          "data": {
            "text/html": [
              "<div>\n",
              "<style scoped>\n",
              "    .dataframe tbody tr th:only-of-type {\n",
              "        vertical-align: middle;\n",
              "    }\n",
              "\n",
              "    .dataframe tbody tr th {\n",
              "        vertical-align: top;\n",
              "    }\n",
              "\n",
              "    .dataframe thead th {\n",
              "        text-align: right;\n",
              "    }\n",
              "</style>\n",
              "<table border=\"1\" class=\"dataframe\">\n",
              "  <thead>\n",
              "    <tr style=\"text-align: right;\">\n",
              "      <th></th>\n",
              "      <th>Medical_History_1</th>\n",
              "      <th>Medical_History_10</th>\n",
              "      <th>Medical_History_15</th>\n",
              "      <th>Medical_History_24</th>\n",
              "      <th>Medical_History_32</th>\n",
              "    </tr>\n",
              "  </thead>\n",
              "  <tbody>\n",
              "    <tr>\n",
              "      <th>0</th>\n",
              "      <td>2.0</td>\n",
              "      <td>240.0</td>\n",
              "      <td>240.0</td>\n",
              "      <td>0.0</td>\n",
              "      <td>0.0</td>\n",
              "    </tr>\n",
              "    <tr>\n",
              "      <th>1</th>\n",
              "      <td>5.0</td>\n",
              "      <td>240.0</td>\n",
              "      <td>110.0</td>\n",
              "      <td>0.0</td>\n",
              "      <td>0.0</td>\n",
              "    </tr>\n",
              "    <tr>\n",
              "      <th>2</th>\n",
              "      <td>3.0</td>\n",
              "      <td>240.0</td>\n",
              "      <td>240.0</td>\n",
              "      <td>0.0</td>\n",
              "      <td>0.0</td>\n",
              "    </tr>\n",
              "    <tr>\n",
              "      <th>3</th>\n",
              "      <td>1.0</td>\n",
              "      <td>240.0</td>\n",
              "      <td>240.0</td>\n",
              "      <td>0.0</td>\n",
              "      <td>0.0</td>\n",
              "    </tr>\n",
              "    <tr>\n",
              "      <th>4</th>\n",
              "      <td>18.0</td>\n",
              "      <td>240.0</td>\n",
              "      <td>188.0</td>\n",
              "      <td>0.0</td>\n",
              "      <td>0.0</td>\n",
              "    </tr>\n",
              "    <tr>\n",
              "      <th>5</th>\n",
              "      <td>4.0</td>\n",
              "      <td>240.0</td>\n",
              "      <td>240.0</td>\n",
              "      <td>0.0</td>\n",
              "      <td>0.0</td>\n",
              "    </tr>\n",
              "    <tr>\n",
              "      <th>6</th>\n",
              "      <td>21.0</td>\n",
              "      <td>240.0</td>\n",
              "      <td>82.0</td>\n",
              "      <td>0.0</td>\n",
              "      <td>0.0</td>\n",
              "    </tr>\n",
              "    <tr>\n",
              "      <th>7</th>\n",
              "      <td>0.0</td>\n",
              "      <td>240.0</td>\n",
              "      <td>240.0</td>\n",
              "      <td>0.0</td>\n",
              "      <td>0.0</td>\n",
              "    </tr>\n",
              "    <tr>\n",
              "      <th>8</th>\n",
              "      <td>2.0</td>\n",
              "      <td>240.0</td>\n",
              "      <td>240.0</td>\n",
              "      <td>0.0</td>\n",
              "      <td>0.0</td>\n",
              "    </tr>\n",
              "    <tr>\n",
              "      <th>9</th>\n",
              "      <td>1.0</td>\n",
              "      <td>240.0</td>\n",
              "      <td>240.0</td>\n",
              "      <td>0.0</td>\n",
              "      <td>0.0</td>\n",
              "    </tr>\n",
              "  </tbody>\n",
              "</table>\n",
              "</div>"
            ],
            "text/plain": [
              "   Medical_History_1  Medical_History_10  Medical_History_15  \\\n",
              "0                2.0               240.0               240.0   \n",
              "1                5.0               240.0               110.0   \n",
              "2                3.0               240.0               240.0   \n",
              "3                1.0               240.0               240.0   \n",
              "4               18.0               240.0               188.0   \n",
              "5                4.0               240.0               240.0   \n",
              "6               21.0               240.0                82.0   \n",
              "7                0.0               240.0               240.0   \n",
              "8                2.0               240.0               240.0   \n",
              "9                1.0               240.0               240.0   \n",
              "\n",
              "   Medical_History_24  Medical_History_32  \n",
              "0                 0.0                 0.0  \n",
              "1                 0.0                 0.0  \n",
              "2                 0.0                 0.0  \n",
              "3                 0.0                 0.0  \n",
              "4                 0.0                 0.0  \n",
              "5                 0.0                 0.0  \n",
              "6                 0.0                 0.0  \n",
              "7                 0.0                 0.0  \n",
              "8                 0.0                 0.0  \n",
              "9                 0.0                 0.0  "
            ]
          },
          "metadata": {
            "tags": []
          },
          "execution_count": 64
        }
      ]
    },
    {
      "metadata": {
        "id": "bHaYQvJ7vszg",
        "colab_type": "code",
        "colab": {
          "base_uri": "https://localhost:8080/",
          "height": 357
        },
        "outputId": "c8af41b8-0518-4b82-f96a-3d6b644bf63d"
      },
      "cell_type": "code",
      "source": [
        "df_train['Product_Info_2'].value_counts()"
      ],
      "execution_count": 65,
      "outputs": [
        {
          "output_type": "execute_result",
          "data": {
            "text/plain": [
              "D3    14321\n",
              "D4    10812\n",
              "A8     6835\n",
              "D1     6554\n",
              "D2     6286\n",
              "E1     2647\n",
              "A1     2363\n",
              "A6     2098\n",
              "A2     1974\n",
              "A7     1383\n",
              "B2     1122\n",
              "A3      977\n",
              "A5      775\n",
              "C3      306\n",
              "C1      285\n",
              "C4      219\n",
              "A4      210\n",
              "C2      160\n",
              "B1       54\n",
              "Name: Product_Info_2, dtype: int64"
            ]
          },
          "metadata": {
            "tags": []
          },
          "execution_count": 65
        }
      ]
    },
    {
      "metadata": {
        "id": "RXJajN2Rvszn",
        "colab_type": "code",
        "colab": {
          "base_uri": "https://localhost:8080/",
          "height": 34
        },
        "outputId": "e51b65a6-88c4-4f58-cd89-20abcf6a52a2"
      },
      "cell_type": "code",
      "source": [
        "from sklearn.preprocessing import LabelEncoder\n",
        "encoder = LabelEncoder()\n",
        "encoder.fit(df_train['Product_Info_2'])\n",
        "encoder_val = encoder.transform(df_train['Product_Info_2'])\n",
        "encoder_val"
      ],
      "execution_count": 68,
      "outputs": [
        {
          "output_type": "execute_result",
          "data": {
            "text/plain": [
              "array([16,  0, 18, ..., 18, 15,  7])"
            ]
          },
          "metadata": {
            "tags": []
          },
          "execution_count": 68
        }
      ]
    },
    {
      "metadata": {
        "id": "uHF5-dioK2_x",
        "colab_type": "code",
        "colab": {}
      },
      "cell_type": "code",
      "source": [
        "df_train['Product_Info_2'] = encoder_val"
      ],
      "execution_count": 0,
      "outputs": []
    },
    {
      "metadata": {
        "id": "GLFzaQfAvsz3",
        "colab_type": "code",
        "colab": {
          "base_uri": "https://localhost:8080/",
          "height": 253
        },
        "outputId": "b3639aef-5d2a-4579-eb2f-7c365ad1d63e"
      },
      "cell_type": "code",
      "source": [
        "df_train.head()"
      ],
      "execution_count": 71,
      "outputs": [
        {
          "output_type": "execute_result",
          "data": {
            "text/html": [
              "<div>\n",
              "<style scoped>\n",
              "    .dataframe tbody tr th:only-of-type {\n",
              "        vertical-align: middle;\n",
              "    }\n",
              "\n",
              "    .dataframe tbody tr th {\n",
              "        vertical-align: top;\n",
              "    }\n",
              "\n",
              "    .dataframe thead th {\n",
              "        text-align: right;\n",
              "    }\n",
              "</style>\n",
              "<table border=\"1\" class=\"dataframe\">\n",
              "  <thead>\n",
              "    <tr style=\"text-align: right;\">\n",
              "      <th></th>\n",
              "      <th>Id</th>\n",
              "      <th>Product_Info_1</th>\n",
              "      <th>Product_Info_2</th>\n",
              "      <th>Product_Info_3</th>\n",
              "      <th>Product_Info_4</th>\n",
              "      <th>Product_Info_5</th>\n",
              "      <th>Product_Info_6</th>\n",
              "      <th>Product_Info_7</th>\n",
              "      <th>Ins_Age</th>\n",
              "      <th>Ht</th>\n",
              "      <th>...</th>\n",
              "      <th>Medical_Keyword_40</th>\n",
              "      <th>Medical_Keyword_41</th>\n",
              "      <th>Medical_Keyword_42</th>\n",
              "      <th>Medical_Keyword_43</th>\n",
              "      <th>Medical_Keyword_44</th>\n",
              "      <th>Medical_Keyword_45</th>\n",
              "      <th>Medical_Keyword_46</th>\n",
              "      <th>Medical_Keyword_47</th>\n",
              "      <th>Medical_Keyword_48</th>\n",
              "      <th>Response</th>\n",
              "    </tr>\n",
              "  </thead>\n",
              "  <tbody>\n",
              "    <tr>\n",
              "      <th>0</th>\n",
              "      <td>2</td>\n",
              "      <td>1</td>\n",
              "      <td>16</td>\n",
              "      <td>10</td>\n",
              "      <td>0.076923</td>\n",
              "      <td>2</td>\n",
              "      <td>1</td>\n",
              "      <td>1</td>\n",
              "      <td>0.641791</td>\n",
              "      <td>0.581818</td>\n",
              "      <td>...</td>\n",
              "      <td>0</td>\n",
              "      <td>0</td>\n",
              "      <td>0</td>\n",
              "      <td>0</td>\n",
              "      <td>0</td>\n",
              "      <td>0</td>\n",
              "      <td>0</td>\n",
              "      <td>0</td>\n",
              "      <td>0</td>\n",
              "      <td>8</td>\n",
              "    </tr>\n",
              "    <tr>\n",
              "      <th>1</th>\n",
              "      <td>5</td>\n",
              "      <td>1</td>\n",
              "      <td>0</td>\n",
              "      <td>26</td>\n",
              "      <td>0.076923</td>\n",
              "      <td>2</td>\n",
              "      <td>3</td>\n",
              "      <td>1</td>\n",
              "      <td>0.059701</td>\n",
              "      <td>0.600000</td>\n",
              "      <td>...</td>\n",
              "      <td>0</td>\n",
              "      <td>0</td>\n",
              "      <td>0</td>\n",
              "      <td>0</td>\n",
              "      <td>0</td>\n",
              "      <td>0</td>\n",
              "      <td>0</td>\n",
              "      <td>0</td>\n",
              "      <td>0</td>\n",
              "      <td>4</td>\n",
              "    </tr>\n",
              "    <tr>\n",
              "      <th>2</th>\n",
              "      <td>6</td>\n",
              "      <td>1</td>\n",
              "      <td>18</td>\n",
              "      <td>26</td>\n",
              "      <td>0.076923</td>\n",
              "      <td>2</td>\n",
              "      <td>3</td>\n",
              "      <td>1</td>\n",
              "      <td>0.029851</td>\n",
              "      <td>0.745455</td>\n",
              "      <td>...</td>\n",
              "      <td>0</td>\n",
              "      <td>0</td>\n",
              "      <td>0</td>\n",
              "      <td>0</td>\n",
              "      <td>0</td>\n",
              "      <td>0</td>\n",
              "      <td>0</td>\n",
              "      <td>0</td>\n",
              "      <td>0</td>\n",
              "      <td>8</td>\n",
              "    </tr>\n",
              "    <tr>\n",
              "      <th>3</th>\n",
              "      <td>7</td>\n",
              "      <td>1</td>\n",
              "      <td>17</td>\n",
              "      <td>10</td>\n",
              "      <td>0.487179</td>\n",
              "      <td>2</td>\n",
              "      <td>3</td>\n",
              "      <td>1</td>\n",
              "      <td>0.164179</td>\n",
              "      <td>0.672727</td>\n",
              "      <td>...</td>\n",
              "      <td>0</td>\n",
              "      <td>0</td>\n",
              "      <td>0</td>\n",
              "      <td>0</td>\n",
              "      <td>0</td>\n",
              "      <td>0</td>\n",
              "      <td>0</td>\n",
              "      <td>0</td>\n",
              "      <td>0</td>\n",
              "      <td>8</td>\n",
              "    </tr>\n",
              "    <tr>\n",
              "      <th>4</th>\n",
              "      <td>8</td>\n",
              "      <td>1</td>\n",
              "      <td>15</td>\n",
              "      <td>26</td>\n",
              "      <td>0.230769</td>\n",
              "      <td>2</td>\n",
              "      <td>3</td>\n",
              "      <td>1</td>\n",
              "      <td>0.417910</td>\n",
              "      <td>0.654545</td>\n",
              "      <td>...</td>\n",
              "      <td>0</td>\n",
              "      <td>0</td>\n",
              "      <td>0</td>\n",
              "      <td>0</td>\n",
              "      <td>0</td>\n",
              "      <td>0</td>\n",
              "      <td>0</td>\n",
              "      <td>0</td>\n",
              "      <td>0</td>\n",
              "      <td>8</td>\n",
              "    </tr>\n",
              "  </tbody>\n",
              "</table>\n",
              "<p>5 rows × 128 columns</p>\n",
              "</div>"
            ],
            "text/plain": [
              "   Id  Product_Info_1  Product_Info_2  Product_Info_3  Product_Info_4  \\\n",
              "0   2               1              16              10        0.076923   \n",
              "1   5               1               0              26        0.076923   \n",
              "2   6               1              18              26        0.076923   \n",
              "3   7               1              17              10        0.487179   \n",
              "4   8               1              15              26        0.230769   \n",
              "\n",
              "   Product_Info_5  Product_Info_6  Product_Info_7   Ins_Age        Ht  \\\n",
              "0               2               1               1  0.641791  0.581818   \n",
              "1               2               3               1  0.059701  0.600000   \n",
              "2               2               3               1  0.029851  0.745455   \n",
              "3               2               3               1  0.164179  0.672727   \n",
              "4               2               3               1  0.417910  0.654545   \n",
              "\n",
              "     ...     Medical_Keyword_40  Medical_Keyword_41  Medical_Keyword_42  \\\n",
              "0    ...                      0                   0                   0   \n",
              "1    ...                      0                   0                   0   \n",
              "2    ...                      0                   0                   0   \n",
              "3    ...                      0                   0                   0   \n",
              "4    ...                      0                   0                   0   \n",
              "\n",
              "   Medical_Keyword_43  Medical_Keyword_44  Medical_Keyword_45  \\\n",
              "0                   0                   0                   0   \n",
              "1                   0                   0                   0   \n",
              "2                   0                   0                   0   \n",
              "3                   0                   0                   0   \n",
              "4                   0                   0                   0   \n",
              "\n",
              "   Medical_Keyword_46  Medical_Keyword_47  Medical_Keyword_48  Response  \n",
              "0                   0                   0                   0         8  \n",
              "1                   0                   0                   0         4  \n",
              "2                   0                   0                   0         8  \n",
              "3                   0                   0                   0         8  \n",
              "4                   0                   0                   0         8  \n",
              "\n",
              "[5 rows x 128 columns]"
            ]
          },
          "metadata": {
            "tags": []
          },
          "execution_count": 71
        }
      ]
    },
    {
      "metadata": {
        "id": "7TKQNXHWLJWh",
        "colab_type": "code",
        "colab": {}
      },
      "cell_type": "code",
      "source": [
        "X = df_train.drop(['Id', 'Response'], axis=1)"
      ],
      "execution_count": 0,
      "outputs": []
    },
    {
      "metadata": {
        "id": "kMX9eqalvszy",
        "colab_type": "code",
        "colab": {}
      },
      "cell_type": "code",
      "source": [
        "Y = df_train['Response']"
      ],
      "execution_count": 0,
      "outputs": []
    },
    {
      "metadata": {
        "id": "z9iDBuDkvs0D",
        "colab_type": "code",
        "colab": {
          "base_uri": "https://localhost:8080/",
          "height": 253
        },
        "outputId": "720caaac-450f-4a3e-b720-77aa89df15d3"
      },
      "cell_type": "code",
      "source": [
        "X.head()"
      ],
      "execution_count": 74,
      "outputs": [
        {
          "output_type": "execute_result",
          "data": {
            "text/html": [
              "<div>\n",
              "<style scoped>\n",
              "    .dataframe tbody tr th:only-of-type {\n",
              "        vertical-align: middle;\n",
              "    }\n",
              "\n",
              "    .dataframe tbody tr th {\n",
              "        vertical-align: top;\n",
              "    }\n",
              "\n",
              "    .dataframe thead th {\n",
              "        text-align: right;\n",
              "    }\n",
              "</style>\n",
              "<table border=\"1\" class=\"dataframe\">\n",
              "  <thead>\n",
              "    <tr style=\"text-align: right;\">\n",
              "      <th></th>\n",
              "      <th>Product_Info_1</th>\n",
              "      <th>Product_Info_2</th>\n",
              "      <th>Product_Info_3</th>\n",
              "      <th>Product_Info_4</th>\n",
              "      <th>Product_Info_5</th>\n",
              "      <th>Product_Info_6</th>\n",
              "      <th>Product_Info_7</th>\n",
              "      <th>Ins_Age</th>\n",
              "      <th>Ht</th>\n",
              "      <th>Wt</th>\n",
              "      <th>...</th>\n",
              "      <th>Medical_Keyword_39</th>\n",
              "      <th>Medical_Keyword_40</th>\n",
              "      <th>Medical_Keyword_41</th>\n",
              "      <th>Medical_Keyword_42</th>\n",
              "      <th>Medical_Keyword_43</th>\n",
              "      <th>Medical_Keyword_44</th>\n",
              "      <th>Medical_Keyword_45</th>\n",
              "      <th>Medical_Keyword_46</th>\n",
              "      <th>Medical_Keyword_47</th>\n",
              "      <th>Medical_Keyword_48</th>\n",
              "    </tr>\n",
              "  </thead>\n",
              "  <tbody>\n",
              "    <tr>\n",
              "      <th>0</th>\n",
              "      <td>1</td>\n",
              "      <td>16</td>\n",
              "      <td>10</td>\n",
              "      <td>0.076923</td>\n",
              "      <td>2</td>\n",
              "      <td>1</td>\n",
              "      <td>1</td>\n",
              "      <td>0.641791</td>\n",
              "      <td>0.581818</td>\n",
              "      <td>0.148536</td>\n",
              "      <td>...</td>\n",
              "      <td>0</td>\n",
              "      <td>0</td>\n",
              "      <td>0</td>\n",
              "      <td>0</td>\n",
              "      <td>0</td>\n",
              "      <td>0</td>\n",
              "      <td>0</td>\n",
              "      <td>0</td>\n",
              "      <td>0</td>\n",
              "      <td>0</td>\n",
              "    </tr>\n",
              "    <tr>\n",
              "      <th>1</th>\n",
              "      <td>1</td>\n",
              "      <td>0</td>\n",
              "      <td>26</td>\n",
              "      <td>0.076923</td>\n",
              "      <td>2</td>\n",
              "      <td>3</td>\n",
              "      <td>1</td>\n",
              "      <td>0.059701</td>\n",
              "      <td>0.600000</td>\n",
              "      <td>0.131799</td>\n",
              "      <td>...</td>\n",
              "      <td>0</td>\n",
              "      <td>0</td>\n",
              "      <td>0</td>\n",
              "      <td>0</td>\n",
              "      <td>0</td>\n",
              "      <td>0</td>\n",
              "      <td>0</td>\n",
              "      <td>0</td>\n",
              "      <td>0</td>\n",
              "      <td>0</td>\n",
              "    </tr>\n",
              "    <tr>\n",
              "      <th>2</th>\n",
              "      <td>1</td>\n",
              "      <td>18</td>\n",
              "      <td>26</td>\n",
              "      <td>0.076923</td>\n",
              "      <td>2</td>\n",
              "      <td>3</td>\n",
              "      <td>1</td>\n",
              "      <td>0.029851</td>\n",
              "      <td>0.745455</td>\n",
              "      <td>0.288703</td>\n",
              "      <td>...</td>\n",
              "      <td>0</td>\n",
              "      <td>0</td>\n",
              "      <td>0</td>\n",
              "      <td>0</td>\n",
              "      <td>0</td>\n",
              "      <td>0</td>\n",
              "      <td>0</td>\n",
              "      <td>0</td>\n",
              "      <td>0</td>\n",
              "      <td>0</td>\n",
              "    </tr>\n",
              "    <tr>\n",
              "      <th>3</th>\n",
              "      <td>1</td>\n",
              "      <td>17</td>\n",
              "      <td>10</td>\n",
              "      <td>0.487179</td>\n",
              "      <td>2</td>\n",
              "      <td>3</td>\n",
              "      <td>1</td>\n",
              "      <td>0.164179</td>\n",
              "      <td>0.672727</td>\n",
              "      <td>0.205021</td>\n",
              "      <td>...</td>\n",
              "      <td>0</td>\n",
              "      <td>0</td>\n",
              "      <td>0</td>\n",
              "      <td>0</td>\n",
              "      <td>0</td>\n",
              "      <td>0</td>\n",
              "      <td>0</td>\n",
              "      <td>0</td>\n",
              "      <td>0</td>\n",
              "      <td>0</td>\n",
              "    </tr>\n",
              "    <tr>\n",
              "      <th>4</th>\n",
              "      <td>1</td>\n",
              "      <td>15</td>\n",
              "      <td>26</td>\n",
              "      <td>0.230769</td>\n",
              "      <td>2</td>\n",
              "      <td>3</td>\n",
              "      <td>1</td>\n",
              "      <td>0.417910</td>\n",
              "      <td>0.654545</td>\n",
              "      <td>0.234310</td>\n",
              "      <td>...</td>\n",
              "      <td>0</td>\n",
              "      <td>0</td>\n",
              "      <td>0</td>\n",
              "      <td>0</td>\n",
              "      <td>0</td>\n",
              "      <td>0</td>\n",
              "      <td>0</td>\n",
              "      <td>0</td>\n",
              "      <td>0</td>\n",
              "      <td>0</td>\n",
              "    </tr>\n",
              "  </tbody>\n",
              "</table>\n",
              "<p>5 rows × 126 columns</p>\n",
              "</div>"
            ],
            "text/plain": [
              "   Product_Info_1  Product_Info_2  Product_Info_3  Product_Info_4  \\\n",
              "0               1              16              10        0.076923   \n",
              "1               1               0              26        0.076923   \n",
              "2               1              18              26        0.076923   \n",
              "3               1              17              10        0.487179   \n",
              "4               1              15              26        0.230769   \n",
              "\n",
              "   Product_Info_5  Product_Info_6  Product_Info_7   Ins_Age        Ht  \\\n",
              "0               2               1               1  0.641791  0.581818   \n",
              "1               2               3               1  0.059701  0.600000   \n",
              "2               2               3               1  0.029851  0.745455   \n",
              "3               2               3               1  0.164179  0.672727   \n",
              "4               2               3               1  0.417910  0.654545   \n",
              "\n",
              "         Wt         ...          Medical_Keyword_39  Medical_Keyword_40  \\\n",
              "0  0.148536         ...                           0                   0   \n",
              "1  0.131799         ...                           0                   0   \n",
              "2  0.288703         ...                           0                   0   \n",
              "3  0.205021         ...                           0                   0   \n",
              "4  0.234310         ...                           0                   0   \n",
              "\n",
              "   Medical_Keyword_41  Medical_Keyword_42  Medical_Keyword_43  \\\n",
              "0                   0                   0                   0   \n",
              "1                   0                   0                   0   \n",
              "2                   0                   0                   0   \n",
              "3                   0                   0                   0   \n",
              "4                   0                   0                   0   \n",
              "\n",
              "   Medical_Keyword_44  Medical_Keyword_45  Medical_Keyword_46  \\\n",
              "0                   0                   0                   0   \n",
              "1                   0                   0                   0   \n",
              "2                   0                   0                   0   \n",
              "3                   0                   0                   0   \n",
              "4                   0                   0                   0   \n",
              "\n",
              "   Medical_Keyword_47  Medical_Keyword_48  \n",
              "0                   0                   0  \n",
              "1                   0                   0  \n",
              "2                   0                   0  \n",
              "3                   0                   0  \n",
              "4                   0                   0  \n",
              "\n",
              "[5 rows x 126 columns]"
            ]
          },
          "metadata": {
            "tags": []
          },
          "execution_count": 74
        }
      ]
    },
    {
      "metadata": {
        "id": "jLwe1h2Tvs0i",
        "colab_type": "code",
        "colab": {
          "base_uri": "https://localhost:8080/",
          "height": 102
        },
        "outputId": "7f660877-6334-48ec-adfc-58f71c1c4b1c"
      },
      "cell_type": "code",
      "source": [
        "X.info()"
      ],
      "execution_count": 75,
      "outputs": [
        {
          "output_type": "stream",
          "text": [
            "<class 'pandas.core.frame.DataFrame'>\n",
            "RangeIndex: 59381 entries, 0 to 59380\n",
            "Columns: 126 entries, Product_Info_1 to Medical_Keyword_48\n",
            "dtypes: float64(13), int64(113)\n",
            "memory usage: 57.1 MB\n"
          ],
          "name": "stdout"
        }
      ]
    },
    {
      "metadata": {
        "id": "rXgaR-tOvs0o",
        "colab_type": "text"
      },
      "cell_type": "markdown",
      "source": [
        "# Visualization of Response Variable distibution"
      ]
    },
    {
      "metadata": {
        "id": "VBFEWnHkvs0p",
        "colab_type": "code",
        "colab": {
          "base_uri": "https://localhost:8080/",
          "height": 350
        },
        "outputId": "3bfc5f8d-6d17-4983-9cea-32fbed2ef559"
      },
      "cell_type": "code",
      "source": [
        "sns.countplot('Response',data=df_train)"
      ],
      "execution_count": 76,
      "outputs": [
        {
          "output_type": "stream",
          "text": [
            "/usr/local/lib/python3.6/dist-packages/seaborn/categorical.py:1428: FutureWarning: remove_na is deprecated and is a private function. Do not use.\n",
            "  stat_data = remove_na(group_data)\n"
          ],
          "name": "stderr"
        },
        {
          "output_type": "execute_result",
          "data": {
            "text/plain": [
              "<matplotlib.axes._subplots.AxesSubplot at 0x7f163c4806d8>"
            ]
          },
          "metadata": {
            "tags": []
          },
          "execution_count": 76
        },
        {
          "output_type": "display_data",
          "data": {
            "image/png": "[encoded data removed]",
            "text/plain": [
              "<Figure size 432x288 with 1 Axes>"
            ]
          },
          "metadata": {
            "tags": []
          }
        }
      ]
    },
    {
      "metadata": {
        "id": "UTXiKjDDvs0x",
        "colab_type": "code",
        "colab": {}
      },
      "cell_type": "code",
      "source": [
        "from sklearn.model_selection import train_test_split,KFold,cross_val_score\n",
        "from sklearn.preprocessing import LabelEncoder,MinMaxScaler,StandardScaler\n",
        "#\n",
        "from sklearn.metrics import classification_report,confusion_matrix,accuracy_score\n",
        "#\n",
        "from sklearn.pipeline import Pipeline\n",
        "#\n",
        "from sklearn.utils import resample\n",
        "\n",
        "#### Classification Models\n",
        "from sklearn.linear_model import LogisticRegression\n",
        "from sklearn.tree import DecisionTreeClassifier\n",
        "from sklearn.neighbors import KNeighborsClassifier\n",
        "from sklearn.naive_bayes import GaussianNB\n",
        "from sklearn.svm import SVC\n",
        "from sklearn.ensemble import GradientBoostingClassifier\n",
        "from sklearn.ensemble import AdaBoostClassifier\n",
        "from sklearn.ensemble import RandomForestClassifier\n",
        "from sklearn.ensemble import ExtraTreesClassifier\n",
        "#\n",
        "import warnings\n",
        "warnings.filterwarnings(\"ignore\")"
      ],
      "execution_count": 0,
      "outputs": []
    },
    {
      "metadata": {
        "id": "tcG0CEKavs04",
        "colab_type": "text"
      },
      "cell_type": "markdown",
      "source": [
        "# DATA NORMALIZATION"
      ]
    },
    {
      "metadata": {
        "id": "yBR34RhGvs06",
        "colab_type": "code",
        "colab": {}
      },
      "cell_type": "code",
      "source": [
        "X = X.astype('float32')"
      ],
      "execution_count": 0,
      "outputs": []
    },
    {
      "metadata": {
        "id": "eaCqZGndvs1B",
        "colab_type": "code",
        "colab": {},
        "outputId": "db3775fc-ee25-47f6-a299-77090c036f45"
      },
      "cell_type": "code",
      "source": [
        "X.info()"
      ],
      "execution_count": 0,
      "outputs": [
        {
          "output_type": "stream",
          "text": [
            "<class 'pandas.core.frame.DataFrame'>\n",
            "RangeIndex: 59381 entries, 0 to 59380\n",
            "Columns: 144 entries, Product_Info_1 to E1\n",
            "dtypes: float32(144)\n",
            "memory usage: 32.6 MB\n"
          ],
          "name": "stdout"
        }
      ]
    },
    {
      "metadata": {
        "id": "ia5Ov2Gvvs1J",
        "colab_type": "code",
        "colab": {}
      },
      "cell_type": "code",
      "source": [
        "scaled = StandardScaler()\n",
        "X_scaled = scaled.fit_transform(X)"
      ],
      "execution_count": 0,
      "outputs": []
    },
    {
      "metadata": {
        "id": "LAGCS5uLvs1M",
        "colab_type": "code",
        "colab": {
          "base_uri": "https://localhost:8080/",
          "height": 34
        },
        "outputId": "9cfc53d8-67f5-455a-8e3e-bf330eaf5b68"
      },
      "cell_type": "code",
      "source": [
        "X_scaled.shape"
      ],
      "execution_count": 79,
      "outputs": [
        {
          "output_type": "execute_result",
          "data": {
            "text/plain": [
              "(59381, 126)"
            ]
          },
          "metadata": {
            "tags": []
          },
          "execution_count": 79
        }
      ]
    },
    {
      "metadata": {
        "id": "-l_e4HSnvs1R",
        "colab_type": "code",
        "colab": {
          "base_uri": "https://localhost:8080/",
          "height": 238
        },
        "outputId": "c6f2bf29-31a8-4116-f577-e4c329161616"
      },
      "cell_type": "code",
      "source": [
        "X_scaled"
      ],
      "execution_count": 80,
      "outputs": [
        {
          "output_type": "execute_result",
          "data": {
            "text/plain": [
              "array([[-0.16452547,  0.6452571 , -2.84173109, ..., -0.09252145,\n",
              "        -0.14251185, -0.24007598],\n",
              "       [-0.16452547, -2.30903124,  0.312319  , ..., -0.09252145,\n",
              "        -0.14251185, -0.24007598],\n",
              "       [-0.16452547,  1.01454314,  0.312319  , ..., -0.09252145,\n",
              "        -0.14251185, -0.24007598],\n",
              "       ...,\n",
              "       [-0.16452547,  1.01454314,  0.312319  , ..., -0.09252145,\n",
              "        -0.14251185, -0.24007598],\n",
              "       [-0.16452547,  0.46061408, -2.84173109, ..., -0.09252145,\n",
              "        -0.14251185, -0.24007598],\n",
              "       [-0.16452547, -1.01653009,  0.312319  , ..., -0.09252145,\n",
              "        -0.14251185, -0.24007598]])"
            ]
          },
          "metadata": {
            "tags": []
          },
          "execution_count": 80
        }
      ]
    },
    {
      "metadata": {
        "id": "GvZY1zqnvs1W",
        "colab_type": "text"
      },
      "cell_type": "markdown",
      "source": [
        "# TRAIN TEST SPLIT the input data set"
      ]
    },
    {
      "metadata": {
        "id": "Ymy7oRmJvs1X",
        "colab_type": "code",
        "colab": {}
      },
      "cell_type": "code",
      "source": [
        "Y = df_train['Response'].values"
      ],
      "execution_count": 0,
      "outputs": []
    },
    {
      "metadata": {
        "id": "iC87JJfGvs1c",
        "colab_type": "code",
        "colab": {
          "base_uri": "https://localhost:8080/",
          "height": 34
        },
        "outputId": "4ac6fd9c-b675-4f40-9e48-e38fe71aa886"
      },
      "cell_type": "code",
      "source": [
        "Y.shape"
      ],
      "execution_count": 82,
      "outputs": [
        {
          "output_type": "execute_result",
          "data": {
            "text/plain": [
              "(59381,)"
            ]
          },
          "metadata": {
            "tags": []
          },
          "execution_count": 82
        }
      ]
    },
    {
      "metadata": {
        "id": "8uVfXFzvvs1h",
        "colab_type": "code",
        "colab": {
          "base_uri": "https://localhost:8080/",
          "height": 51
        },
        "outputId": "4f36d9b8-f87f-4168-ef0e-6eee5f23feb5"
      },
      "cell_type": "code",
      "source": [
        "#train test split\n",
        "\n",
        "X_train,X_test,y_train,y_test = train_test_split(X_scaled,Y,test_size=0.2,random_state=1)\n",
        "\n",
        "print('training data set shape : ',X_train.shape)\n",
        "print('test data set shape : ',X_test.shape)"
      ],
      "execution_count": 83,
      "outputs": [
        {
          "output_type": "stream",
          "text": [
            "training data set shape :  (47504, 126)\n",
            "test data set shape :  (11877, 126)\n"
          ],
          "name": "stdout"
        }
      ]
    },
    {
      "metadata": {
        "id": "CJE8acB5vs1n",
        "colab_type": "code",
        "colab": {}
      },
      "cell_type": "code",
      "source": [
        "lr = LogisticRegression()\n",
        "lr.fit(X_train,y_train)\n",
        "predict = lr.predict(X_test)"
      ],
      "execution_count": 0,
      "outputs": []
    },
    {
      "metadata": {
        "id": "8iaIeUHCvs1t",
        "colab_type": "code",
        "colab": {
          "base_uri": "https://localhost:8080/",
          "height": 34
        },
        "outputId": "e2858865-0c07-44a5-8f86-22fefda551fd"
      },
      "cell_type": "code",
      "source": [
        "accuracy_score(y_test,predict)"
      ],
      "execution_count": 85,
      "outputs": [
        {
          "output_type": "execute_result",
          "data": {
            "text/plain": [
              "0.48732844994527236"
            ]
          },
          "metadata": {
            "tags": []
          },
          "execution_count": 85
        }
      ]
    },
    {
      "metadata": {
        "id": "m-sW7viDMG3X",
        "colab_type": "text"
      },
      "cell_type": "markdown",
      "source": [
        "**Spot Check some Classification  Algorithms**"
      ]
    },
    {
      "metadata": {
        "id": "I3DRsh05vs1w",
        "colab_type": "code",
        "colab": {
          "base_uri": "https://localhost:8080/",
          "height": 85
        },
        "outputId": "72d6674a-4404-400e-f18d-0e60b8d9338b"
      },
      "cell_type": "code",
      "source": [
        "# Spot Check some Classification  Algorithms\n",
        "models = []\n",
        "models.append((\"LR\", LogisticRegression()))\n",
        "models.append((\"KNN\", KNeighborsClassifier()))\n",
        "models.append((\"DT\", DecisionTreeClassifier()))\n",
        "models.append((\"NB\", GaussianNB()))\n",
        "\n",
        "# Test options and evaluation metric\n",
        "num_folds =10\n",
        "seed = 1\n",
        "scoring = 'accuracy'\n",
        "\n",
        "# evaluate each model in turn\n",
        "results = []\n",
        "names = []\n",
        "\n",
        "for name,model in models:\n",
        "    kfold = KFold(n_splits=num_folds,random_state=1)\n",
        "    cv_results = cross_val_score(model,X_train,y_train,cv=kfold,scoring=scoring)\n",
        "    results.append(cv_results)\n",
        "    names.append(name)\n",
        "    msg = f\"{name} - results(mean) : {cv_results.mean():f} -results(std): {cv_results.std():f}\"\n",
        "    print(msg) "
      ],
      "execution_count": 86,
      "outputs": [
        {
          "output_type": "stream",
          "text": [
            "LR - results(mean) : 0.496337 -results(std): 0.005413\n",
            "KNN - results(mean) : 0.391462 -results(std): 0.010046\n",
            "DT - results(mean) : 0.441731 -results(std): 0.006292\n",
            "NB - results(mean) : 0.333088 -results(std): 0.005315\n"
          ],
          "name": "stdout"
        }
      ]
    },
    {
      "metadata": {
        "id": "tglI3VsKQRD4",
        "colab_type": "code",
        "colab": {
          "base_uri": "https://localhost:8080/",
          "height": 153
        },
        "outputId": "5cac263d-40b0-4e4b-d1fb-3dd719a4f762"
      },
      "cell_type": "code",
      "source": [
        "results"
      ],
      "execution_count": 89,
      "outputs": [
        {
          "output_type": "execute_result",
          "data": {
            "text/plain": [
              "[array([0.49905283, 0.48600295, 0.49694801, 0.49568512, 0.50568421,\n",
              "        0.48947368, 0.5       , 0.49242105, 0.49894737, 0.49915789]),\n",
              " array([0.3906546 , 0.39128605, 0.40012629, 0.39318038, 0.38315789,\n",
              "        0.37831579, 0.416     , 0.39178947, 0.38652632, 0.38357895]),\n",
              " array([0.44117028, 0.43211955, 0.43569775, 0.45253631, 0.44757895,\n",
              "        0.44484211, 0.44778947, 0.43642105, 0.44357895, 0.43557895]),\n",
              " array([0.33950747, 0.32330036, 0.33045675, 0.33698169, 0.32652632,\n",
              "        0.33726316, 0.33010526, 0.33663158, 0.33094737, 0.33915789])]"
            ]
          },
          "metadata": {
            "tags": []
          },
          "execution_count": 89
        }
      ]
    },
    {
      "metadata": {
        "id": "P53224eqQXuO",
        "colab_type": "code",
        "colab": {}
      },
      "cell_type": "code",
      "source": [
        "r= []\n",
        "for i in results:\n",
        "  r.append(i[0])"
      ],
      "execution_count": 0,
      "outputs": []
    },
    {
      "metadata": {
        "id": "bF_Kcx5vQrRW",
        "colab_type": "code",
        "colab": {
          "base_uri": "https://localhost:8080/",
          "height": 85
        },
        "outputId": "45f6fd95-c690-48df-bd5c-ddad515a477e"
      },
      "cell_type": "code",
      "source": [
        "r"
      ],
      "execution_count": 93,
      "outputs": [
        {
          "output_type": "execute_result",
          "data": {
            "text/plain": [
              "[0.49905283098295095,\n",
              " 0.3906545990317828,\n",
              " 0.44117027994106506,\n",
              " 0.3395074721111345]"
            ]
          },
          "metadata": {
            "tags": []
          },
          "execution_count": 93
        }
      ]
    },
    {
      "metadata": {
        "id": "51HEkdacQtYn",
        "colab_type": "code",
        "colab": {}
      },
      "cell_type": "code",
      "source": [
        "d = pd.DataFrame({'Models':names,'Results':r})"
      ],
      "execution_count": 0,
      "outputs": []
    },
    {
      "metadata": {
        "id": "bFJOdWnKvs10",
        "colab_type": "text"
      },
      "cell_type": "markdown",
      "source": [
        "# Visualize the Comparison of algorithms using Box Plot"
      ]
    },
    {
      "metadata": {
        "id": "qKI_vOtORAr1",
        "colab_type": "code",
        "colab": {
          "base_uri": "https://localhost:8080/",
          "height": 308
        },
        "outputId": "cdfd0e0f-f521-4332-f852-0e7e7bc26db4"
      },
      "cell_type": "code",
      "source": [
        "d.set_index('Models').plot(kind='bar')"
      ],
      "execution_count": 101,
      "outputs": [
        {
          "output_type": "execute_result",
          "data": {
            "text/plain": [
              "<matplotlib.axes._subplots.AxesSubplot at 0x7f1636ce6908>"
            ]
          },
          "metadata": {
            "tags": []
          },
          "execution_count": 101
        },
        {
          "output_type": "display_data",
          "data": {
            "image/png": "[encoded data removed]",
            "text/plain": [
              "<Figure size 432x288 with 1 Axes>"
            ]
          },
          "metadata": {
            "tags": []
          }
        }
      ]
    },
    {
      "metadata": {
        "id": "_FPeW-X8vs14",
        "colab_type": "text"
      },
      "cell_type": "markdown",
      "source": [
        "#### Logistic Regression has better accuracy as compared to other algorithms but the accuracy is only 50%"
      ]
    },
    {
      "metadata": {
        "id": "5J1PiBgpvs14",
        "colab_type": "text"
      },
      "cell_type": "markdown",
      "source": [
        "# Comparing ensemble algorithms\n",
        "\n",
        "#### What is an ensemble method?\n",
        "\n",
        "\n",
        "The idea here is to train multiple models, each with the objective to predict or classify a set of results.\n",
        "\n",
        "Most of the errors from a model’s learning are from three main factors:\n",
        "\n",
        "* variance, \n",
        "\n",
        "* noise, and \n",
        "\n",
        "* bias. \n",
        "\n",
        "\n",
        "By using ensemble methods, we are able to increase the stability of the final model and reduce the errors mentioned previously. By combining many models, we’re able to (mostly) reduce the variance, even when they are individually not great, as we won’t suffer from random errors from a single source.\n",
        "\n",
        "The main principle behind ensemble modelling is to group weak learners together to form one strong learner.\n",
        "\n",
        "From many, together they emerge as one.\n",
        "\n",
        "#### There are three main terms describing the ensemble (combination) of various models into one more effective model:\n",
        "\n",
        "* Bagging to decrease the model’s variance;\n",
        "\n",
        "* Boosting to decreasing the model’s bias, and;\n",
        "\n",
        "* Stacking to increasing the predictive force of the classifier.\n",
        "\n"
      ]
    },
    {
      "metadata": {
        "id": "TMj6K6bMvs15",
        "colab_type": "code",
        "colab": {},
        "outputId": "8c44ae86-dfef-4412-d957-491c2e748a79"
      },
      "cell_type": "code",
      "source": [
        "# Compare Algorithms\n",
        "\n",
        "pipelines = []\n",
        "pipelines.append((\"AB\",\n",
        "                  Pipeline([(\"AB\", AdaBoostClassifier())])))\n",
        "pipelines.append((\"GBM\",\n",
        "                  Pipeline([(\"GBM\", GradientBoostingClassifier())])))\n",
        "pipelines.append((\"RF\",\n",
        "                  Pipeline([(\"RF\", RandomForestClassifier())])))\n",
        "pipelines.append((\"ET\",\n",
        "                  Pipeline([(\"ET\", ExtraTreesClassifier())])))\n",
        "\n",
        "results = []\n",
        "names = []\n",
        "\n",
        "#\n",
        "for name,model in pipelines:\n",
        "    kfold = KFold(n_splits = num_folds,random_state=1)\n",
        "    cv_results = cross_val_score(model,X_train,y_train,cv=kfold,scoring='accuracy')\n",
        "    results.append(cv_results)\n",
        "    names.append(name)\n",
        "    msg = f\"{name} - results(mean) : {cv_results.mean():f} -results(std): {cv_results.std():f}\"\n",
        "    print(msg)"
      ],
      "execution_count": 0,
      "outputs": [
        {
          "output_type": "stream",
          "text": [
            "AB - results(mean) : 0.511704 -results(std): 0.006959\n",
            "GBM - results(mean) : 0.573320 -results(std): 0.004510\n",
            "RF - results(mean) : 0.511620 -results(std): 0.006809\n",
            "ET - results(mean) : 0.483223 -results(std): 0.004896\n"
          ],
          "name": "stdout"
        }
      ]
    },
    {
      "metadata": {
        "id": "qzxkuEI5vs18",
        "colab_type": "code",
        "colab": {},
        "outputId": "40b5fd5c-9088-45b9-df5e-7d49326c58cf"
      },
      "cell_type": "code",
      "source": [
        "pipelines"
      ],
      "execution_count": 0,
      "outputs": [
        {
          "output_type": "execute_result",
          "data": {
            "text/plain": [
              "[('AB', Pipeline(memory=None,\n",
              "       steps=[('AB', AdaBoostClassifier(algorithm='SAMME.R', base_estimator=None,\n",
              "            learning_rate=1.0, n_estimators=50, random_state=None))])),\n",
              " ('GBM', Pipeline(memory=None,\n",
              "       steps=[('GBM', GradientBoostingClassifier(criterion='friedman_mse', init=None,\n",
              "                learning_rate=0.1, loss='deviance', max_depth=3,\n",
              "                max_features=None, max_leaf_nodes=None,\n",
              "                min_impurity_decrease=0.0, min_impurity_split=None,\n",
              "                min_samples_leaf=1, min_samples_split=2,\n",
              "                min_weight_fraction_leaf=0.0, n_estimators=100,\n",
              "                presort='auto', random_state=None, subsample=1.0, verbose=0,\n",
              "                warm_start=False))])),\n",
              " ('RF', Pipeline(memory=None,\n",
              "       steps=[('RF', RandomForestClassifier(bootstrap=True, class_weight=None, criterion='gini',\n",
              "              max_depth=None, max_features='auto', max_leaf_nodes=None,\n",
              "              min_impurity_decrease=0.0, min_impurity_split=None,\n",
              "              min_samples_leaf=1, min_samples_split=2,\n",
              "              min_weight_fraction_leaf=0.0, n_estimators=10, n_jobs=1,\n",
              "              oob_score=False, random_state=None, verbose=0,\n",
              "              warm_start=False))])),\n",
              " ('ET', Pipeline(memory=None,\n",
              "       steps=[('ET', ExtraTreesClassifier(bootstrap=False, class_weight=None, criterion='gini',\n",
              "             max_depth=None, max_features='auto', max_leaf_nodes=None,\n",
              "             min_impurity_decrease=0.0, min_impurity_split=None,\n",
              "             min_samples_leaf=1, min_samples_split=2,\n",
              "             min_weight_fraction_leaf=0.0, n_estimators=10, n_jobs=1,\n",
              "             oob_score=False, random_state=None, verbose=0, warm_start=False))]))]"
            ]
          },
          "metadata": {
            "tags": []
          },
          "execution_count": 155
        }
      ]
    },
    {
      "metadata": {
        "id": "udcD4ub0vs2A",
        "colab_type": "text"
      },
      "cell_type": "markdown",
      "source": [
        "# Compare Algorithms - Visualization"
      ]
    },
    {
      "metadata": {
        "id": "1S5oCXRovs2B",
        "colab_type": "code",
        "colab": {},
        "outputId": "663a934b-6278-410a-b83a-216c15577a0f"
      },
      "cell_type": "code",
      "source": [
        "plt.figure(figsize=(11,8))\n",
        "sns.boxplot(x=names, y=results)\n",
        "plt.ylabel('Result_Scores')\n",
        "plt.show()"
      ],
      "execution_count": 0,
      "outputs": [
        {
          "output_type": "display_data",
          "data": {
            "image/png": "[encoded data removed]",
            "text/plain": [
              "<Figure size 792x576 with 1 Axes>"
            ]
          },
          "metadata": {
            "tags": []
          }
        }
      ]
    },
    {
      "metadata": {
        "id": "QLv6UByUvs2F",
        "colab_type": "text"
      },
      "cell_type": "markdown",
      "source": [
        "#### Note GBM classifier has the best accuracy as compared to other Ensemble techniques"
      ]
    },
    {
      "metadata": {
        "id": "O5Xi-5Q2vs2F",
        "colab_type": "text"
      },
      "cell_type": "markdown",
      "source": [
        "# Using XGBOOSTClassifier Boosting Method of Ensemble model"
      ]
    },
    {
      "metadata": {
        "id": "jI3qSMWMvs2G",
        "colab_type": "code",
        "colab": {}
      },
      "cell_type": "code",
      "source": [
        "from xgboost.sklearn import XGBClassifier\n",
        "#set the parameters for the xgbosst model\n",
        "params = {\n",
        "    'objective': 'binary:logistic',\n",
        "    'max_depth': 2,\n",
        "    'learning_rate': 1.0,\n",
        "    'silent': 1.0,\n",
        "    'n_estimators': 5\n",
        "}\n",
        "params['eval_metric'] = ['logloss', 'auc']"
      ],
      "execution_count": 0,
      "outputs": []
    },
    {
      "metadata": {
        "id": "SS7VlMk7vs2P",
        "colab_type": "text"
      },
      "cell_type": "markdown",
      "source": [
        "# Train the XGBClassifier model"
      ]
    },
    {
      "metadata": {
        "id": "y95__Asvvs2Q",
        "colab_type": "code",
        "colab": {}
      },
      "cell_type": "code",
      "source": [
        "bst = XGBClassifier(**params).fit(X_train,y_train)"
      ],
      "execution_count": 0,
      "outputs": []
    },
    {
      "metadata": {
        "id": "Bjjys5hDvs2U",
        "colab_type": "text"
      },
      "cell_type": "markdown",
      "source": [
        "# Predict the Response"
      ]
    },
    {
      "metadata": {
        "id": "TOQQYbVEvs2V",
        "colab_type": "code",
        "colab": {}
      },
      "cell_type": "code",
      "source": [
        "y_pred = bst.predict(X_test)"
      ],
      "execution_count": 0,
      "outputs": []
    },
    {
      "metadata": {
        "id": "tGTWu02dvs2g",
        "colab_type": "code",
        "colab": {},
        "outputId": "49d3575c-eb1a-4980-d6e7-78511137bf92"
      },
      "cell_type": "code",
      "source": [
        "print(\"Accuracy score:\", accuracy_score(y_test, y_pred))\n",
        "print(\"Classification report\")\n",
        "print(classification_report(y_test, y_pred))"
      ],
      "execution_count": 0,
      "outputs": [
        {
          "output_type": "stream",
          "text": [
            "Accuracy score: 0.5232802896354298\n",
            "Classification report\n",
            "             precision    recall  f1-score   support\n",
            "\n",
            "          1       0.42      0.16      0.23      1280\n",
            "          2       0.45      0.17      0.24      1326\n",
            "          3       0.56      0.45      0.50       194\n",
            "          4       0.57      0.70      0.63       283\n",
            "          5       0.52      0.57      0.55      1122\n",
            "          6       0.38      0.42      0.40      2206\n",
            "          7       0.41      0.27      0.33      1608\n",
            "          8       0.62      0.91      0.74      3858\n",
            "\n",
            "avg / total       0.49      0.52      0.48     11877\n",
            "\n"
          ],
          "name": "stdout"
        }
      ]
    },
    {
      "metadata": {
        "id": "sRji8RTjvs2q",
        "colab_type": "code",
        "colab": {},
        "outputId": "74c8c8cc-5126-4a65-fe46-f653bc617105"
      },
      "cell_type": "code",
      "source": [
        "import scikitplot\n",
        "\n",
        "scikitplot.metrics.plot_confusion_matrix(y_test,y_pred)"
      ],
      "execution_count": 0,
      "outputs": [
        {
          "output_type": "execute_result",
          "data": {
            "text/plain": [
              "<matplotlib.axes._subplots.AxesSubplot at 0x32778240>"
            ]
          },
          "metadata": {
            "tags": []
          },
          "execution_count": 136
        },
        {
          "output_type": "display_data",
          "data": {
            "text/plain": [
              "<Figure size 1440x792 with 0 Axes>"
            ]
          },
          "metadata": {
            "tags": []
          }
        },
        {
          "output_type": "display_data",
          "data": {
            "image/png": "[encoded data removed]",
            "text/plain": [
              "<Figure size 432x288 with 2 Axes>"
            ]
          },
          "metadata": {
            "tags": []
          }
        }
      ]
    },
    {
      "metadata": {
        "id": "OjpnTOlWvs2v",
        "colab_type": "text"
      },
      "cell_type": "markdown",
      "source": [
        "# Choose Optimal Features"
      ]
    },
    {
      "metadata": {
        "id": "wpiAHQCCvs2v",
        "colab_type": "code",
        "colab": {},
        "outputId": "63acd130-968f-48be-98ac-e75ce8a6b669"
      },
      "cell_type": "code",
      "source": [
        "from sklearn.feature_selection import SelectKBest\n",
        "from sklearn.feature_selection import chi2\n",
        "select_feature = SelectKBest(chi2,k=5)\n",
        "X_train,X_test,y_train,y_test = train_test_split(X, df_train['Response'],test_size=0.2,random_state=1)\n",
        "select_feature.fit(X_train,y_train)\n",
        "print(\"Feature_List : \",X_train.columns)\n",
        "print(\"Features Scores : \",np.round(np.array(select_feature.scores_),2))"
      ],
      "execution_count": 0,
      "outputs": [
        {
          "output_type": "stream",
          "text": [
            "Feature_List :  Index(['Product_Info_1', 'Product_Info_3', 'Product_Info_4', 'Product_Info_5',\n",
            "       'Product_Info_6', 'Product_Info_7', 'Ins_Age', 'Ht', 'Wt', 'BMI',\n",
            "       ...\n",
            "       'B2', 'C1', 'C2', 'C3', 'C4', 'D1', 'D2', 'D3', 'D4', 'E1'],\n",
            "      dtype='object', length=144)\n",
            "Features Scores :  [3.2200000e+00 4.9594000e+02 5.7789000e+02 1.2000000e-01 2.0560000e+01\n",
            " 1.6700000e+00 3.2291000e+02 9.4900000e+00 2.8279000e+02 3.9162000e+02\n",
            " 2.5710000e+01 1.2660600e+03 3.9958000e+02 1.1790000e+01 2.3810000e+01\n",
            " 1.0222000e+02 8.9820000e+01 1.5600000e+00 1.2530000e+01 3.0800000e+00\n",
            " 2.9140000e+01 3.6131000e+02 3.9740000e+01 2.5600000e+01 7.7430000e+01\n",
            " 1.4501000e+02 1.5005000e+02 4.8000000e-01 1.4829000e+02 1.2690000e+01\n",
            " 3.3190000e+01 5.3820000e+01 1.1480000e+01 1.8900000e+00 3.3630000e+01\n",
            " 8.8000000e-01 7.6506200e+03 2.9650200e+03 6.0000000e+00 9.4755000e+02\n",
            " 2.7200000e+00 9.6600000e+01 1.0000000e+00 6.3300000e+00 2.9690000e+01\n",
            " 1.6825570e+04 3.0000000e-01 7.0000000e+00 1.3518000e+02 7.2000000e-01\n",
            " 3.4521692e+05 4.3063000e+02 2.1000000e+00 2.4390000e+01 4.4000000e+00\n",
            " 2.6600000e+00 1.3810000e+01 1.0700000e+00 1.7326500e+03 1.2874930e+04\n",
            " 9.4700000e+00 4.0400000e+00 5.4100000e+00 3.7490000e+01 1.1943000e+02\n",
            " 1.8440000e+01 1.1400000e+00 1.8444000e+03 1.2641000e+02 2.8630000e+01\n",
            " 3.6000000e-01 4.8800000e+00 1.6800000e+00 6.8000000e-01 2.9252000e+02\n",
            " 2.1330000e+01 9.6380000e+01 4.6029000e+02 1.2870000e+01 3.5050000e+03\n",
            " 8.3270000e+01 3.3110000e+01 1.6280000e+01 3.4970000e+01 2.1180000e+01\n",
            " 7.1140000e+01 1.9012000e+02 3.9250000e+01 8.2160000e+01 7.0860000e+01\n",
            " 5.3160000e+01 4.4957200e+03 1.4742000e+02 2.9460000e+01 8.1420000e+01\n",
            " 7.1690000e+01 1.4550000e+01 4.4120000e+01 1.9072000e+02 9.1924000e+02\n",
            " 3.0873000e+02 7.6723000e+02 2.4570000e+01 1.2502000e+02 5.3440000e+01\n",
            " 2.9280000e+01 8.9880000e+01 1.4589000e+02 1.1230000e+01 1.7719000e+02\n",
            " 7.5660000e+01 1.5855000e+02 6.2230000e+01 3.3193000e+02 5.7158000e+02\n",
            " 2.3300000e+01 2.6580000e+02 2.7650000e+01 4.3356000e+02 1.7902000e+02\n",
            " 1.7750000e+01 1.0880000e+01 2.1107000e+02 2.1984000e+02 1.2743400e+03\n",
            " 1.6886000e+02 3.1510000e+01 3.8660000e+01 3.5580000e+01 1.3916000e+02\n",
            " 4.9894000e+02 2.8276500e+03 2.5657000e+02 8.4230000e+01 1.4173000e+02\n",
            " 1.8560000e+01 1.7850000e+01 6.3700000e+00 1.5790000e+01 9.4287000e+02\n",
            " 3.2853000e+02 2.5532000e+02 1.0519700e+03 1.2854000e+02]\n"
          ],
          "name": "stdout"
        }
      ]
    },
    {
      "metadata": {
        "id": "j42NUrUxvs23",
        "colab_type": "code",
        "colab": {},
        "outputId": "d138a57c-f271-4988-9d39-dd9a430bb1b9"
      },
      "cell_type": "code",
      "source": [
        "X_train_2 = select_feature.transform(X_train)\n",
        "X_train_2.shape"
      ],
      "execution_count": 0,
      "outputs": [
        {
          "output_type": "execute_result",
          "data": {
            "text/plain": [
              "(47504, 5)"
            ]
          },
          "metadata": {
            "tags": []
          },
          "execution_count": 162
        }
      ]
    },
    {
      "metadata": {
        "id": "8aHbVUU5vs27",
        "colab_type": "code",
        "colab": {},
        "outputId": "0519d4b9-717a-4d03-e7f1-b21a7ba5fafd"
      },
      "cell_type": "code",
      "source": [
        "X_test_2 = select_feature.transform(X_test)\n",
        "X_test_2.shape"
      ],
      "execution_count": 0,
      "outputs": [
        {
          "output_type": "execute_result",
          "data": {
            "text/plain": [
              "(11877, 5)"
            ]
          },
          "metadata": {
            "tags": []
          },
          "execution_count": 163
        }
      ]
    },
    {
      "metadata": {
        "id": "bQYlJknVvs3G",
        "colab_type": "code",
        "colab": {},
        "outputId": "57ac6a27-09c1-4b76-b065-0fe3c1185c5b"
      },
      "cell_type": "code",
      "source": [
        "from sklearn.multiclass import OneVsRestClassifier\n",
        "from imblearn.metrics import classification_report_imbalanced\n",
        "from imblearn.metrics import classification_report_imbalanced\n",
        "classifiers = {'RandomForestClassifier':RandomForestClassifier(),\n",
        "               'GradientBoostingClassifier':GradientBoostingClassifier(),\n",
        "               'ExtraTreesClassifier':ExtraTreesClassifier(),\n",
        "               'AdaBoostClassifier':AdaBoostClassifier(),\n",
        "               'LogisticRegression':LogisticRegression()}\n",
        "for keys,items in classifiers.items():\n",
        "  classifier = OneVsRestClassifier(items)\n",
        "\n",
        "  # train\n",
        "  classifier.fit(X_train_2, y_train)\n",
        "\n",
        "  # predict\n",
        "  predictions = classifier.predict(X_test_2)\n",
        "  \n",
        "  print(\"Accuracy_Score for {} model : {}\".format(keys,accuracy_score(y_test,predictions)))\n",
        "  print(\"=\"*80)\n",
        "  print(\"classification_report_imbalanced\")\n",
        "  print(classification_report_imbalanced(y_test, predictions))\n",
        "  print(\"=\"*80)   \n",
        " \n"
      ],
      "execution_count": 0,
      "outputs": [
        {
          "output_type": "stream",
          "text": [
            "Accuracy_Score for RandomForestClassifier model : 0.38401953355224383\n",
            "================================================================================\n",
            "classification_report_imbalanced\n",
            "                   pre       rec       spe        f1       geo       iba       sup\n",
            "\n",
            "          1       0.22      0.09      0.96      0.13      0.30      0.08      1280\n",
            "          2       0.15      0.03      0.98      0.05      0.16      0.02      1326\n",
            "          3       0.22      0.11      0.99      0.14      0.33      0.10       194\n",
            "          4       0.37      0.55      0.98      0.44      0.73      0.52       283\n",
            "          5       0.12      0.02      0.99      0.03      0.14      0.02      1122\n",
            "          6       0.28      0.16      0.90      0.21      0.38      0.14      2206\n",
            "          7       0.25      0.19      0.91      0.21      0.41      0.16      1608\n",
            "          8       0.45      0.92      0.46      0.60      0.65      0.44      3858\n",
            "\n",
            "avg / total       0.30      0.38      0.79      0.30      0.42      0.22     11877\n",
            "\n",
            "================================================================================\n",
            "Accuracy_Score for GradientBoostingClassifier model : 0.3994274648480256\n",
            "================================================================================\n",
            "classification_report_imbalanced\n",
            "                   pre       rec       spe        f1       geo       iba       sup\n",
            "\n",
            "          1       0.25      0.08      0.97      0.12      0.28      0.07      1280\n",
            "          2       0.13      0.01      0.99      0.01      0.08      0.01      1326\n",
            "          3       0.28      0.07      1.00      0.11      0.26      0.06       194\n",
            "          4       0.38      0.64      0.97      0.47      0.79      0.60       283\n",
            "          5       0.00      0.00      1.00      0.00      0.00      0.00      1122\n",
            "          6       0.32      0.16      0.92      0.22      0.39      0.14      2206\n",
            "          7       0.26      0.21      0.91      0.23      0.44      0.18      1608\n",
            "          8       0.44      0.97      0.41      0.61      0.63      0.42      3858\n",
            "\n",
            "avg / total       0.29      0.40      0.78      0.30      0.40      0.21     11877\n",
            "\n",
            "================================================================================\n",
            "Accuracy_Score for ExtraTreesClassifier model : 0.38519828239454407\n",
            "================================================================================\n",
            "classification_report_imbalanced\n",
            "                   pre       rec       spe        f1       geo       iba       sup\n",
            "\n",
            "          1       0.24      0.09      0.97      0.13      0.29      0.08      1280\n",
            "          2       0.15      0.02      0.98      0.04      0.15      0.02      1326\n",
            "          3       0.18      0.10      0.99      0.13      0.32      0.09       194\n",
            "          4       0.36      0.54      0.98      0.43      0.73      0.51       283\n",
            "          5       0.10      0.01      0.99      0.02      0.11      0.01      1122\n",
            "          6       0.27      0.16      0.90      0.20      0.38      0.13      2206\n",
            "          7       0.25      0.19      0.91      0.22      0.42      0.16      1608\n",
            "          8       0.45      0.93      0.45      0.60      0.65      0.44      3858\n",
            "\n",
            "avg / total       0.29      0.39      0.78      0.30      0.42      0.21     11877\n",
            "\n",
            "================================================================================\n",
            "Accuracy_Score for AdaBoostClassifier model : 0.4008588027279616\n",
            "================================================================================\n",
            "classification_report_imbalanced\n",
            "                   pre       rec       spe        f1       geo       iba       sup\n",
            "\n",
            "          1       0.26      0.08      0.97      0.12      0.28      0.07      1280\n",
            "          2       0.12      0.00      1.00      0.00      0.03      0.00      1326\n",
            "          3       0.22      0.05      1.00      0.08      0.22      0.04       194\n",
            "          4       0.37      0.59      0.98      0.46      0.76      0.55       283\n",
            "          5       0.00      0.00      1.00      0.00      0.00      0.00      1122\n",
            "          6       0.38      0.14      0.95      0.20      0.36      0.12      2206\n",
            "          7       0.25      0.27      0.88      0.26      0.48      0.22      1608\n",
            "          8       0.44      0.97      0.41      0.61      0.63      0.42      3858\n",
            "\n",
            "avg / total       0.30      0.40      0.78      0.30      0.39      0.21     11877\n",
            "\n",
            "================================================================================\n",
            "Accuracy_Score for LogisticRegression model : 0.38772417277090176\n",
            "================================================================================\n",
            "classification_report_imbalanced\n",
            "                   pre       rec       spe        f1       geo       iba       sup\n",
            "\n",
            "          1       0.30      0.07      0.98      0.11      0.26      0.06      1280\n",
            "          2       0.00      0.00      1.00      0.00      0.00      0.00      1326\n",
            "          3       0.00      0.00      1.00      0.00      0.00      0.00       194\n",
            "          4       0.30      0.69      0.96      0.41      0.81      0.64       283\n",
            "          5       0.00      0.00      1.00      0.00      0.00      0.00      1122\n",
            "          6       0.27      0.09      0.95      0.13      0.28      0.07      2206\n",
            "          7       0.24      0.29      0.86      0.26      0.50      0.23      1608\n",
            "          8       0.44      0.95      0.42      0.60      0.64      0.42      3858\n",
            "\n",
            "avg / total       0.27      0.39      0.78      0.28      0.37      0.20     11877\n",
            "\n",
            "================================================================================\n"
          ],
          "name": "stdout"
        }
      ]
    },
    {
      "metadata": {
        "id": "TV6_wqfyvs3J",
        "colab_type": "code",
        "colab": {}
      },
      "cell_type": "code",
      "source": [
        "from sklearn.feature_selection  import RFECV\n",
        "rf = RandomForestClassifier()\n",
        "rfecv = RFECV(estimator=rf,step=1,cv=5,scoring='accuracy')\n",
        "rfecv = rfecv.fit(X_train,y_train)\n",
        "print(\"Optimal Number of Features : \",rfecv.n_features_)\n",
        "print(\"Best Features : \",X_train.columns[rfecv.support_])"
      ],
      "execution_count": 0,
      "outputs": []
    },
    {
      "metadata": {
        "id": "1h0z2LLUvs3M",
        "colab_type": "code",
        "colab": {},
        "outputId": "25486baf-3ec8-4ccd-8255-c4cca74d47e1"
      },
      "cell_type": "code",
      "source": [
        "#!pip install imbalanced-learn\n",
        "#conda install -c conda-forge imbalanced-learn"
      ],
      "execution_count": 0,
      "outputs": [
        {
          "output_type": "stream",
          "text": [
            "Collecting imbalanced-learn\n",
            "  Downloading https://files.pythonhosted.org/packages/e5/4c/7557e1c2e791bd43878f8c82065bddc5798252084f26ef44527c02262af1/imbalanced_learn-0.4.3-py3-none-any.whl (166kB)\n",
            "Collecting scikit-learn>=0.20 (from imbalanced-learn)\n",
            "  Downloading https://files.pythonhosted.org/packages/e7/e4/56757c30853899077cf042f78fb981c0b60f7af4e7a54ca18328b80e0bff/scikit_learn-0.20.3-cp36-cp36m-win_amd64.whl (4.8MB)\n",
            "Requirement already satisfied: numpy>=1.8.2 in d:\\users\\plaban_nayak\\appdata\\local\\continuum\\anaconda3\\lib\\site-packages (from imbalanced-learn) (1.15.4)\n",
            "Requirement already satisfied: scipy>=0.13.3 in d:\\users\\plaban_nayak\\appdata\\local\\continuum\\anaconda3\\lib\\site-packages (from imbalanced-learn) (1.1.0)\n",
            "Installing collected packages: scikit-learn, imbalanced-learn\n",
            "  Found existing installation: scikit-learn 0.19.1\n",
            "    Uninstalling scikit-learn-0.19.1:\n"
          ],
          "name": "stdout"
        },
        {
          "output_type": "stream",
          "text": [
            "fbprophet 0.4.post2 requires setuptools-git>=1.2, which is not installed.\n",
            "Could not install packages due to an EnvironmentError: [WinError 5] Access is denied: 'd:\\\\users\\\\plaban_nayak\\\\appdata\\\\local\\\\continuum\\\\anaconda3\\\\lib\\\\site-packages\\\\sklearn\\\\ensemble\\\\_gradient_boosting.cp36-win_amd64.pyd'\n",
            "Consider using the `--user` option or check the permissions.\n",
            "\n",
            "You are using pip version 10.0.1, however version 19.0.3 is available.\n",
            "You should consider upgrading via the 'python -m pip install --upgrade pip' command.\n"
          ],
          "name": "stderr"
        }
      ]
    },
    {
      "metadata": {
        "id": "V_zstRZpvs3P",
        "colab_type": "text"
      },
      "cell_type": "markdown",
      "source": [
        "# SMOTE (Synthetic Minority Over-sampling Technique)\n",
        "\n",
        "SMOTE is an over-sampling method. It creates synthetic samples of the minority class."
      ]
    },
    {
      "metadata": {
        "id": "jkx8aZgMvs3P",
        "colab_type": "code",
        "colab": {},
        "outputId": "4b51eecc-6b37-4254-f8bd-ea52a08a7a75"
      },
      "cell_type": "code",
      "source": [
        "from imblearn.over_sampling import SMOTE\n",
        "smote = SMOTE('minority')\n",
        "x_sm,y_sm =smote.fit_sample(X_train,y_train)\n",
        "print(x_sm.shape,y_sm.shape)"
      ],
      "execution_count": 0,
      "outputs": [
        {
          "output_type": "stream",
          "text": [
            "(62316, 144) (62316,)\n"
          ],
          "name": "stdout"
        }
      ]
    },
    {
      "metadata": {
        "id": "HadRx1fzvs3U",
        "colab_type": "code",
        "colab": {},
        "outputId": "5524feef-8094-40d8-d999-38dd554ba07f"
      },
      "cell_type": "code",
      "source": [
        "from sklearn.multiclass import OneVsRestClassifier\n",
        "from imblearn.metrics import classification_report_imbalanced\n",
        "from imblearn.metrics import classification_report_imbalanced\n",
        "classifiers = {'RandomForestClassifier':RandomForestClassifier(),\n",
        "               'GradientBoostingClassifier':GradientBoostingClassifier(),\n",
        "               'ExtraTreesClassifier':ExtraTreesClassifier(),\n",
        "               'AdaBoostClassifier':AdaBoostClassifier(),\n",
        "               'LogisticRegression':LogisticRegression()}\n",
        "for keys,items in classifiers.items():\n",
        "  classifier = OneVsRestClassifier(items)\n",
        "\n",
        "  # train\n",
        "  classifier.fit(x_sm, y_sm)\n",
        "\n",
        "  # predict\n",
        "  predictions = classifier.predict(X_test)\n",
        "  \n",
        "  print(\"Accuracy_Score for {} model : {}\".format(keys,accuracy_score(y_test,predictions)))\n",
        "  print(\"=\"*80)\n",
        "  print(\"classification_report_imbalanced\")\n",
        "  print(classification_report_imbalanced(y_test, predictions))\n",
        "  print(\"=\"*80)   "
      ],
      "execution_count": 0,
      "outputs": [
        {
          "output_type": "stream",
          "text": [
            "Accuracy_Score for RandomForestClassifier model : 0.5242906457859728\n",
            "================================================================================\n",
            "classification_report_imbalanced\n",
            "                   pre       rec       spe        f1       geo       iba       sup\n",
            "\n",
            "          1       0.41      0.16      0.97      0.23      0.39      0.14      1280\n",
            "          2       0.37      0.20      0.96      0.26      0.44      0.18      1326\n",
            "          3       0.35      0.53      0.98      0.42      0.72      0.49       194\n",
            "          4       0.54      0.36      0.99      0.43      0.60      0.33       283\n",
            "          5       0.56      0.46      0.96      0.51      0.67      0.42      1122\n",
            "          6       0.43      0.45      0.87      0.44      0.62      0.37      2206\n",
            "          7       0.39      0.37      0.91      0.38      0.58      0.32      1608\n",
            "          8       0.63      0.89      0.75      0.74      0.82      0.68      3858\n",
            "\n",
            "avg / total       0.50      0.52      0.87      0.49      0.64      0.42     11877\n",
            "\n",
            "================================================================================\n",
            "Accuracy_Score for GradientBoostingClassifier model : 0.5557800791445652\n",
            "================================================================================\n",
            "classification_report_imbalanced\n",
            "                   pre       rec       spe        f1       geo       iba       sup\n",
            "\n",
            "          1       0.49      0.17      0.98      0.25      0.41      0.15      1280\n",
            "          2       0.42      0.21      0.96      0.28      0.45      0.19      1326\n",
            "          3       0.35      0.71      0.98      0.47      0.83      0.68       194\n",
            "          4       0.61      0.36      0.99      0.45      0.60      0.34       283\n",
            "          5       0.58      0.54      0.96      0.56      0.72      0.50      1122\n",
            "          6       0.46      0.52      0.86      0.49      0.67      0.43      2206\n",
            "          7       0.46      0.38      0.93      0.42      0.59      0.33      1608\n",
            "          8       0.66      0.91      0.77      0.76      0.84      0.71      3858\n",
            "\n",
            "avg / total       0.54      0.56      0.88      0.52      0.67      0.46     11877\n",
            "\n",
            "================================================================================\n",
            "Accuracy_Score for ExtraTreesClassifier model : 0.48682327187000085\n",
            "================================================================================\n",
            "classification_report_imbalanced\n",
            "                   pre       rec       spe        f1       geo       iba       sup\n",
            "\n",
            "          1       0.37      0.18      0.96      0.25      0.42      0.16      1280\n",
            "          2       0.36      0.21      0.95      0.27      0.45      0.18      1326\n",
            "          3       0.32      0.53      0.98      0.40      0.72      0.50       194\n",
            "          4       0.45      0.30      0.99      0.36      0.54      0.27       283\n",
            "          5       0.49      0.31      0.97      0.38      0.54      0.28      1122\n",
            "          6       0.39      0.41      0.85      0.40      0.59      0.33      2206\n",
            "          7       0.34      0.29      0.91      0.31      0.51      0.24      1608\n",
            "          8       0.60      0.88      0.72      0.71      0.80      0.64      3858\n",
            "\n",
            "avg / total       0.46      0.49      0.86      0.45      0.61      0.38     11877\n",
            "\n",
            "================================================================================\n",
            "Accuracy_Score for AdaBoostClassifier model : 0.5274901069293593\n",
            "================================================================================\n",
            "classification_report_imbalanced\n",
            "                   pre       rec       spe        f1       geo       iba       sup\n",
            "\n",
            "          1       0.45      0.20      0.97      0.27      0.44      0.18      1280\n",
            "          2       0.39      0.19      0.96      0.25      0.43      0.17      1326\n",
            "          3       0.28      0.72      0.97      0.41      0.84      0.68       194\n",
            "          4       0.57      0.22      1.00      0.32      0.47      0.20       283\n",
            "          5       0.53      0.51      0.95      0.52      0.70      0.46      1122\n",
            "          6       0.43      0.40      0.88      0.41      0.59      0.33      2206\n",
            "          7       0.42      0.35      0.93      0.38      0.57      0.30      1608\n",
            "          8       0.63      0.92      0.74      0.75      0.83      0.70      3858\n",
            "\n",
            "avg / total       0.50      0.53      0.87      0.49      0.64      0.43     11877\n",
            "\n",
            "================================================================================\n",
            "Accuracy_Score for LogisticRegression model : 0.46787909404731837\n",
            "================================================================================\n",
            "classification_report_imbalanced\n",
            "                   pre       rec       spe        f1       geo       iba       sup\n",
            "\n",
            "          1       0.39      0.20      0.96      0.27      0.44      0.18      1280\n",
            "          2       0.34      0.18      0.96      0.23      0.41      0.16      1326\n",
            "          3       0.14      0.86      0.91      0.23      0.88      0.78       194\n",
            "          4       0.22      0.04      1.00      0.07      0.21      0.04       283\n",
            "          5       0.47      0.29      0.97      0.35      0.53      0.26      1122\n",
            "          6       0.38      0.31      0.89      0.34      0.52      0.25      2206\n",
            "          7       0.39      0.25      0.94      0.31      0.49      0.22      1608\n",
            "          8       0.61      0.90      0.72      0.73      0.81      0.66      3858\n",
            "\n",
            "avg / total       0.45      0.47      0.87      0.43      0.59      0.37     11877\n",
            "\n",
            "================================================================================\n"
          ],
          "name": "stdout"
        }
      ]
    },
    {
      "metadata": {
        "id": "6Z0SCELjvs3Z",
        "colab_type": "code",
        "colab": {}
      },
      "cell_type": "code",
      "source": [
        "# Create a pipeline\n",
        "pipeline = make_pipeline(NearMiss(version=2),\n",
        "                         LinearSVC(random_state=RANDOM_STATE))\n",
        "pipeline.fit(X_train, y_train)\n",
        "\n",
        "# Classify and report the results\n",
        "print(classification_report_imbalanced(y_test, pipeline.predict(X_test)))"
      ],
      "execution_count": 0,
      "outputs": []
    }
  ]
}