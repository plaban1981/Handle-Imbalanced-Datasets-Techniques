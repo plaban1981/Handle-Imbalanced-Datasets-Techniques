{
  "nbformat": 4,
  "nbformat_minor": 0,
  "metadata": {
    "colab": {
      "name": "Underwriting.ipynb",
      "version": "0.3.2",
      "provenance": [],
      "include_colab_link": true
    },
    "language_info": {
      "codemirror_mode": {
        "name": "ipython",
        "version": 3
      },
      "file_extension": ".py",
      "mimetype": "text/x-python",
      "name": "python",
      "nbconvert_exporter": "python",
      "pygments_lexer": "ipython3",
      "version": "3.6.6"
    },
    "kernelspec": {
      "display_name": "Python 3",
      "language": "python",
      "name": "python3"
    }
  },
  "cells": [
    {
      "cell_type": "markdown",
      "metadata": {
        "id": "view-in-github",
        "colab_type": "text"
      },
      "source": [
        "<a href=\"https://colab.research.google.com/github/plaban1981/Handle-Imbalanced-Datasets-Techniques/blob/master/Underwriting.ipynb\" target=\"_parent\"><img src=\"https://colab.research.google.com/assets/colab-badge.svg\" alt=\"Open In Colab\"/></a>"
      ]
    },
    {
      "metadata": {
        "id": "2-k3B7nlgjFI",
        "colab_type": "text"
      },
      "cell_type": "markdown",
      "source": [
        "# Context\n",
        "\n",
        "Underwriting (UW) is perhaps one of the most critical functions of Insurance Industry. Significant amount of cost and efforts are dedicated for this. With the advent of widespread use of Artificial Intelligence, there has been lot of interest in leveraging AI for UW. It has the potential to become a potent aid for Underwriters - less need of UW Resources per application, expedited UW processes, significant Cost and time savings. \n"
      ]
    },
    {
      "metadata": {
        "id": "MlnX5S9xgjFL",
        "colab_type": "text"
      },
      "cell_type": "markdown",
      "source": [
        "# Problem Description\n",
        "\n",
        "\n",
        "Prudential Life Insurance made available their UW dataset for 60,000 customers. \n",
        "\n",
        "The dataset had 8 risk classes, coded as 1 to 8, with 1 being the highest risk. \n",
        "\n",
        "\n",
        "There are 126 inputs available, pertaining to health, weight, medical test, employment history, family history etc. \n",
        "\n",
        "\n",
        "The variables are masked by naming them in generic fashion like MEDICAL_KEYWORD, EMPLOYEMENT_INFO etc. \n",
        "\n",
        "\n",
        "\n",
        "#### The objective is to develop a predictive model which can classify these risk classes with very high degree of accuracy, maintaining reasonably high precision and recall within each classes. \n"
      ]
    },
    {
      "metadata": {
        "id": "RDfX8aWmgjFN",
        "colab_type": "code",
        "colab": {}
      },
      "cell_type": "code",
      "source": [
        "import pandas as pd\n",
        "import numpy as np\n",
        "import matplotlib.pyplot as plt\n",
        "import seaborn as sns\n",
        "%matplotlib inline"
      ],
      "execution_count": 0,
      "outputs": []
    },
    {
      "metadata": {
        "id": "49iglgGMgjFT",
        "colab_type": "code",
        "colab": {}
      },
      "cell_type": "code",
      "source": [
        "df_train = pd.read_csv('train.csv')\n",
        "df_test = pd.read_csv('test.csv')"
      ],
      "execution_count": 0,
      "outputs": []
    },
    {
      "metadata": {
        "id": "k8M7v5ljgjFX",
        "colab_type": "code",
        "colab": {},
        "outputId": "0ee22764-f027-465f-d6e0-d3d9504deeab"
      },
      "cell_type": "code",
      "source": [
        "df_train.info()"
      ],
      "execution_count": 0,
      "outputs": [
        {
          "output_type": "stream",
          "text": [
            "<class 'pandas.core.frame.DataFrame'>\n",
            "RangeIndex: 59381 entries, 0 to 59380\n",
            "Columns: 128 entries, Id to Response\n",
            "dtypes: float64(13), int64(114), object(1)\n",
            "memory usage: 58.0+ MB\n"
          ],
          "name": "stdout"
        }
      ]
    },
    {
      "metadata": {
        "id": "T83fH5yfgjFe",
        "colab_type": "text"
      },
      "cell_type": "markdown",
      "source": [
        "#### checking for null values"
      ]
    },
    {
      "metadata": {
        "id": "F7B2DuQNgjFf",
        "colab_type": "code",
        "colab": {},
        "outputId": "cb29c81c-41cd-4caf-d4a6-a4c95ddbaec1"
      },
      "cell_type": "code",
      "source": [
        "df_train.isnull().sum()"
      ],
      "execution_count": 0,
      "outputs": [
        {
          "output_type": "execute_result",
          "data": {
            "text/plain": [
              "Id                     0\n",
              "Product_Info_1         0\n",
              "Product_Info_2         0\n",
              "Product_Info_3         0\n",
              "Product_Info_4         0\n",
              "Product_Info_5         0\n",
              "Product_Info_6         0\n",
              "Product_Info_7         0\n",
              "Ins_Age                0\n",
              "Ht                     0\n",
              "Wt                     0\n",
              "BMI                    0\n",
              "Employment_Info_1      0\n",
              "Employment_Info_2      0\n",
              "Employment_Info_3      0\n",
              "Employment_Info_4      0\n",
              "Employment_Info_5      0\n",
              "Employment_Info_6      0\n",
              "InsuredInfo_1          0\n",
              "InsuredInfo_2          0\n",
              "InsuredInfo_3          0\n",
              "InsuredInfo_4          0\n",
              "InsuredInfo_5          0\n",
              "InsuredInfo_6          0\n",
              "InsuredInfo_7          0\n",
              "Insurance_History_1    0\n",
              "Insurance_History_2    0\n",
              "Insurance_History_3    0\n",
              "Insurance_History_4    0\n",
              "Insurance_History_5    0\n",
              "                      ..\n",
              "Medical_Keyword_20     0\n",
              "Medical_Keyword_21     0\n",
              "Medical_Keyword_22     0\n",
              "Medical_Keyword_23     0\n",
              "Medical_Keyword_24     0\n",
              "Medical_Keyword_25     0\n",
              "Medical_Keyword_26     0\n",
              "Medical_Keyword_27     0\n",
              "Medical_Keyword_28     0\n",
              "Medical_Keyword_29     0\n",
              "Medical_Keyword_30     0\n",
              "Medical_Keyword_31     0\n",
              "Medical_Keyword_32     0\n",
              "Medical_Keyword_33     0\n",
              "Medical_Keyword_34     0\n",
              "Medical_Keyword_35     0\n",
              "Medical_Keyword_36     0\n",
              "Medical_Keyword_37     0\n",
              "Medical_Keyword_38     0\n",
              "Medical_Keyword_39     0\n",
              "Medical_Keyword_40     0\n",
              "Medical_Keyword_41     0\n",
              "Medical_Keyword_42     0\n",
              "Medical_Keyword_43     0\n",
              "Medical_Keyword_44     0\n",
              "Medical_Keyword_45     0\n",
              "Medical_Keyword_46     0\n",
              "Medical_Keyword_47     0\n",
              "Medical_Keyword_48     0\n",
              "Response               0\n",
              "Length: 128, dtype: int64"
            ]
          },
          "metadata": {
            "tags": []
          },
          "execution_count": 9
        }
      ]
    },
    {
      "metadata": {
        "id": "0zvOW4bagjFj",
        "colab_type": "code",
        "colab": {},
        "outputId": "a1982f0d-4a04-4e8f-b4dc-000ad419e17b"
      },
      "cell_type": "code",
      "source": [
        "df_train.head()"
      ],
      "execution_count": 0,
      "outputs": [
        {
          "output_type": "execute_result",
          "data": {
            "text/html": [
              "<div>\n",
              "<style scoped>\n",
              "    .dataframe tbody tr th:only-of-type {\n",
              "        vertical-align: middle;\n",
              "    }\n",
              "\n",
              "    .dataframe tbody tr th {\n",
              "        vertical-align: top;\n",
              "    }\n",
              "\n",
              "    .dataframe thead th {\n",
              "        text-align: right;\n",
              "    }\n",
              "</style>\n",
              "<table border=\"1\" class=\"dataframe\">\n",
              "  <thead>\n",
              "    <tr style=\"text-align: right;\">\n",
              "      <th></th>\n",
              "      <th>Id</th>\n",
              "      <th>Product_Info_1</th>\n",
              "      <th>Product_Info_2</th>\n",
              "      <th>Product_Info_3</th>\n",
              "      <th>Product_Info_4</th>\n",
              "      <th>Product_Info_5</th>\n",
              "      <th>Product_Info_6</th>\n",
              "      <th>Product_Info_7</th>\n",
              "      <th>Ins_Age</th>\n",
              "      <th>Ht</th>\n",
              "      <th>...</th>\n",
              "      <th>Medical_Keyword_40</th>\n",
              "      <th>Medical_Keyword_41</th>\n",
              "      <th>Medical_Keyword_42</th>\n",
              "      <th>Medical_Keyword_43</th>\n",
              "      <th>Medical_Keyword_44</th>\n",
              "      <th>Medical_Keyword_45</th>\n",
              "      <th>Medical_Keyword_46</th>\n",
              "      <th>Medical_Keyword_47</th>\n",
              "      <th>Medical_Keyword_48</th>\n",
              "      <th>Response</th>\n",
              "    </tr>\n",
              "  </thead>\n",
              "  <tbody>\n",
              "    <tr>\n",
              "      <th>0</th>\n",
              "      <td>2</td>\n",
              "      <td>1</td>\n",
              "      <td>D3</td>\n",
              "      <td>10</td>\n",
              "      <td>0.076923</td>\n",
              "      <td>2</td>\n",
              "      <td>1</td>\n",
              "      <td>1</td>\n",
              "      <td>0.641791</td>\n",
              "      <td>0.581818</td>\n",
              "      <td>...</td>\n",
              "      <td>0</td>\n",
              "      <td>0</td>\n",
              "      <td>0</td>\n",
              "      <td>0</td>\n",
              "      <td>0</td>\n",
              "      <td>0</td>\n",
              "      <td>0</td>\n",
              "      <td>0</td>\n",
              "      <td>0</td>\n",
              "      <td>8</td>\n",
              "    </tr>\n",
              "    <tr>\n",
              "      <th>1</th>\n",
              "      <td>5</td>\n",
              "      <td>1</td>\n",
              "      <td>A1</td>\n",
              "      <td>26</td>\n",
              "      <td>0.076923</td>\n",
              "      <td>2</td>\n",
              "      <td>3</td>\n",
              "      <td>1</td>\n",
              "      <td>0.059701</td>\n",
              "      <td>0.600000</td>\n",
              "      <td>...</td>\n",
              "      <td>0</td>\n",
              "      <td>0</td>\n",
              "      <td>0</td>\n",
              "      <td>0</td>\n",
              "      <td>0</td>\n",
              "      <td>0</td>\n",
              "      <td>0</td>\n",
              "      <td>0</td>\n",
              "      <td>0</td>\n",
              "      <td>4</td>\n",
              "    </tr>\n",
              "    <tr>\n",
              "      <th>2</th>\n",
              "      <td>6</td>\n",
              "      <td>1</td>\n",
              "      <td>E1</td>\n",
              "      <td>26</td>\n",
              "      <td>0.076923</td>\n",
              "      <td>2</td>\n",
              "      <td>3</td>\n",
              "      <td>1</td>\n",
              "      <td>0.029851</td>\n",
              "      <td>0.745455</td>\n",
              "      <td>...</td>\n",
              "      <td>0</td>\n",
              "      <td>0</td>\n",
              "      <td>0</td>\n",
              "      <td>0</td>\n",
              "      <td>0</td>\n",
              "      <td>0</td>\n",
              "      <td>0</td>\n",
              "      <td>0</td>\n",
              "      <td>0</td>\n",
              "      <td>8</td>\n",
              "    </tr>\n",
              "    <tr>\n",
              "      <th>3</th>\n",
              "      <td>7</td>\n",
              "      <td>1</td>\n",
              "      <td>D4</td>\n",
              "      <td>10</td>\n",
              "      <td>0.487179</td>\n",
              "      <td>2</td>\n",
              "      <td>3</td>\n",
              "      <td>1</td>\n",
              "      <td>0.164179</td>\n",
              "      <td>0.672727</td>\n",
              "      <td>...</td>\n",
              "      <td>0</td>\n",
              "      <td>0</td>\n",
              "      <td>0</td>\n",
              "      <td>0</td>\n",
              "      <td>0</td>\n",
              "      <td>0</td>\n",
              "      <td>0</td>\n",
              "      <td>0</td>\n",
              "      <td>0</td>\n",
              "      <td>8</td>\n",
              "    </tr>\n",
              "    <tr>\n",
              "      <th>4</th>\n",
              "      <td>8</td>\n",
              "      <td>1</td>\n",
              "      <td>D2</td>\n",
              "      <td>26</td>\n",
              "      <td>0.230769</td>\n",
              "      <td>2</td>\n",
              "      <td>3</td>\n",
              "      <td>1</td>\n",
              "      <td>0.417910</td>\n",
              "      <td>0.654545</td>\n",
              "      <td>...</td>\n",
              "      <td>0</td>\n",
              "      <td>0</td>\n",
              "      <td>0</td>\n",
              "      <td>0</td>\n",
              "      <td>0</td>\n",
              "      <td>0</td>\n",
              "      <td>0</td>\n",
              "      <td>0</td>\n",
              "      <td>0</td>\n",
              "      <td>8</td>\n",
              "    </tr>\n",
              "  </tbody>\n",
              "</table>\n",
              "<p>5 rows × 128 columns</p>\n",
              "</div>"
            ],
            "text/plain": [
              "   Id  Product_Info_1 Product_Info_2  Product_Info_3  Product_Info_4  \\\n",
              "0   2               1             D3              10        0.076923   \n",
              "1   5               1             A1              26        0.076923   \n",
              "2   6               1             E1              26        0.076923   \n",
              "3   7               1             D4              10        0.487179   \n",
              "4   8               1             D2              26        0.230769   \n",
              "\n",
              "   Product_Info_5  Product_Info_6  Product_Info_7   Ins_Age        Ht  \\\n",
              "0               2               1               1  0.641791  0.581818   \n",
              "1               2               3               1  0.059701  0.600000   \n",
              "2               2               3               1  0.029851  0.745455   \n",
              "3               2               3               1  0.164179  0.672727   \n",
              "4               2               3               1  0.417910  0.654545   \n",
              "\n",
              "     ...     Medical_Keyword_40  Medical_Keyword_41  Medical_Keyword_42  \\\n",
              "0    ...                      0                   0                   0   \n",
              "1    ...                      0                   0                   0   \n",
              "2    ...                      0                   0                   0   \n",
              "3    ...                      0                   0                   0   \n",
              "4    ...                      0                   0                   0   \n",
              "\n",
              "   Medical_Keyword_43  Medical_Keyword_44  Medical_Keyword_45  \\\n",
              "0                   0                   0                   0   \n",
              "1                   0                   0                   0   \n",
              "2                   0                   0                   0   \n",
              "3                   0                   0                   0   \n",
              "4                   0                   0                   0   \n",
              "\n",
              "   Medical_Keyword_46  Medical_Keyword_47  Medical_Keyword_48  Response  \n",
              "0                   0                   0                   0         8  \n",
              "1                   0                   0                   0         4  \n",
              "2                   0                   0                   0         8  \n",
              "3                   0                   0                   0         8  \n",
              "4                   0                   0                   0         8  \n",
              "\n",
              "[5 rows x 128 columns]"
            ]
          },
          "metadata": {
            "tags": []
          },
          "execution_count": 5
        }
      ]
    },
    {
      "metadata": {
        "id": "cMJiHz8YgjFn",
        "colab_type": "code",
        "colab": {},
        "outputId": "a4edfbe1-62c2-425b-f544-77bad9b2e4c3"
      },
      "cell_type": "code",
      "source": [
        "df_test.head()"
      ],
      "execution_count": 0,
      "outputs": [
        {
          "output_type": "execute_result",
          "data": {
            "text/html": [
              "<div>\n",
              "<style scoped>\n",
              "    .dataframe tbody tr th:only-of-type {\n",
              "        vertical-align: middle;\n",
              "    }\n",
              "\n",
              "    .dataframe tbody tr th {\n",
              "        vertical-align: top;\n",
              "    }\n",
              "\n",
              "    .dataframe thead th {\n",
              "        text-align: right;\n",
              "    }\n",
              "</style>\n",
              "<table border=\"1\" class=\"dataframe\">\n",
              "  <thead>\n",
              "    <tr style=\"text-align: right;\">\n",
              "      <th></th>\n",
              "      <th>Id</th>\n",
              "      <th>Product_Info_1</th>\n",
              "      <th>Product_Info_2</th>\n",
              "      <th>Product_Info_3</th>\n",
              "      <th>Product_Info_4</th>\n",
              "      <th>Product_Info_5</th>\n",
              "      <th>Product_Info_6</th>\n",
              "      <th>Product_Info_7</th>\n",
              "      <th>Ins_Age</th>\n",
              "      <th>Ht</th>\n",
              "      <th>...</th>\n",
              "      <th>Medical_Keyword_39</th>\n",
              "      <th>Medical_Keyword_40</th>\n",
              "      <th>Medical_Keyword_41</th>\n",
              "      <th>Medical_Keyword_42</th>\n",
              "      <th>Medical_Keyword_43</th>\n",
              "      <th>Medical_Keyword_44</th>\n",
              "      <th>Medical_Keyword_45</th>\n",
              "      <th>Medical_Keyword_46</th>\n",
              "      <th>Medical_Keyword_47</th>\n",
              "      <th>Medical_Keyword_48</th>\n",
              "    </tr>\n",
              "  </thead>\n",
              "  <tbody>\n",
              "    <tr>\n",
              "      <th>0</th>\n",
              "      <td>1</td>\n",
              "      <td>1</td>\n",
              "      <td>D3</td>\n",
              "      <td>26</td>\n",
              "      <td>0.487179</td>\n",
              "      <td>2</td>\n",
              "      <td>3</td>\n",
              "      <td>1</td>\n",
              "      <td>0.611940</td>\n",
              "      <td>0.781818</td>\n",
              "      <td>...</td>\n",
              "      <td>0</td>\n",
              "      <td>0</td>\n",
              "      <td>0</td>\n",
              "      <td>0</td>\n",
              "      <td>0</td>\n",
              "      <td>0</td>\n",
              "      <td>0</td>\n",
              "      <td>0</td>\n",
              "      <td>0</td>\n",
              "      <td>0</td>\n",
              "    </tr>\n",
              "    <tr>\n",
              "      <th>1</th>\n",
              "      <td>3</td>\n",
              "      <td>1</td>\n",
              "      <td>A2</td>\n",
              "      <td>26</td>\n",
              "      <td>0.076923</td>\n",
              "      <td>2</td>\n",
              "      <td>3</td>\n",
              "      <td>1</td>\n",
              "      <td>0.626866</td>\n",
              "      <td>0.727273</td>\n",
              "      <td>...</td>\n",
              "      <td>0</td>\n",
              "      <td>0</td>\n",
              "      <td>0</td>\n",
              "      <td>0</td>\n",
              "      <td>0</td>\n",
              "      <td>0</td>\n",
              "      <td>0</td>\n",
              "      <td>0</td>\n",
              "      <td>0</td>\n",
              "      <td>0</td>\n",
              "    </tr>\n",
              "    <tr>\n",
              "      <th>2</th>\n",
              "      <td>4</td>\n",
              "      <td>1</td>\n",
              "      <td>D3</td>\n",
              "      <td>26</td>\n",
              "      <td>0.144667</td>\n",
              "      <td>2</td>\n",
              "      <td>3</td>\n",
              "      <td>1</td>\n",
              "      <td>0.582090</td>\n",
              "      <td>0.709091</td>\n",
              "      <td>...</td>\n",
              "      <td>0</td>\n",
              "      <td>0</td>\n",
              "      <td>0</td>\n",
              "      <td>0</td>\n",
              "      <td>0</td>\n",
              "      <td>0</td>\n",
              "      <td>0</td>\n",
              "      <td>0</td>\n",
              "      <td>0</td>\n",
              "      <td>0</td>\n",
              "    </tr>\n",
              "    <tr>\n",
              "      <th>3</th>\n",
              "      <td>9</td>\n",
              "      <td>1</td>\n",
              "      <td>A1</td>\n",
              "      <td>26</td>\n",
              "      <td>0.151709</td>\n",
              "      <td>2</td>\n",
              "      <td>1</td>\n",
              "      <td>1</td>\n",
              "      <td>0.522388</td>\n",
              "      <td>0.654545</td>\n",
              "      <td>...</td>\n",
              "      <td>0</td>\n",
              "      <td>0</td>\n",
              "      <td>0</td>\n",
              "      <td>0</td>\n",
              "      <td>0</td>\n",
              "      <td>0</td>\n",
              "      <td>0</td>\n",
              "      <td>0</td>\n",
              "      <td>1</td>\n",
              "      <td>1</td>\n",
              "    </tr>\n",
              "    <tr>\n",
              "      <th>4</th>\n",
              "      <td>12</td>\n",
              "      <td>1</td>\n",
              "      <td>A1</td>\n",
              "      <td>26</td>\n",
              "      <td>0.076923</td>\n",
              "      <td>2</td>\n",
              "      <td>3</td>\n",
              "      <td>1</td>\n",
              "      <td>0.298507</td>\n",
              "      <td>0.672727</td>\n",
              "      <td>...</td>\n",
              "      <td>0</td>\n",
              "      <td>0</td>\n",
              "      <td>0</td>\n",
              "      <td>0</td>\n",
              "      <td>0</td>\n",
              "      <td>0</td>\n",
              "      <td>0</td>\n",
              "      <td>0</td>\n",
              "      <td>0</td>\n",
              "      <td>0</td>\n",
              "    </tr>\n",
              "  </tbody>\n",
              "</table>\n",
              "<p>5 rows × 127 columns</p>\n",
              "</div>"
            ],
            "text/plain": [
              "   Id  Product_Info_1 Product_Info_2  Product_Info_3  Product_Info_4  \\\n",
              "0   1               1             D3              26        0.487179   \n",
              "1   3               1             A2              26        0.076923   \n",
              "2   4               1             D3              26        0.144667   \n",
              "3   9               1             A1              26        0.151709   \n",
              "4  12               1             A1              26        0.076923   \n",
              "\n",
              "   Product_Info_5  Product_Info_6  Product_Info_7   Ins_Age        Ht  \\\n",
              "0               2               3               1  0.611940  0.781818   \n",
              "1               2               3               1  0.626866  0.727273   \n",
              "2               2               3               1  0.582090  0.709091   \n",
              "3               2               1               1  0.522388  0.654545   \n",
              "4               2               3               1  0.298507  0.672727   \n",
              "\n",
              "          ...          Medical_Keyword_39  Medical_Keyword_40  \\\n",
              "0         ...                           0                   0   \n",
              "1         ...                           0                   0   \n",
              "2         ...                           0                   0   \n",
              "3         ...                           0                   0   \n",
              "4         ...                           0                   0   \n",
              "\n",
              "   Medical_Keyword_41  Medical_Keyword_42  Medical_Keyword_43  \\\n",
              "0                   0                   0                   0   \n",
              "1                   0                   0                   0   \n",
              "2                   0                   0                   0   \n",
              "3                   0                   0                   0   \n",
              "4                   0                   0                   0   \n",
              "\n",
              "   Medical_Keyword_44  Medical_Keyword_45  Medical_Keyword_46  \\\n",
              "0                   0                   0                   0   \n",
              "1                   0                   0                   0   \n",
              "2                   0                   0                   0   \n",
              "3                   0                   0                   0   \n",
              "4                   0                   0                   0   \n",
              "\n",
              "   Medical_Keyword_47  Medical_Keyword_48  \n",
              "0                   0                   0  \n",
              "1                   0                   0  \n",
              "2                   0                   0  \n",
              "3                   1                   1  \n",
              "4                   0                   0  \n",
              "\n",
              "[5 rows x 127 columns]"
            ]
          },
          "metadata": {
            "tags": []
          },
          "execution_count": 18
        }
      ]
    },
    {
      "metadata": {
        "id": "wenOMnKfgjFr",
        "colab_type": "code",
        "colab": {},
        "outputId": "42ef5f4c-a931-4be2-b4bd-ea1217e865aa"
      },
      "cell_type": "code",
      "source": [
        "df_train['Product_Info_2'].value_counts()"
      ],
      "execution_count": 0,
      "outputs": [
        {
          "output_type": "execute_result",
          "data": {
            "text/plain": [
              "D3    14321\n",
              "D4    10812\n",
              "A8     6835\n",
              "D1     6554\n",
              "D2     6286\n",
              "E1     2647\n",
              "A1     2363\n",
              "A6     2098\n",
              "A2     1974\n",
              "A7     1383\n",
              "B2     1122\n",
              "A3      977\n",
              "A5      775\n",
              "C3      306\n",
              "C1      285\n",
              "C4      219\n",
              "A4      210\n",
              "C2      160\n",
              "B1       54\n",
              "Name: Product_Info_2, dtype: int64"
            ]
          },
          "metadata": {
            "tags": []
          },
          "execution_count": 10
        }
      ]
    },
    {
      "metadata": {
        "id": "12mYS_qEgjFw",
        "colab_type": "code",
        "colab": {},
        "outputId": "6472fbc2-239a-4240-9baf-c395bd81ce09"
      },
      "cell_type": "code",
      "source": [
        "dummies = pd.get_dummies(df_train['Product_Info_2'])\n",
        "dummies.head()"
      ],
      "execution_count": 0,
      "outputs": [
        {
          "output_type": "execute_result",
          "data": {
            "text/html": [
              "<div>\n",
              "<style scoped>\n",
              "    .dataframe tbody tr th:only-of-type {\n",
              "        vertical-align: middle;\n",
              "    }\n",
              "\n",
              "    .dataframe tbody tr th {\n",
              "        vertical-align: top;\n",
              "    }\n",
              "\n",
              "    .dataframe thead th {\n",
              "        text-align: right;\n",
              "    }\n",
              "</style>\n",
              "<table border=\"1\" class=\"dataframe\">\n",
              "  <thead>\n",
              "    <tr style=\"text-align: right;\">\n",
              "      <th></th>\n",
              "      <th>A1</th>\n",
              "      <th>A2</th>\n",
              "      <th>A3</th>\n",
              "      <th>A4</th>\n",
              "      <th>A5</th>\n",
              "      <th>A6</th>\n",
              "      <th>A7</th>\n",
              "      <th>A8</th>\n",
              "      <th>B1</th>\n",
              "      <th>B2</th>\n",
              "      <th>C1</th>\n",
              "      <th>C2</th>\n",
              "      <th>C3</th>\n",
              "      <th>C4</th>\n",
              "      <th>D1</th>\n",
              "      <th>D2</th>\n",
              "      <th>D3</th>\n",
              "      <th>D4</th>\n",
              "      <th>E1</th>\n",
              "    </tr>\n",
              "  </thead>\n",
              "  <tbody>\n",
              "    <tr>\n",
              "      <th>0</th>\n",
              "      <td>0</td>\n",
              "      <td>0</td>\n",
              "      <td>0</td>\n",
              "      <td>0</td>\n",
              "      <td>0</td>\n",
              "      <td>0</td>\n",
              "      <td>0</td>\n",
              "      <td>0</td>\n",
              "      <td>0</td>\n",
              "      <td>0</td>\n",
              "      <td>0</td>\n",
              "      <td>0</td>\n",
              "      <td>0</td>\n",
              "      <td>0</td>\n",
              "      <td>0</td>\n",
              "      <td>0</td>\n",
              "      <td>1</td>\n",
              "      <td>0</td>\n",
              "      <td>0</td>\n",
              "    </tr>\n",
              "    <tr>\n",
              "      <th>1</th>\n",
              "      <td>1</td>\n",
              "      <td>0</td>\n",
              "      <td>0</td>\n",
              "      <td>0</td>\n",
              "      <td>0</td>\n",
              "      <td>0</td>\n",
              "      <td>0</td>\n",
              "      <td>0</td>\n",
              "      <td>0</td>\n",
              "      <td>0</td>\n",
              "      <td>0</td>\n",
              "      <td>0</td>\n",
              "      <td>0</td>\n",
              "      <td>0</td>\n",
              "      <td>0</td>\n",
              "      <td>0</td>\n",
              "      <td>0</td>\n",
              "      <td>0</td>\n",
              "      <td>0</td>\n",
              "    </tr>\n",
              "    <tr>\n",
              "      <th>2</th>\n",
              "      <td>0</td>\n",
              "      <td>0</td>\n",
              "      <td>0</td>\n",
              "      <td>0</td>\n",
              "      <td>0</td>\n",
              "      <td>0</td>\n",
              "      <td>0</td>\n",
              "      <td>0</td>\n",
              "      <td>0</td>\n",
              "      <td>0</td>\n",
              "      <td>0</td>\n",
              "      <td>0</td>\n",
              "      <td>0</td>\n",
              "      <td>0</td>\n",
              "      <td>0</td>\n",
              "      <td>0</td>\n",
              "      <td>0</td>\n",
              "      <td>0</td>\n",
              "      <td>1</td>\n",
              "    </tr>\n",
              "    <tr>\n",
              "      <th>3</th>\n",
              "      <td>0</td>\n",
              "      <td>0</td>\n",
              "      <td>0</td>\n",
              "      <td>0</td>\n",
              "      <td>0</td>\n",
              "      <td>0</td>\n",
              "      <td>0</td>\n",
              "      <td>0</td>\n",
              "      <td>0</td>\n",
              "      <td>0</td>\n",
              "      <td>0</td>\n",
              "      <td>0</td>\n",
              "      <td>0</td>\n",
              "      <td>0</td>\n",
              "      <td>0</td>\n",
              "      <td>0</td>\n",
              "      <td>0</td>\n",
              "      <td>1</td>\n",
              "      <td>0</td>\n",
              "    </tr>\n",
              "    <tr>\n",
              "      <th>4</th>\n",
              "      <td>0</td>\n",
              "      <td>0</td>\n",
              "      <td>0</td>\n",
              "      <td>0</td>\n",
              "      <td>0</td>\n",
              "      <td>0</td>\n",
              "      <td>0</td>\n",
              "      <td>0</td>\n",
              "      <td>0</td>\n",
              "      <td>0</td>\n",
              "      <td>0</td>\n",
              "      <td>0</td>\n",
              "      <td>0</td>\n",
              "      <td>0</td>\n",
              "      <td>0</td>\n",
              "      <td>1</td>\n",
              "      <td>0</td>\n",
              "      <td>0</td>\n",
              "      <td>0</td>\n",
              "    </tr>\n",
              "  </tbody>\n",
              "</table>\n",
              "</div>"
            ],
            "text/plain": [
              "   A1  A2  A3  A4  A5  A6  A7  A8  B1  B2  C1  C2  C3  C4  D1  D2  D3  D4  E1\n",
              "0   0   0   0   0   0   0   0   0   0   0   0   0   0   0   0   0   1   0   0\n",
              "1   1   0   0   0   0   0   0   0   0   0   0   0   0   0   0   0   0   0   0\n",
              "2   0   0   0   0   0   0   0   0   0   0   0   0   0   0   0   0   0   0   1\n",
              "3   0   0   0   0   0   0   0   0   0   0   0   0   0   0   0   0   0   1   0\n",
              "4   0   0   0   0   0   0   0   0   0   0   0   0   0   0   0   1   0   0   0"
            ]
          },
          "metadata": {
            "tags": []
          },
          "execution_count": 12
        }
      ]
    },
    {
      "metadata": {
        "id": "hxMQPnIogjF1",
        "colab_type": "code",
        "colab": {}
      },
      "cell_type": "code",
      "source": [
        "X = df_train.drop(['Id','Product_Info_2','Response'],axis=1)"
      ],
      "execution_count": 0,
      "outputs": []
    },
    {
      "metadata": {
        "id": "W9Kqgw-fgjF5",
        "colab_type": "code",
        "colab": {}
      },
      "cell_type": "code",
      "source": [
        "Y = df_train"
      ],
      "execution_count": 0,
      "outputs": []
    },
    {
      "metadata": {
        "id": "S0Mso9mVgjF9",
        "colab_type": "code",
        "colab": {},
        "outputId": "f3433e76-d6ad-4fae-fc12-a3e0e3f5c100"
      },
      "cell_type": "code",
      "source": [
        "X.head()"
      ],
      "execution_count": 0,
      "outputs": [
        {
          "output_type": "execute_result",
          "data": {
            "text/html": [
              "<div>\n",
              "<style scoped>\n",
              "    .dataframe tbody tr th:only-of-type {\n",
              "        vertical-align: middle;\n",
              "    }\n",
              "\n",
              "    .dataframe tbody tr th {\n",
              "        vertical-align: top;\n",
              "    }\n",
              "\n",
              "    .dataframe thead th {\n",
              "        text-align: right;\n",
              "    }\n",
              "</style>\n",
              "<table border=\"1\" class=\"dataframe\">\n",
              "  <thead>\n",
              "    <tr style=\"text-align: right;\">\n",
              "      <th></th>\n",
              "      <th>Product_Info_1</th>\n",
              "      <th>Product_Info_3</th>\n",
              "      <th>Product_Info_4</th>\n",
              "      <th>Product_Info_5</th>\n",
              "      <th>Product_Info_6</th>\n",
              "      <th>Product_Info_7</th>\n",
              "      <th>Ins_Age</th>\n",
              "      <th>Ht</th>\n",
              "      <th>Wt</th>\n",
              "      <th>BMI</th>\n",
              "      <th>...</th>\n",
              "      <th>Medical_Keyword_39</th>\n",
              "      <th>Medical_Keyword_40</th>\n",
              "      <th>Medical_Keyword_41</th>\n",
              "      <th>Medical_Keyword_42</th>\n",
              "      <th>Medical_Keyword_43</th>\n",
              "      <th>Medical_Keyword_44</th>\n",
              "      <th>Medical_Keyword_45</th>\n",
              "      <th>Medical_Keyword_46</th>\n",
              "      <th>Medical_Keyword_47</th>\n",
              "      <th>Medical_Keyword_48</th>\n",
              "    </tr>\n",
              "  </thead>\n",
              "  <tbody>\n",
              "    <tr>\n",
              "      <th>0</th>\n",
              "      <td>1</td>\n",
              "      <td>10</td>\n",
              "      <td>0.076923</td>\n",
              "      <td>2</td>\n",
              "      <td>1</td>\n",
              "      <td>1</td>\n",
              "      <td>0.641791</td>\n",
              "      <td>0.581818</td>\n",
              "      <td>0.148536</td>\n",
              "      <td>0.323008</td>\n",
              "      <td>...</td>\n",
              "      <td>0</td>\n",
              "      <td>0</td>\n",
              "      <td>0</td>\n",
              "      <td>0</td>\n",
              "      <td>0</td>\n",
              "      <td>0</td>\n",
              "      <td>0</td>\n",
              "      <td>0</td>\n",
              "      <td>0</td>\n",
              "      <td>0</td>\n",
              "    </tr>\n",
              "    <tr>\n",
              "      <th>1</th>\n",
              "      <td>1</td>\n",
              "      <td>26</td>\n",
              "      <td>0.076923</td>\n",
              "      <td>2</td>\n",
              "      <td>3</td>\n",
              "      <td>1</td>\n",
              "      <td>0.059701</td>\n",
              "      <td>0.600000</td>\n",
              "      <td>0.131799</td>\n",
              "      <td>0.272288</td>\n",
              "      <td>...</td>\n",
              "      <td>0</td>\n",
              "      <td>0</td>\n",
              "      <td>0</td>\n",
              "      <td>0</td>\n",
              "      <td>0</td>\n",
              "      <td>0</td>\n",
              "      <td>0</td>\n",
              "      <td>0</td>\n",
              "      <td>0</td>\n",
              "      <td>0</td>\n",
              "    </tr>\n",
              "    <tr>\n",
              "      <th>2</th>\n",
              "      <td>1</td>\n",
              "      <td>26</td>\n",
              "      <td>0.076923</td>\n",
              "      <td>2</td>\n",
              "      <td>3</td>\n",
              "      <td>1</td>\n",
              "      <td>0.029851</td>\n",
              "      <td>0.745455</td>\n",
              "      <td>0.288703</td>\n",
              "      <td>0.428780</td>\n",
              "      <td>...</td>\n",
              "      <td>0</td>\n",
              "      <td>0</td>\n",
              "      <td>0</td>\n",
              "      <td>0</td>\n",
              "      <td>0</td>\n",
              "      <td>0</td>\n",
              "      <td>0</td>\n",
              "      <td>0</td>\n",
              "      <td>0</td>\n",
              "      <td>0</td>\n",
              "    </tr>\n",
              "    <tr>\n",
              "      <th>3</th>\n",
              "      <td>1</td>\n",
              "      <td>10</td>\n",
              "      <td>0.487179</td>\n",
              "      <td>2</td>\n",
              "      <td>3</td>\n",
              "      <td>1</td>\n",
              "      <td>0.164179</td>\n",
              "      <td>0.672727</td>\n",
              "      <td>0.205021</td>\n",
              "      <td>0.352438</td>\n",
              "      <td>...</td>\n",
              "      <td>0</td>\n",
              "      <td>0</td>\n",
              "      <td>0</td>\n",
              "      <td>0</td>\n",
              "      <td>0</td>\n",
              "      <td>0</td>\n",
              "      <td>0</td>\n",
              "      <td>0</td>\n",
              "      <td>0</td>\n",
              "      <td>0</td>\n",
              "    </tr>\n",
              "    <tr>\n",
              "      <th>4</th>\n",
              "      <td>1</td>\n",
              "      <td>26</td>\n",
              "      <td>0.230769</td>\n",
              "      <td>2</td>\n",
              "      <td>3</td>\n",
              "      <td>1</td>\n",
              "      <td>0.417910</td>\n",
              "      <td>0.654545</td>\n",
              "      <td>0.234310</td>\n",
              "      <td>0.424046</td>\n",
              "      <td>...</td>\n",
              "      <td>0</td>\n",
              "      <td>0</td>\n",
              "      <td>0</td>\n",
              "      <td>0</td>\n",
              "      <td>0</td>\n",
              "      <td>0</td>\n",
              "      <td>0</td>\n",
              "      <td>0</td>\n",
              "      <td>0</td>\n",
              "      <td>0</td>\n",
              "    </tr>\n",
              "  </tbody>\n",
              "</table>\n",
              "<p>5 rows × 125 columns</p>\n",
              "</div>"
            ],
            "text/plain": [
              "   Product_Info_1  Product_Info_3  Product_Info_4  Product_Info_5  \\\n",
              "0               1              10        0.076923               2   \n",
              "1               1              26        0.076923               2   \n",
              "2               1              26        0.076923               2   \n",
              "3               1              10        0.487179               2   \n",
              "4               1              26        0.230769               2   \n",
              "\n",
              "   Product_Info_6  Product_Info_7   Ins_Age        Ht        Wt       BMI  \\\n",
              "0               1               1  0.641791  0.581818  0.148536  0.323008   \n",
              "1               3               1  0.059701  0.600000  0.131799  0.272288   \n",
              "2               3               1  0.029851  0.745455  0.288703  0.428780   \n",
              "3               3               1  0.164179  0.672727  0.205021  0.352438   \n",
              "4               3               1  0.417910  0.654545  0.234310  0.424046   \n",
              "\n",
              "          ...          Medical_Keyword_39  Medical_Keyword_40  \\\n",
              "0         ...                           0                   0   \n",
              "1         ...                           0                   0   \n",
              "2         ...                           0                   0   \n",
              "3         ...                           0                   0   \n",
              "4         ...                           0                   0   \n",
              "\n",
              "   Medical_Keyword_41  Medical_Keyword_42  Medical_Keyword_43  \\\n",
              "0                   0                   0                   0   \n",
              "1                   0                   0                   0   \n",
              "2                   0                   0                   0   \n",
              "3                   0                   0                   0   \n",
              "4                   0                   0                   0   \n",
              "\n",
              "   Medical_Keyword_44  Medical_Keyword_45  Medical_Keyword_46  \\\n",
              "0                   0                   0                   0   \n",
              "1                   0                   0                   0   \n",
              "2                   0                   0                   0   \n",
              "3                   0                   0                   0   \n",
              "4                   0                   0                   0   \n",
              "\n",
              "   Medical_Keyword_47  Medical_Keyword_48  \n",
              "0                   0                   0  \n",
              "1                   0                   0  \n",
              "2                   0                   0  \n",
              "3                   0                   0  \n",
              "4                   0                   0  \n",
              "\n",
              "[5 rows x 125 columns]"
            ]
          },
          "metadata": {
            "tags": []
          },
          "execution_count": 92
        }
      ]
    },
    {
      "metadata": {
        "id": "34gYojLGgjGF",
        "colab_type": "code",
        "colab": {}
      },
      "cell_type": "code",
      "source": [
        "X = pd.concat([X,dummies],axis=1)"
      ],
      "execution_count": 0,
      "outputs": []
    },
    {
      "metadata": {
        "id": "F0FuYFd6gjGL",
        "colab_type": "code",
        "colab": {},
        "outputId": "0ed369a5-b725-49e5-9d4b-cb939bda8028"
      },
      "cell_type": "code",
      "source": [
        "X.head()"
      ],
      "execution_count": 0,
      "outputs": [
        {
          "output_type": "execute_result",
          "data": {
            "text/html": [
              "<div>\n",
              "<style scoped>\n",
              "    .dataframe tbody tr th:only-of-type {\n",
              "        vertical-align: middle;\n",
              "    }\n",
              "\n",
              "    .dataframe tbody tr th {\n",
              "        vertical-align: top;\n",
              "    }\n",
              "\n",
              "    .dataframe thead th {\n",
              "        text-align: right;\n",
              "    }\n",
              "</style>\n",
              "<table border=\"1\" class=\"dataframe\">\n",
              "  <thead>\n",
              "    <tr style=\"text-align: right;\">\n",
              "      <th></th>\n",
              "      <th>Product_Info_1</th>\n",
              "      <th>Product_Info_3</th>\n",
              "      <th>Product_Info_4</th>\n",
              "      <th>Product_Info_5</th>\n",
              "      <th>Product_Info_6</th>\n",
              "      <th>Product_Info_7</th>\n",
              "      <th>Ins_Age</th>\n",
              "      <th>Ht</th>\n",
              "      <th>Wt</th>\n",
              "      <th>BMI</th>\n",
              "      <th>...</th>\n",
              "      <th>B2</th>\n",
              "      <th>C1</th>\n",
              "      <th>C2</th>\n",
              "      <th>C3</th>\n",
              "      <th>C4</th>\n",
              "      <th>D1</th>\n",
              "      <th>D2</th>\n",
              "      <th>D3</th>\n",
              "      <th>D4</th>\n",
              "      <th>E1</th>\n",
              "    </tr>\n",
              "  </thead>\n",
              "  <tbody>\n",
              "    <tr>\n",
              "      <th>0</th>\n",
              "      <td>1</td>\n",
              "      <td>10</td>\n",
              "      <td>0.076923</td>\n",
              "      <td>2</td>\n",
              "      <td>1</td>\n",
              "      <td>1</td>\n",
              "      <td>0.641791</td>\n",
              "      <td>0.581818</td>\n",
              "      <td>0.148536</td>\n",
              "      <td>0.323008</td>\n",
              "      <td>...</td>\n",
              "      <td>0</td>\n",
              "      <td>0</td>\n",
              "      <td>0</td>\n",
              "      <td>0</td>\n",
              "      <td>0</td>\n",
              "      <td>0</td>\n",
              "      <td>0</td>\n",
              "      <td>1</td>\n",
              "      <td>0</td>\n",
              "      <td>0</td>\n",
              "    </tr>\n",
              "    <tr>\n",
              "      <th>1</th>\n",
              "      <td>1</td>\n",
              "      <td>26</td>\n",
              "      <td>0.076923</td>\n",
              "      <td>2</td>\n",
              "      <td>3</td>\n",
              "      <td>1</td>\n",
              "      <td>0.059701</td>\n",
              "      <td>0.600000</td>\n",
              "      <td>0.131799</td>\n",
              "      <td>0.272288</td>\n",
              "      <td>...</td>\n",
              "      <td>0</td>\n",
              "      <td>0</td>\n",
              "      <td>0</td>\n",
              "      <td>0</td>\n",
              "      <td>0</td>\n",
              "      <td>0</td>\n",
              "      <td>0</td>\n",
              "      <td>0</td>\n",
              "      <td>0</td>\n",
              "      <td>0</td>\n",
              "    </tr>\n",
              "    <tr>\n",
              "      <th>2</th>\n",
              "      <td>1</td>\n",
              "      <td>26</td>\n",
              "      <td>0.076923</td>\n",
              "      <td>2</td>\n",
              "      <td>3</td>\n",
              "      <td>1</td>\n",
              "      <td>0.029851</td>\n",
              "      <td>0.745455</td>\n",
              "      <td>0.288703</td>\n",
              "      <td>0.428780</td>\n",
              "      <td>...</td>\n",
              "      <td>0</td>\n",
              "      <td>0</td>\n",
              "      <td>0</td>\n",
              "      <td>0</td>\n",
              "      <td>0</td>\n",
              "      <td>0</td>\n",
              "      <td>0</td>\n",
              "      <td>0</td>\n",
              "      <td>0</td>\n",
              "      <td>1</td>\n",
              "    </tr>\n",
              "    <tr>\n",
              "      <th>3</th>\n",
              "      <td>1</td>\n",
              "      <td>10</td>\n",
              "      <td>0.487179</td>\n",
              "      <td>2</td>\n",
              "      <td>3</td>\n",
              "      <td>1</td>\n",
              "      <td>0.164179</td>\n",
              "      <td>0.672727</td>\n",
              "      <td>0.205021</td>\n",
              "      <td>0.352438</td>\n",
              "      <td>...</td>\n",
              "      <td>0</td>\n",
              "      <td>0</td>\n",
              "      <td>0</td>\n",
              "      <td>0</td>\n",
              "      <td>0</td>\n",
              "      <td>0</td>\n",
              "      <td>0</td>\n",
              "      <td>0</td>\n",
              "      <td>1</td>\n",
              "      <td>0</td>\n",
              "    </tr>\n",
              "    <tr>\n",
              "      <th>4</th>\n",
              "      <td>1</td>\n",
              "      <td>26</td>\n",
              "      <td>0.230769</td>\n",
              "      <td>2</td>\n",
              "      <td>3</td>\n",
              "      <td>1</td>\n",
              "      <td>0.417910</td>\n",
              "      <td>0.654545</td>\n",
              "      <td>0.234310</td>\n",
              "      <td>0.424046</td>\n",
              "      <td>...</td>\n",
              "      <td>0</td>\n",
              "      <td>0</td>\n",
              "      <td>0</td>\n",
              "      <td>0</td>\n",
              "      <td>0</td>\n",
              "      <td>0</td>\n",
              "      <td>1</td>\n",
              "      <td>0</td>\n",
              "      <td>0</td>\n",
              "      <td>0</td>\n",
              "    </tr>\n",
              "  </tbody>\n",
              "</table>\n",
              "<p>5 rows × 144 columns</p>\n",
              "</div>"
            ],
            "text/plain": [
              "   Product_Info_1  Product_Info_3  Product_Info_4  Product_Info_5  \\\n",
              "0               1              10        0.076923               2   \n",
              "1               1              26        0.076923               2   \n",
              "2               1              26        0.076923               2   \n",
              "3               1              10        0.487179               2   \n",
              "4               1              26        0.230769               2   \n",
              "\n",
              "   Product_Info_6  Product_Info_7   Ins_Age        Ht        Wt       BMI ...  \\\n",
              "0               1               1  0.641791  0.581818  0.148536  0.323008 ...   \n",
              "1               3               1  0.059701  0.600000  0.131799  0.272288 ...   \n",
              "2               3               1  0.029851  0.745455  0.288703  0.428780 ...   \n",
              "3               3               1  0.164179  0.672727  0.205021  0.352438 ...   \n",
              "4               3               1  0.417910  0.654545  0.234310  0.424046 ...   \n",
              "\n",
              "   B2  C1  C2  C3  C4  D1  D2  D3  D4  E1  \n",
              "0   0   0   0   0   0   0   0   1   0   0  \n",
              "1   0   0   0   0   0   0   0   0   0   0  \n",
              "2   0   0   0   0   0   0   0   0   0   1  \n",
              "3   0   0   0   0   0   0   0   0   1   0  \n",
              "4   0   0   0   0   0   0   1   0   0   0  \n",
              "\n",
              "[5 rows x 144 columns]"
            ]
          },
          "metadata": {
            "tags": []
          },
          "execution_count": 94
        }
      ]
    },
    {
      "metadata": {
        "id": "v3EfH0c4gjGS",
        "colab_type": "code",
        "colab": {}
      },
      "cell_type": "code",
      "source": [
        "X = X.apply(pd.to_numeric, errors='coerce')"
      ],
      "execution_count": 0,
      "outputs": []
    },
    {
      "metadata": {
        "id": "YWTD6W97gjGW",
        "colab_type": "code",
        "colab": {}
      },
      "cell_type": "code",
      "source": [
        "X = X.fillna(0)"
      ],
      "execution_count": 0,
      "outputs": []
    },
    {
      "metadata": {
        "id": "GWNQvLnfgjGZ",
        "colab_type": "code",
        "colab": {},
        "outputId": "a958bacb-4859-4da2-e3db-7864afa1a265"
      },
      "cell_type": "code",
      "source": [
        "X.info()"
      ],
      "execution_count": 0,
      "outputs": [
        {
          "output_type": "stream",
          "text": [
            "<class 'pandas.core.frame.DataFrame'>\n",
            "RangeIndex: 59381 entries, 0 to 59380\n",
            "Columns: 144 entries, Product_Info_1 to E1\n",
            "dtypes: float64(13), int64(112), uint8(19)\n",
            "memory usage: 57.7 MB\n"
          ],
          "name": "stdout"
        }
      ]
    },
    {
      "metadata": {
        "id": "GKgpGW4DgjGd",
        "colab_type": "text"
      },
      "cell_type": "markdown",
      "source": [
        "# Visualization of Response Variable distibution"
      ]
    },
    {
      "metadata": {
        "id": "zXNgR6pSgjGd",
        "colab_type": "code",
        "colab": {},
        "outputId": "51b76b47-b4e2-4cb3-fb7c-5067fae0421b"
      },
      "cell_type": "code",
      "source": [
        "sns.countplot('Response',data=df_train)"
      ],
      "execution_count": 0,
      "outputs": [
        {
          "output_type": "execute_result",
          "data": {
            "text/plain": [
              "<matplotlib.axes._subplots.AxesSubplot at 0xac70b38>"
            ]
          },
          "metadata": {
            "tags": []
          },
          "execution_count": 7
        },
        {
          "output_type": "display_data",
          "data": {
            "image/png": "[encoded data removed]",
            "text/plain": [
              "<Figure size 432x288 with 1 Axes>"
            ]
          },
          "metadata": {
            "tags": []
          }
        }
      ]
    },
    {
      "metadata": {
        "id": "zaD3VbdGgjGh",
        "colab_type": "code",
        "colab": {},
        "outputId": "95bdc4c8-8ffc-404b-8572-99aa51b4af8e"
      },
      "cell_type": "code",
      "source": [
        "from sklearn.model_selection import train_test_split,KFold,cross_val_score\n",
        "from sklearn.preprocessing import LabelEncoder,MinMaxScaler,StandardScaler\n",
        "#\n",
        "from sklearn.metrics import classification_report,confusion_matrix,accuracy_score\n",
        "#\n",
        "from sklearn.pipeline import Pipeline\n",
        "#\n",
        "from sklearn.utils import resample\n",
        "\n",
        "#### Classification Models\n",
        "from sklearn.linear_model import LogisticRegression\n",
        "from sklearn.tree import DecisionTreeClassifier\n",
        "from sklearn.neighbors import KNeighborsClassifier\n",
        "from sklearn.naive_bayes import GaussianNB\n",
        "from sklearn.svm import SVC\n",
        "from sklearn.ensemble import GradientBoostingClassifier\n",
        "from sklearn.ensemble import AdaBoostClassifier\n",
        "from sklearn.ensemble import RandomForestClassifier\n",
        "from sklearn.ensemble import ExtraTreesClassifier\n",
        "#\n",
        "import warnings\n",
        "warnings.filterwarnings(\"ignore\")"
      ],
      "execution_count": 0,
      "outputs": [
        {
          "output_type": "stream",
          "text": [
            "D:\\Users\\Plaban_Nayak\\AppData\\Local\\Continuum\\anaconda3\\lib\\site-packages\\sklearn\\ensemble\\weight_boosting.py:29: DeprecationWarning: numpy.core.umath_tests is an internal NumPy module and should not be imported. It will be removed in a future NumPy release.\n",
            "  from numpy.core.umath_tests import inner1d\n"
          ],
          "name": "stderr"
        }
      ]
    },
    {
      "metadata": {
        "id": "BxuAbrlpgjGk",
        "colab_type": "text"
      },
      "cell_type": "markdown",
      "source": [
        "# DATA NORMALIZATION"
      ]
    },
    {
      "metadata": {
        "id": "eaO4IkuSgjGm",
        "colab_type": "code",
        "colab": {}
      },
      "cell_type": "code",
      "source": [
        "X = X.astype('float32')"
      ],
      "execution_count": 0,
      "outputs": []
    },
    {
      "metadata": {
        "id": "NBIw4ox9gjGo",
        "colab_type": "code",
        "colab": {},
        "outputId": "cedcc787-e7c1-4bd2-8ebc-b97e978138cb"
      },
      "cell_type": "code",
      "source": [
        "X.info()"
      ],
      "execution_count": 0,
      "outputs": [
        {
          "output_type": "stream",
          "text": [
            "<class 'pandas.core.frame.DataFrame'>\n",
            "RangeIndex: 59381 entries, 0 to 59380\n",
            "Columns: 144 entries, Product_Info_1 to E1\n",
            "dtypes: float32(144)\n",
            "memory usage: 32.6 MB\n"
          ],
          "name": "stdout"
        }
      ]
    },
    {
      "metadata": {
        "id": "MQYoZw9SgjGu",
        "colab_type": "code",
        "colab": {}
      },
      "cell_type": "code",
      "source": [
        "scaled = StandardScaler()\n",
        "X_scaled = scaled.fit_transform(X)"
      ],
      "execution_count": 0,
      "outputs": []
    },
    {
      "metadata": {
        "id": "EsFq5tnCgjGw",
        "colab_type": "code",
        "colab": {},
        "outputId": "d82a0fab-2dfa-486a-9d99-c32e95cfee59"
      },
      "cell_type": "code",
      "source": [
        "X_scaled.shape"
      ],
      "execution_count": 0,
      "outputs": [
        {
          "output_type": "execute_result",
          "data": {
            "text/plain": [
              "(59381, 144)"
            ]
          },
          "metadata": {
            "tags": []
          },
          "execution_count": 113
        }
      ]
    },
    {
      "metadata": {
        "id": "hsAX0INSgjG0",
        "colab_type": "code",
        "colab": {},
        "outputId": "3bbf7ce2-278a-4345-cb95-6d25cfd5c1cb"
      },
      "cell_type": "code",
      "source": [
        "X_scaled"
      ],
      "execution_count": 0,
      "outputs": [
        {
          "output_type": "execute_result",
          "data": {
            "text/plain": [
              "array([[-0.16452547, -2.84173109, -0.89194891, ...,  1.77381744,\n",
              "        -0.47181684, -0.21600075],\n",
              "       [-0.16452547,  0.312319  , -0.89194891, ..., -0.56375587,\n",
              "        -0.47181684, -0.21600075],\n",
              "       [-0.16452547,  0.312319  , -0.89194891, ..., -0.56375587,\n",
              "        -0.47181684,  4.62961345],\n",
              "       ...,\n",
              "       [-0.16452547,  0.312319  , -0.89194891, ..., -0.56375587,\n",
              "        -0.47181684,  4.62961345],\n",
              "       [-0.16452547, -2.84173109, -0.34747581, ..., -0.56375587,\n",
              "        -0.47181684, -0.21600075],\n",
              "       [-0.16452547,  0.312319  , -0.89194891, ..., -0.56375587,\n",
              "        -0.47181684, -0.21600075]])"
            ]
          },
          "metadata": {
            "tags": []
          },
          "execution_count": 114
        }
      ]
    },
    {
      "metadata": {
        "id": "PXRm2mafgjG5",
        "colab_type": "text"
      },
      "cell_type": "markdown",
      "source": [
        "# TRAIN TEST SPLIT the input data set"
      ]
    },
    {
      "metadata": {
        "id": "ayznhYwDgjG5",
        "colab_type": "code",
        "colab": {}
      },
      "cell_type": "code",
      "source": [
        "Y = df_train['Response'].values"
      ],
      "execution_count": 0,
      "outputs": []
    },
    {
      "metadata": {
        "id": "PQeMs9etgjG-",
        "colab_type": "code",
        "colab": {},
        "outputId": "d1e4515c-4667-410d-ed6f-8240b472fcc6"
      },
      "cell_type": "code",
      "source": [
        "Y.shape"
      ],
      "execution_count": 0,
      "outputs": [
        {
          "output_type": "execute_result",
          "data": {
            "text/plain": [
              "(59381,)"
            ]
          },
          "metadata": {
            "tags": []
          },
          "execution_count": 118
        }
      ]
    },
    {
      "metadata": {
        "id": "9NwN717HgjHE",
        "colab_type": "code",
        "colab": {},
        "outputId": "03cf6c2b-62f2-418d-aff2-c84204647b92"
      },
      "cell_type": "code",
      "source": [
        "#train test split\n",
        "\n",
        "X_train,X_test,y_train,y_test = train_test_split(X_scaled,Y,test_size=0.2,random_state=1)\n",
        "\n",
        "print('training data set shape : ',X_train.shape)\n",
        "print('test data set shape : ',X_test.shape)"
      ],
      "execution_count": 0,
      "outputs": [
        {
          "output_type": "stream",
          "text": [
            "training data set shape :  (47504, 144)\n",
            "test data set shape :  (11877, 144)\n"
          ],
          "name": "stdout"
        }
      ]
    },
    {
      "metadata": {
        "id": "VbKtfK23gjHH",
        "colab_type": "code",
        "colab": {}
      },
      "cell_type": "code",
      "source": [
        "lr = LogisticRegression()\n",
        "lr.fit(X_train,y_train)\n",
        "predict = lr.predict(X_test)"
      ],
      "execution_count": 0,
      "outputs": []
    },
    {
      "metadata": {
        "id": "bWxmifd1gjHK",
        "colab_type": "code",
        "colab": {},
        "outputId": "32dd3b6c-7d3a-4647-e895-72f12e94cbca"
      },
      "cell_type": "code",
      "source": [
        "accuracy_score(y_test,predict)"
      ],
      "execution_count": 0,
      "outputs": [
        {
          "output_type": "execute_result",
          "data": {
            "text/plain": [
              "0.49608486991664563"
            ]
          },
          "metadata": {
            "tags": []
          },
          "execution_count": 121
        }
      ]
    },
    {
      "metadata": {
        "id": "qATrpvIUgjHO",
        "colab_type": "code",
        "colab": {},
        "outputId": "38ea7e84-031d-4832-a9bb-23a528854c0b"
      },
      "cell_type": "code",
      "source": [
        "# Spot Check some Classification  Algorithms\n",
        "models = []\n",
        "models.append((\"LR\", LogisticRegression()))\n",
        "models.append((\"KNN\", KNeighborsClassifier()))\n",
        "models.append((\"DT\", DecisionTreeClassifier()))\n",
        "models.append((\"NB\", GaussianNB()))\n",
        "\n",
        "# Test options and evaluation metric\n",
        "num_folds =10\n",
        "seed = 1\n",
        "scoring = 'accuracy'\n",
        "\n",
        "# evaluate each model in turn\n",
        "results = []\n",
        "names = []\n",
        "\n",
        "for name,model in models:\n",
        "    kfold = KFold(n_splits=num_folds,random_state=1)\n",
        "    cv_results = cross_val_score(model,X_train,y_train,cv=kfold,scoring=scoring)\n",
        "    results.append(cv_results)\n",
        "    names.append(name)\n",
        "    msg = f\"{name} - results(mean) : {cv_results.mean():f} -results(std): {cv_results.std():f}\"\n",
        "    print(msg) "
      ],
      "execution_count": 0,
      "outputs": [
        {
          "output_type": "stream",
          "text": [
            "LR - results(mean) : 0.506842 -results(std): 0.006441\n",
            "KNN - results(mean) : 0.394177 -results(std): 0.004410\n",
            "DT - results(mean) : 0.442847 -results(std): 0.005385\n",
            "NB - results(mean) : 0.343066 -results(std): 0.007647\n"
          ],
          "name": "stdout"
        }
      ]
    },
    {
      "metadata": {
        "id": "mMSbfYwVgjHV",
        "colab_type": "text"
      },
      "cell_type": "markdown",
      "source": [
        "# Visualize the Comparison of algorithms using Box Plot"
      ]
    },
    {
      "metadata": {
        "id": "w2jYZhrOgjHW",
        "colab_type": "code",
        "colab": {},
        "outputId": "eec78c9c-8805-4b8f-f618-2d70eba0c342"
      },
      "cell_type": "code",
      "source": [
        "plt.figure(figsize=(20,15))\n",
        "sns.boxplot(x=names, y=results)\n",
        "plt.ylabel('Result_Scores')\n",
        "plt.show()"
      ],
      "execution_count": 0,
      "outputs": [
        {
          "output_type": "display_data",
          "data": {
            "image/png": "[encoded data removed]",
            "text/plain": [
              "<Figure size 1440x1080 with 1 Axes>"
            ]
          },
          "metadata": {
            "tags": []
          }
        }
      ]
    },
    {
      "metadata": {
        "id": "5-9kp9XxgjHc",
        "colab_type": "text"
      },
      "cell_type": "markdown",
      "source": [
        "#### Logistic Regression has better accuracy as compared to other algorithms but the accuracy is only 50.6%"
      ]
    },
    {
      "metadata": {
        "id": "fNsWz1EmgjHd",
        "colab_type": "text"
      },
      "cell_type": "markdown",
      "source": [
        "# Comparing ensemble algorithms\n",
        "\n",
        "#### What is an ensemble method?\n",
        "\n",
        "\n",
        "The idea here is to train multiple models, each with the objective to predict or classify a set of results.\n",
        "\n",
        "Most of the errors from a model’s learning are from three main factors:\n",
        "\n",
        "* variance, \n",
        "\n",
        "* noise, and \n",
        "\n",
        "* bias. \n",
        "\n",
        "\n",
        "By using ensemble methods, we are able to increase the stability of the final model and reduce the errors mentioned previously. By combining many models, we’re able to (mostly) reduce the variance, even when they are individually not great, as we won’t suffer from random errors from a single source.\n",
        "\n",
        "The main principle behind ensemble modelling is to group weak learners together to form one strong learner.\n",
        "\n",
        "From many, together they emerge as one.\n",
        "\n",
        "#### There are three main terms describing the ensemble (combination) of various models into one more effective model:\n",
        "\n",
        "* Bagging to decrease the model’s variance;\n",
        "\n",
        "* Boosting to decreasing the model’s bias, and;\n",
        "\n",
        "* Stacking to increasing the predictive force of the classifier.\n",
        "\n"
      ]
    },
    {
      "metadata": {
        "id": "IzrhRQPYgjHg",
        "colab_type": "code",
        "colab": {},
        "outputId": "0160db91-8374-4617-a4c9-3ded544c55ea"
      },
      "cell_type": "code",
      "source": [
        "# Compare Algorithms\n",
        "\n",
        "pipelines = []\n",
        "pipelines.append((\"AB\",\n",
        "                  Pipeline([(\"AB\", AdaBoostClassifier())])))\n",
        "pipelines.append((\"GBM\",\n",
        "                  Pipeline([(\"GBM\", GradientBoostingClassifier())])))\n",
        "pipelines.append((\"RF\",\n",
        "                  Pipeline([(\"RF\", RandomForestClassifier())])))\n",
        "pipelines.append((\"ET\",\n",
        "                  Pipeline([(\"ET\", ExtraTreesClassifier())])))\n",
        "\n",
        "results = []\n",
        "names = []\n",
        "\n",
        "#\n",
        "for name,model in pipelines:\n",
        "    kfold = KFold(n_splits = num_folds,random_state=1)\n",
        "    cv_results = cross_val_score(model,X_train,y_train,cv=kfold,scoring='accuracy')\n",
        "    results.append(cv_results)\n",
        "    names.append(name)\n",
        "    msg = f\"{name} - results(mean) : {cv_results.mean():f} -results(std): {cv_results.std():f}\"\n",
        "    print(msg)"
      ],
      "execution_count": 0,
      "outputs": [
        {
          "output_type": "stream",
          "text": [
            "AB - results(mean) : 0.511704 -results(std): 0.006959\n",
            "GBM - results(mean) : 0.573320 -results(std): 0.004510\n",
            "RF - results(mean) : 0.511620 -results(std): 0.006809\n",
            "ET - results(mean) : 0.483223 -results(std): 0.004896\n"
          ],
          "name": "stdout"
        }
      ]
    },
    {
      "metadata": {
        "id": "_DVInMmTgjHi",
        "colab_type": "code",
        "colab": {},
        "outputId": "8419df9f-1093-416b-c722-c0e0e99af0ba"
      },
      "cell_type": "code",
      "source": [
        "pipelines"
      ],
      "execution_count": 0,
      "outputs": [
        {
          "output_type": "execute_result",
          "data": {
            "text/plain": [
              "[('AB', Pipeline(memory=None,\n",
              "       steps=[('AB', AdaBoostClassifier(algorithm='SAMME.R', base_estimator=None,\n",
              "            learning_rate=1.0, n_estimators=50, random_state=None))])),\n",
              " ('GBM', Pipeline(memory=None,\n",
              "       steps=[('GBM', GradientBoostingClassifier(criterion='friedman_mse', init=None,\n",
              "                learning_rate=0.1, loss='deviance', max_depth=3,\n",
              "                max_features=None, max_leaf_nodes=None,\n",
              "                min_impurity_decrease=0.0, min_impurity_split=None,\n",
              "                min_samples_leaf=1, min_samples_split=2,\n",
              "                min_weight_fraction_leaf=0.0, n_estimators=100,\n",
              "                presort='auto', random_state=None, subsample=1.0, verbose=0,\n",
              "                warm_start=False))])),\n",
              " ('RF', Pipeline(memory=None,\n",
              "       steps=[('RF', RandomForestClassifier(bootstrap=True, class_weight=None, criterion='gini',\n",
              "              max_depth=None, max_features='auto', max_leaf_nodes=None,\n",
              "              min_impurity_decrease=0.0, min_impurity_split=None,\n",
              "              min_samples_leaf=1, min_samples_split=2,\n",
              "              min_weight_fraction_leaf=0.0, n_estimators=10, n_jobs=1,\n",
              "              oob_score=False, random_state=None, verbose=0,\n",
              "              warm_start=False))])),\n",
              " ('ET', Pipeline(memory=None,\n",
              "       steps=[('ET', ExtraTreesClassifier(bootstrap=False, class_weight=None, criterion='gini',\n",
              "             max_depth=None, max_features='auto', max_leaf_nodes=None,\n",
              "             min_impurity_decrease=0.0, min_impurity_split=None,\n",
              "             min_samples_leaf=1, min_samples_split=2,\n",
              "             min_weight_fraction_leaf=0.0, n_estimators=10, n_jobs=1,\n",
              "             oob_score=False, random_state=None, verbose=0, warm_start=False))]))]"
            ]
          },
          "metadata": {
            "tags": []
          },
          "execution_count": 155
        }
      ]
    },
    {
      "metadata": {
        "id": "crTIw1ObgjHv",
        "colab_type": "text"
      },
      "cell_type": "markdown",
      "source": [
        "# Compare Algorithms - Visualization"
      ]
    },
    {
      "metadata": {
        "id": "f-9Aof8AgjHw",
        "colab_type": "code",
        "colab": {},
        "outputId": "ed057e00-3976-48f5-c64a-3668f4693426"
      },
      "cell_type": "code",
      "source": [
        "plt.figure(figsize=(11,8))\n",
        "sns.boxplot(x=names, y=results)\n",
        "plt.ylabel('Result_Scores')\n",
        "plt.show()"
      ],
      "execution_count": 0,
      "outputs": [
        {
          "output_type": "display_data",
          "data": {
            "image/png": "[encoded data removed]",
            "text/plain": [
              "<Figure size 792x576 with 1 Axes>"
            ]
          },
          "metadata": {
            "tags": []
          }
        }
      ]
    },
    {
      "metadata": {
        "id": "9AO79GUBgjH0",
        "colab_type": "text"
      },
      "cell_type": "markdown",
      "source": [
        "#### Note GBM classifier has the best accuracy as compared to other Ensemble techniques"
      ]
    },
    {
      "metadata": {
        "id": "klEdtkXDgjH4",
        "colab_type": "text"
      },
      "cell_type": "markdown",
      "source": [
        "# Using XGBOOSTClassifier Boosting Method of Ensemble model"
      ]
    },
    {
      "metadata": {
        "id": "vLdYsAysgjH6",
        "colab_type": "code",
        "colab": {}
      },
      "cell_type": "code",
      "source": [
        "from xgboost.sklearn import XGBClassifier\n",
        "#set the parameters for the xgbosst model\n",
        "params = {\n",
        "    'objective': 'binary:logistic',\n",
        "    'max_depth': 2,\n",
        "    'learning_rate': 1.0,\n",
        "    'silent': 1.0,\n",
        "    'n_estimators': 5\n",
        "}\n",
        "params['eval_metric'] = ['logloss', 'auc']"
      ],
      "execution_count": 0,
      "outputs": []
    },
    {
      "metadata": {
        "id": "V12WhuXbgjH8",
        "colab_type": "text"
      },
      "cell_type": "markdown",
      "source": [
        "# Train the XGBClassifier model"
      ]
    },
    {
      "metadata": {
        "id": "D_p3HfapgjH9",
        "colab_type": "code",
        "colab": {}
      },
      "cell_type": "code",
      "source": [
        "bst = XGBClassifier(**params).fit(X_train,y_train)"
      ],
      "execution_count": 0,
      "outputs": []
    },
    {
      "metadata": {
        "id": "j_Tb4dysgjH_",
        "colab_type": "text"
      },
      "cell_type": "markdown",
      "source": [
        "# Predict the Response"
      ]
    },
    {
      "metadata": {
        "id": "geheKOYLgjH_",
        "colab_type": "code",
        "colab": {}
      },
      "cell_type": "code",
      "source": [
        "y_pred = bst.predict(X_test)"
      ],
      "execution_count": 0,
      "outputs": []
    },
    {
      "metadata": {
        "id": "MTodpu_egjIK",
        "colab_type": "code",
        "colab": {},
        "outputId": "0b1098c2-8412-4535-b101-35c92a2471bc"
      },
      "cell_type": "code",
      "source": [
        "print(\"Accuracy score:\", accuracy_score(y_test, y_pred))\n",
        "print(\"Classification report\")\n",
        "print(classification_report(y_test, y_pred))"
      ],
      "execution_count": 0,
      "outputs": [
        {
          "output_type": "stream",
          "text": [
            "Accuracy score: 0.5232802896354298\n",
            "Classification report\n",
            "             precision    recall  f1-score   support\n",
            "\n",
            "          1       0.42      0.16      0.23      1280\n",
            "          2       0.45      0.17      0.24      1326\n",
            "          3       0.56      0.45      0.50       194\n",
            "          4       0.57      0.70      0.63       283\n",
            "          5       0.52      0.57      0.55      1122\n",
            "          6       0.38      0.42      0.40      2206\n",
            "          7       0.41      0.27      0.33      1608\n",
            "          8       0.62      0.91      0.74      3858\n",
            "\n",
            "avg / total       0.49      0.52      0.48     11877\n",
            "\n"
          ],
          "name": "stdout"
        }
      ]
    },
    {
      "metadata": {
        "id": "Drx0OAM2gjIN",
        "colab_type": "code",
        "colab": {},
        "outputId": "867e72f2-b1c7-42ff-fd58-fdd7aab80c01"
      },
      "cell_type": "code",
      "source": [
        "import scikitplot\n",
        "\n",
        "scikitplot.metrics.plot_confusion_matrix(y_test,y_pred)"
      ],
      "execution_count": 0,
      "outputs": [
        {
          "output_type": "execute_result",
          "data": {
            "text/plain": [
              "<matplotlib.axes._subplots.AxesSubplot at 0x32778240>"
            ]
          },
          "metadata": {
            "tags": []
          },
          "execution_count": 136
        },
        {
          "output_type": "display_data",
          "data": {
            "text/plain": [
              "<Figure size 1440x792 with 0 Axes>"
            ]
          },
          "metadata": {
            "tags": []
          }
        },
        {
          "output_type": "display_data",
          "data": {
            "image/png": "[encoded data removed]",
            "text/plain": [
              "<Figure size 432x288 with 2 Axes>"
            ]
          },
          "metadata": {
            "tags": []
          }
        }
      ]
    },
    {
      "metadata": {
        "id": "jsYfpdTLgjIQ",
        "colab_type": "text"
      },
      "cell_type": "markdown",
      "source": [
        "# Choose Optimal Features"
      ]
    },
    {
      "metadata": {
        "id": "Mf1KoifzgjIS",
        "colab_type": "code",
        "colab": {},
        "outputId": "04cd3cb8-2aef-4488-b275-6fcd4cb69be1"
      },
      "cell_type": "code",
      "source": [
        "from sklearn.feature_selection import SelectKBest\n",
        "from sklearn.feature_selection import chi2\n",
        "select_feature = SelectKBest(chi2,k=5)\n",
        "X_train,X_test,y_train,y_test = train_test_split(X, df_train['Response'],test_size=0.2,random_state=1)\n",
        "select_feature.fit(X_train,y_train)\n",
        "print(\"Feature_List : \",X_train.columns)\n",
        "print(\"Features Scores : \",np.round(np.array(select_feature.scores_),2))"
      ],
      "execution_count": 0,
      "outputs": [
        {
          "output_type": "stream",
          "text": [
            "Feature_List :  Index(['Product_Info_1', 'Product_Info_3', 'Product_Info_4', 'Product_Info_5',\n",
            "       'Product_Info_6', 'Product_Info_7', 'Ins_Age', 'Ht', 'Wt', 'BMI',\n",
            "       ...\n",
            "       'B2', 'C1', 'C2', 'C3', 'C4', 'D1', 'D2', 'D3', 'D4', 'E1'],\n",
            "      dtype='object', length=144)\n",
            "Features Scores :  [3.2200000e+00 4.9594000e+02 5.7789000e+02 1.2000000e-01 2.0560000e+01\n",
            " 1.6700000e+00 3.2291000e+02 9.4900000e+00 2.8279000e+02 3.9162000e+02\n",
            " 2.5710000e+01 1.2660600e+03 3.9958000e+02 1.1790000e+01 2.3810000e+01\n",
            " 1.0222000e+02 8.9820000e+01 1.5600000e+00 1.2530000e+01 3.0800000e+00\n",
            " 2.9140000e+01 3.6131000e+02 3.9740000e+01 2.5600000e+01 7.7430000e+01\n",
            " 1.4501000e+02 1.5005000e+02 4.8000000e-01 1.4829000e+02 1.2690000e+01\n",
            " 3.3190000e+01 5.3820000e+01 1.1480000e+01 1.8900000e+00 3.3630000e+01\n",
            " 8.8000000e-01 7.6506200e+03 2.9650200e+03 6.0000000e+00 9.4755000e+02\n",
            " 2.7200000e+00 9.6600000e+01 1.0000000e+00 6.3300000e+00 2.9690000e+01\n",
            " 1.6825570e+04 3.0000000e-01 7.0000000e+00 1.3518000e+02 7.2000000e-01\n",
            " 3.4521692e+05 4.3063000e+02 2.1000000e+00 2.4390000e+01 4.4000000e+00\n",
            " 2.6600000e+00 1.3810000e+01 1.0700000e+00 1.7326500e+03 1.2874930e+04\n",
            " 9.4700000e+00 4.0400000e+00 5.4100000e+00 3.7490000e+01 1.1943000e+02\n",
            " 1.8440000e+01 1.1400000e+00 1.8444000e+03 1.2641000e+02 2.8630000e+01\n",
            " 3.6000000e-01 4.8800000e+00 1.6800000e+00 6.8000000e-01 2.9252000e+02\n",
            " 2.1330000e+01 9.6380000e+01 4.6029000e+02 1.2870000e+01 3.5050000e+03\n",
            " 8.3270000e+01 3.3110000e+01 1.6280000e+01 3.4970000e+01 2.1180000e+01\n",
            " 7.1140000e+01 1.9012000e+02 3.9250000e+01 8.2160000e+01 7.0860000e+01\n",
            " 5.3160000e+01 4.4957200e+03 1.4742000e+02 2.9460000e+01 8.1420000e+01\n",
            " 7.1690000e+01 1.4550000e+01 4.4120000e+01 1.9072000e+02 9.1924000e+02\n",
            " 3.0873000e+02 7.6723000e+02 2.4570000e+01 1.2502000e+02 5.3440000e+01\n",
            " 2.9280000e+01 8.9880000e+01 1.4589000e+02 1.1230000e+01 1.7719000e+02\n",
            " 7.5660000e+01 1.5855000e+02 6.2230000e+01 3.3193000e+02 5.7158000e+02\n",
            " 2.3300000e+01 2.6580000e+02 2.7650000e+01 4.3356000e+02 1.7902000e+02\n",
            " 1.7750000e+01 1.0880000e+01 2.1107000e+02 2.1984000e+02 1.2743400e+03\n",
            " 1.6886000e+02 3.1510000e+01 3.8660000e+01 3.5580000e+01 1.3916000e+02\n",
            " 4.9894000e+02 2.8276500e+03 2.5657000e+02 8.4230000e+01 1.4173000e+02\n",
            " 1.8560000e+01 1.7850000e+01 6.3700000e+00 1.5790000e+01 9.4287000e+02\n",
            " 3.2853000e+02 2.5532000e+02 1.0519700e+03 1.2854000e+02]\n"
          ],
          "name": "stdout"
        }
      ]
    },
    {
      "metadata": {
        "id": "fu3SpCfbgjIU",
        "colab_type": "code",
        "colab": {},
        "outputId": "f28c957d-ef83-4450-b132-e4cf41c613b4"
      },
      "cell_type": "code",
      "source": [
        "X_train_2 = select_feature.transform(X_train)\n",
        "X_train_2.shape"
      ],
      "execution_count": 0,
      "outputs": [
        {
          "output_type": "execute_result",
          "data": {
            "text/plain": [
              "(47504, 5)"
            ]
          },
          "metadata": {
            "tags": []
          },
          "execution_count": 162
        }
      ]
    },
    {
      "metadata": {
        "id": "cfx6eabfgjIX",
        "colab_type": "code",
        "colab": {},
        "outputId": "944a8a09-b104-429e-972e-cff64d4c9308"
      },
      "cell_type": "code",
      "source": [
        "X_test_2 = select_feature.transform(X_test)\n",
        "X_test_2.shape"
      ],
      "execution_count": 0,
      "outputs": [
        {
          "output_type": "execute_result",
          "data": {
            "text/plain": [
              "(11877, 5)"
            ]
          },
          "metadata": {
            "tags": []
          },
          "execution_count": 163
        }
      ]
    },
    {
      "metadata": {
        "id": "Cd0pBmXvgjIc",
        "colab_type": "code",
        "colab": {},
        "outputId": "b279c284-cac1-490e-b19d-778f7b849c32"
      },
      "cell_type": "code",
      "source": [
        "from sklearn.multiclass import OneVsRestClassifier\n",
        "from imblearn.metrics import classification_report_imbalanced\n",
        "from imblearn.metrics import classification_report_imbalanced\n",
        "classifiers = {'RandomForestClassifier':RandomForestClassifier(),\n",
        "               'GradientBoostingClassifier':GradientBoostingClassifier(),\n",
        "               'ExtraTreesClassifier':ExtraTreesClassifier(),\n",
        "               'AdaBoostClassifier':AdaBoostClassifier(),\n",
        "               'LogisticRegression':LogisticRegression()}\n",
        "for keys,items in classifiers.items():\n",
        "  classifier = OneVsRestClassifier(items)\n",
        "\n",
        "  # train\n",
        "  classifier.fit(X_train_2, y_train)\n",
        "\n",
        "  # predict\n",
        "  predictions = classifier.predict(X_test_2)\n",
        "  \n",
        "  print(\"Accuracy_Score for {} model : {}\".format(keys,accuracy_score(y_test,predictions)))\n",
        "  print(\"=\"*80)\n",
        "  print(\"classification_report_imbalanced\")\n",
        "  print(classification_report_imbalanced(y_test, predictions))\n",
        "  print(\"=\"*80)   \n",
        " \n"
      ],
      "execution_count": 0,
      "outputs": [
        {
          "output_type": "stream",
          "text": [
            "Accuracy_Score for RandomForestClassifier model : 0.38401953355224383\n",
            "================================================================================\n",
            "classification_report_imbalanced\n",
            "                   pre       rec       spe        f1       geo       iba       sup\n",
            "\n",
            "          1       0.22      0.09      0.96      0.13      0.30      0.08      1280\n",
            "          2       0.15      0.03      0.98      0.05      0.16      0.02      1326\n",
            "          3       0.22      0.11      0.99      0.14      0.33      0.10       194\n",
            "          4       0.37      0.55      0.98      0.44      0.73      0.52       283\n",
            "          5       0.12      0.02      0.99      0.03      0.14      0.02      1122\n",
            "          6       0.28      0.16      0.90      0.21      0.38      0.14      2206\n",
            "          7       0.25      0.19      0.91      0.21      0.41      0.16      1608\n",
            "          8       0.45      0.92      0.46      0.60      0.65      0.44      3858\n",
            "\n",
            "avg / total       0.30      0.38      0.79      0.30      0.42      0.22     11877\n",
            "\n",
            "================================================================================\n",
            "Accuracy_Score for GradientBoostingClassifier model : 0.3994274648480256\n",
            "================================================================================\n",
            "classification_report_imbalanced\n",
            "                   pre       rec       spe        f1       geo       iba       sup\n",
            "\n",
            "          1       0.25      0.08      0.97      0.12      0.28      0.07      1280\n",
            "          2       0.13      0.01      0.99      0.01      0.08      0.01      1326\n",
            "          3       0.28      0.07      1.00      0.11      0.26      0.06       194\n",
            "          4       0.38      0.64      0.97      0.47      0.79      0.60       283\n",
            "          5       0.00      0.00      1.00      0.00      0.00      0.00      1122\n",
            "          6       0.32      0.16      0.92      0.22      0.39      0.14      2206\n",
            "          7       0.26      0.21      0.91      0.23      0.44      0.18      1608\n",
            "          8       0.44      0.97      0.41      0.61      0.63      0.42      3858\n",
            "\n",
            "avg / total       0.29      0.40      0.78      0.30      0.40      0.21     11877\n",
            "\n",
            "================================================================================\n",
            "Accuracy_Score for ExtraTreesClassifier model : 0.38519828239454407\n",
            "================================================================================\n",
            "classification_report_imbalanced\n",
            "                   pre       rec       spe        f1       geo       iba       sup\n",
            "\n",
            "          1       0.24      0.09      0.97      0.13      0.29      0.08      1280\n",
            "          2       0.15      0.02      0.98      0.04      0.15      0.02      1326\n",
            "          3       0.18      0.10      0.99      0.13      0.32      0.09       194\n",
            "          4       0.36      0.54      0.98      0.43      0.73      0.51       283\n",
            "          5       0.10      0.01      0.99      0.02      0.11      0.01      1122\n",
            "          6       0.27      0.16      0.90      0.20      0.38      0.13      2206\n",
            "          7       0.25      0.19      0.91      0.22      0.42      0.16      1608\n",
            "          8       0.45      0.93      0.45      0.60      0.65      0.44      3858\n",
            "\n",
            "avg / total       0.29      0.39      0.78      0.30      0.42      0.21     11877\n",
            "\n",
            "================================================================================\n",
            "Accuracy_Score for AdaBoostClassifier model : 0.4008588027279616\n",
            "================================================================================\n",
            "classification_report_imbalanced\n",
            "                   pre       rec       spe        f1       geo       iba       sup\n",
            "\n",
            "          1       0.26      0.08      0.97      0.12      0.28      0.07      1280\n",
            "          2       0.12      0.00      1.00      0.00      0.03      0.00      1326\n",
            "          3       0.22      0.05      1.00      0.08      0.22      0.04       194\n",
            "          4       0.37      0.59      0.98      0.46      0.76      0.55       283\n",
            "          5       0.00      0.00      1.00      0.00      0.00      0.00      1122\n",
            "          6       0.38      0.14      0.95      0.20      0.36      0.12      2206\n",
            "          7       0.25      0.27      0.88      0.26      0.48      0.22      1608\n",
            "          8       0.44      0.97      0.41      0.61      0.63      0.42      3858\n",
            "\n",
            "avg / total       0.30      0.40      0.78      0.30      0.39      0.21     11877\n",
            "\n",
            "================================================================================\n",
            "Accuracy_Score for LogisticRegression model : 0.38772417277090176\n",
            "================================================================================\n",
            "classification_report_imbalanced\n",
            "                   pre       rec       spe        f1       geo       iba       sup\n",
            "\n",
            "          1       0.30      0.07      0.98      0.11      0.26      0.06      1280\n",
            "          2       0.00      0.00      1.00      0.00      0.00      0.00      1326\n",
            "          3       0.00      0.00      1.00      0.00      0.00      0.00       194\n",
            "          4       0.30      0.69      0.96      0.41      0.81      0.64       283\n",
            "          5       0.00      0.00      1.00      0.00      0.00      0.00      1122\n",
            "          6       0.27      0.09      0.95      0.13      0.28      0.07      2206\n",
            "          7       0.24      0.29      0.86      0.26      0.50      0.23      1608\n",
            "          8       0.44      0.95      0.42      0.60      0.64      0.42      3858\n",
            "\n",
            "avg / total       0.27      0.39      0.78      0.28      0.37      0.20     11877\n",
            "\n",
            "================================================================================\n"
          ],
          "name": "stdout"
        }
      ]
    },
    {
      "metadata": {
        "id": "J7etg20XgjIg",
        "colab_type": "code",
        "colab": {}
      },
      "cell_type": "code",
      "source": [
        "from sklearn.feature_selection  import RFECV\n",
        "rf = RandomForestClassifier()\n",
        "rfecv = RFECV(estimator=rf,step=1,cv=5,scoring='accuracy')\n",
        "rfecv = rfecv.fit(X_train,y_train)\n",
        "print(\"Optimal Number of Features : \",rfecv.n_features_)\n",
        "print(\"Best Features : \",X_train.columns[rfecv.support_])"
      ],
      "execution_count": 0,
      "outputs": []
    },
    {
      "metadata": {
        "id": "IY9B39JTgjIi",
        "colab_type": "code",
        "colab": {},
        "outputId": "2386804f-63f0-492f-962a-766ef034ad70"
      },
      "cell_type": "code",
      "source": [
        "#!pip install imbalanced-learn\n",
        "#conda install -c conda-forge imbalanced-learn"
      ],
      "execution_count": 0,
      "outputs": [
        {
          "output_type": "stream",
          "text": [
            "Collecting imbalanced-learn\n",
            "  Downloading https://files.pythonhosted.org/packages/e5/4c/7557e1c2e791bd43878f8c82065bddc5798252084f26ef44527c02262af1/imbalanced_learn-0.4.3-py3-none-any.whl (166kB)\n",
            "Collecting scikit-learn>=0.20 (from imbalanced-learn)\n",
            "  Downloading https://files.pythonhosted.org/packages/e7/e4/56757c30853899077cf042f78fb981c0b60f7af4e7a54ca18328b80e0bff/scikit_learn-0.20.3-cp36-cp36m-win_amd64.whl (4.8MB)\n",
            "Requirement already satisfied: numpy>=1.8.2 in d:\\users\\plaban_nayak\\appdata\\local\\continuum\\anaconda3\\lib\\site-packages (from imbalanced-learn) (1.15.4)\n",
            "Requirement already satisfied: scipy>=0.13.3 in d:\\users\\plaban_nayak\\appdata\\local\\continuum\\anaconda3\\lib\\site-packages (from imbalanced-learn) (1.1.0)\n",
            "Installing collected packages: scikit-learn, imbalanced-learn\n",
            "  Found existing installation: scikit-learn 0.19.1\n",
            "    Uninstalling scikit-learn-0.19.1:\n"
          ],
          "name": "stdout"
        },
        {
          "output_type": "stream",
          "text": [
            "fbprophet 0.4.post2 requires setuptools-git>=1.2, which is not installed.\n",
            "Could not install packages due to an EnvironmentError: [WinError 5] Access is denied: 'd:\\\\users\\\\plaban_nayak\\\\appdata\\\\local\\\\continuum\\\\anaconda3\\\\lib\\\\site-packages\\\\sklearn\\\\ensemble\\\\_gradient_boosting.cp36-win_amd64.pyd'\n",
            "Consider using the `--user` option or check the permissions.\n",
            "\n",
            "You are using pip version 10.0.1, however version 19.0.3 is available.\n",
            "You should consider upgrading via the 'python -m pip install --upgrade pip' command.\n"
          ],
          "name": "stderr"
        }
      ]
    },
    {
      "metadata": {
        "id": "8BRQ_0NEgjIk",
        "colab_type": "text"
      },
      "cell_type": "markdown",
      "source": [
        "# SMOTE (Synthetic Minority Over-sampling Technique)\n",
        "\n",
        "SMOTE is an over-sampling method. It creates synthetic samples of the minority class."
      ]
    },
    {
      "metadata": {
        "id": "lOPxeFAxgjIl",
        "colab_type": "code",
        "colab": {},
        "outputId": "c9a357a7-db4d-43f6-b9c0-6c6b96287c7c"
      },
      "cell_type": "code",
      "source": [
        "from imblearn.over_sampling import SMOTE\n",
        "smote = SMOTE('minority')\n",
        "x_sm,y_sm =smote.fit_sample(X_train,y_train)\n",
        "print(x_sm.shape,y_sm.shape)"
      ],
      "execution_count": 0,
      "outputs": [
        {
          "output_type": "stream",
          "text": [
            "(62316, 144) (62316,)\n"
          ],
          "name": "stdout"
        }
      ]
    },
    {
      "metadata": {
        "id": "5YTJSFWPgjIn",
        "colab_type": "code",
        "colab": {},
        "outputId": "e5514032-52c7-43f8-f29a-971ac481856d"
      },
      "cell_type": "code",
      "source": [
        "from sklearn.multiclass import OneVsRestClassifier\n",
        "from imblearn.metrics import classification_report_imbalanced\n",
        "from imblearn.metrics import classification_report_imbalanced\n",
        "classifiers = {'RandomForestClassifier':RandomForestClassifier(),\n",
        "               'GradientBoostingClassifier':GradientBoostingClassifier(),\n",
        "               'ExtraTreesClassifier':ExtraTreesClassifier(),\n",
        "               'AdaBoostClassifier':AdaBoostClassifier(),\n",
        "               'LogisticRegression':LogisticRegression()}\n",
        "for keys,items in classifiers.items():\n",
        "  classifier = OneVsRestClassifier(items)\n",
        "\n",
        "  # train\n",
        "  classifier.fit(x_sm, y_sm)\n",
        "\n",
        "  # predict\n",
        "  predictions = classifier.predict(X_test)\n",
        "  \n",
        "  print(\"Accuracy_Score for {} model : {}\".format(keys,accuracy_score(y_test,predictions)))\n",
        "  print(\"=\"*80)\n",
        "  print(\"classification_report_imbalanced\")\n",
        "  print(classification_report_imbalanced(y_test, predictions))\n",
        "  print(\"=\"*80)   "
      ],
      "execution_count": 0,
      "outputs": [
        {
          "output_type": "stream",
          "text": [
            "Accuracy_Score for RandomForestClassifier model : 0.5242906457859728\n",
            "================================================================================\n",
            "classification_report_imbalanced\n",
            "                   pre       rec       spe        f1       geo       iba       sup\n",
            "\n",
            "          1       0.41      0.16      0.97      0.23      0.39      0.14      1280\n",
            "          2       0.37      0.20      0.96      0.26      0.44      0.18      1326\n",
            "          3       0.35      0.53      0.98      0.42      0.72      0.49       194\n",
            "          4       0.54      0.36      0.99      0.43      0.60      0.33       283\n",
            "          5       0.56      0.46      0.96      0.51      0.67      0.42      1122\n",
            "          6       0.43      0.45      0.87      0.44      0.62      0.37      2206\n",
            "          7       0.39      0.37      0.91      0.38      0.58      0.32      1608\n",
            "          8       0.63      0.89      0.75      0.74      0.82      0.68      3858\n",
            "\n",
            "avg / total       0.50      0.52      0.87      0.49      0.64      0.42     11877\n",
            "\n",
            "================================================================================\n",
            "Accuracy_Score for GradientBoostingClassifier model : 0.5557800791445652\n",
            "================================================================================\n",
            "classification_report_imbalanced\n",
            "                   pre       rec       spe        f1       geo       iba       sup\n",
            "\n",
            "          1       0.49      0.17      0.98      0.25      0.41      0.15      1280\n",
            "          2       0.42      0.21      0.96      0.28      0.45      0.19      1326\n",
            "          3       0.35      0.71      0.98      0.47      0.83      0.68       194\n",
            "          4       0.61      0.36      0.99      0.45      0.60      0.34       283\n",
            "          5       0.58      0.54      0.96      0.56      0.72      0.50      1122\n",
            "          6       0.46      0.52      0.86      0.49      0.67      0.43      2206\n",
            "          7       0.46      0.38      0.93      0.42      0.59      0.33      1608\n",
            "          8       0.66      0.91      0.77      0.76      0.84      0.71      3858\n",
            "\n",
            "avg / total       0.54      0.56      0.88      0.52      0.67      0.46     11877\n",
            "\n",
            "================================================================================\n",
            "Accuracy_Score for ExtraTreesClassifier model : 0.48682327187000085\n",
            "================================================================================\n",
            "classification_report_imbalanced\n",
            "                   pre       rec       spe        f1       geo       iba       sup\n",
            "\n",
            "          1       0.37      0.18      0.96      0.25      0.42      0.16      1280\n",
            "          2       0.36      0.21      0.95      0.27      0.45      0.18      1326\n",
            "          3       0.32      0.53      0.98      0.40      0.72      0.50       194\n",
            "          4       0.45      0.30      0.99      0.36      0.54      0.27       283\n",
            "          5       0.49      0.31      0.97      0.38      0.54      0.28      1122\n",
            "          6       0.39      0.41      0.85      0.40      0.59      0.33      2206\n",
            "          7       0.34      0.29      0.91      0.31      0.51      0.24      1608\n",
            "          8       0.60      0.88      0.72      0.71      0.80      0.64      3858\n",
            "\n",
            "avg / total       0.46      0.49      0.86      0.45      0.61      0.38     11877\n",
            "\n",
            "================================================================================\n",
            "Accuracy_Score for AdaBoostClassifier model : 0.5274901069293593\n",
            "================================================================================\n",
            "classification_report_imbalanced\n",
            "                   pre       rec       spe        f1       geo       iba       sup\n",
            "\n",
            "          1       0.45      0.20      0.97      0.27      0.44      0.18      1280\n",
            "          2       0.39      0.19      0.96      0.25      0.43      0.17      1326\n",
            "          3       0.28      0.72      0.97      0.41      0.84      0.68       194\n",
            "          4       0.57      0.22      1.00      0.32      0.47      0.20       283\n",
            "          5       0.53      0.51      0.95      0.52      0.70      0.46      1122\n",
            "          6       0.43      0.40      0.88      0.41      0.59      0.33      2206\n",
            "          7       0.42      0.35      0.93      0.38      0.57      0.30      1608\n",
            "          8       0.63      0.92      0.74      0.75      0.83      0.70      3858\n",
            "\n",
            "avg / total       0.50      0.53      0.87      0.49      0.64      0.43     11877\n",
            "\n",
            "================================================================================\n",
            "Accuracy_Score for LogisticRegression model : 0.46787909404731837\n",
            "================================================================================\n",
            "classification_report_imbalanced\n",
            "                   pre       rec       spe        f1       geo       iba       sup\n",
            "\n",
            "          1       0.39      0.20      0.96      0.27      0.44      0.18      1280\n",
            "          2       0.34      0.18      0.96      0.23      0.41      0.16      1326\n",
            "          3       0.14      0.86      0.91      0.23      0.88      0.78       194\n",
            "          4       0.22      0.04      1.00      0.07      0.21      0.04       283\n",
            "          5       0.47      0.29      0.97      0.35      0.53      0.26      1122\n",
            "          6       0.38      0.31      0.89      0.34      0.52      0.25      2206\n",
            "          7       0.39      0.25      0.94      0.31      0.49      0.22      1608\n",
            "          8       0.61      0.90      0.72      0.73      0.81      0.66      3858\n",
            "\n",
            "avg / total       0.45      0.47      0.87      0.43      0.59      0.37     11877\n",
            "\n",
            "================================================================================\n"
          ],
          "name": "stdout"
        }
      ]
    },
    {
      "metadata": {
        "id": "Fq65SpO5gjIp",
        "colab_type": "code",
        "colab": {}
      },
      "cell_type": "code",
      "source": [
        "# Create a pipeline\n",
        "pipeline = make_pipeline(NearMiss(version=2),\n",
        "                         LinearSVC(random_state=RANDOM_STATE))\n",
        "pipeline.fit(X_train, y_train)\n",
        "\n",
        "# Classify and report the results\n",
        "print(classification_report_imbalanced(y_test, pipeline.predict(X_test)))"
      ],
      "execution_count": 0,
      "outputs": []
    }
  ]
}